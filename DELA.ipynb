{
 "cells": [
  {
   "cell_type": "markdown",
   "id": "fb0a21ca",
   "metadata": {},
   "source": [
    "# Notebook Setup"
   ]
  },
  {
   "cell_type": "code",
   "execution_count": 1,
   "id": "de4f1ebb",
   "metadata": {},
   "outputs": [],
   "source": [
    "import matplotlib.pyplot as plt\n",
    "import pandas as pd\n",
    "import seaborn as sns\n",
    "from sklearn.preprocessing import StandardScaler\n",
    "from mpl_toolkits.mplot3d import Axes3D\n",
    "import numpy as np\n",
    "from sklearn.feature_selection import SelectKBest, mutual_info_regression\n",
    "from sklearn.model_selection import train_test_split as tts\n",
    "import datetime"
   ]
  },
  {
   "cell_type": "markdown",
   "id": "9afafc20",
   "metadata": {},
   "source": [
    "# Dela - Predicting the amount of deaths per year"
   ]
  },
  {
   "cell_type": "markdown",
   "id": "75664d22",
   "metadata": {},
   "source": [
    "### 1. Intro\n",
    "<b>Who is our client?</b><br>\n",
    "Our client is Dela. Dela is a funeral insurer and caretaker for funeral services. In this semester, they will give us some inside problems that we can investigate on.<br><br>\n",
    "<b>Project explanation</b><br>\n",
    "Dela was faced with unprecedented challenge by the fluctuating demands during the Covid19 first year, and that way they are looking to enhance their abilities to react to surprising serge or drops in demands.\n",
    "We cannot predict when Dela needs to upscale or downscale. However, we can forecast the amount of deaths in the upcoming years. Based on that knowledge and Dela experience, they can conclude themselves when to upscale or downscale.<br><br>\n",
    "<b>Project goal</b><br>\n",
    "In our project, we are going to forecast the amount of deaths per year. In this way we can help them conclude easier what to do on higher, lower demand.<br><br><br>\n",
    "<b>Document explanation</b><br>\n",
    "In this document there will be the testing and implementation of the project delivered proposal hypothesis. In this document, we will do that by understanding and experimenting with the collected data. After the understanding, we will see if our hypothesis can be validated and we will do that by applying machine learning onto our dataset.<br><br>\n",
    "<b>Document setup:</b><br>\n",
    "<table style=\"font-size: 14px !important; margin: 0 !important\">\n",
    "    <tr>\n",
    "        <th style=\"text-align: left;\">Data requirements</th>\n",
    "        <td style=\"text-align: left;\">In this chapter, we are going to setup the requirements for the data that is needed for the prediction. We will answer questions like ‘Which references are trustworthy?’, ‘Do we need some specific features?’, etc…</td>\n",
    "    </tr>\n",
    "    <tr>\n",
    "        <th style=\"text-align: left;\">Data collection</th>\n",
    "        <td style=\"text-align: left;\">In this chapter, we are going to explain where we found our data, where we are going to store our data and references to he subchapters of each dataset</td>\n",
    "    </tr>\n",
    "    <tr>\n",
    "        <th style=\"text-align: left;\">Data understanding</th>\n",
    "        <td style=\"text-align: left;\">In this chapter, we are going to understand each specific dataset that we downloaded to really understand the value of each dataset and how it is going to bring a value to Dela.</td>\n",
    "    </tr>\n",
    "    <tr>\n",
    "        <th style=\"text-align: left;\">Data preparation</th>\n",
    "        <td style=\"text-align: left;\">In this chapter, we are going to prepare our data so it is clean to work with, think about removing all the data that has invalid records, data that has wrong values or data that has similar features with different names.</td>\n",
    "    </tr>\n",
    "</table>"
   ]
  },
  {
   "cell_type": "markdown",
   "id": "e429ae60",
   "metadata": {},
   "source": [
    "### 2. Provisioning"
   ]
  },
  {
   "cell_type": "markdown",
   "id": "aae53522",
   "metadata": {},
   "source": [
    "### 2.1 Data Requirements\n",
    "In this chapter, we are trying to setup the expectations/ requirements of the data we are going to collect for the provisioning fase."
   ]
  },
  {
   "cell_type": "markdown",
   "id": "271084de",
   "metadata": {},
   "source": [
    "<table style=\"font-size: 14px !important; margin: 0 !important\">\n",
    "    <tr>\n",
    "        <th style=\"text-align: left !important\">Data Domain</th>\n",
    "        <td style=\"text-align: left !important\"></td>\n",
    "    </tr>\n",
    "    <tr>\n",
    "        <th style=\"text-align: left !important\">Data type</th>\n",
    "        <td style=\"text-align: left !important\"></td>\n",
    "    </tr>\n",
    "    <tr>\n",
    "        <th style=\"text-align: left !important\">Target Variable</th>\n",
    "        <td style=\"text-align: left !important\"></td>\n",
    "    </tr>\n",
    "    <tr>\n",
    "        <th style=\"text-align: left !important\">Expected Features</th>\n",
    "        <td style=\"text-align: left !important\"></td>\n",
    "    </tr>\n",
    "</table>"
   ]
  },
  {
   "cell_type": "markdown",
   "id": "1fc8d1a0",
   "metadata": {},
   "source": [
    "### 2.2 Data Collection\n",
    "Because we want to search for data that contains the amount of deaths in the Netherlands, we began searching for an open data bank that is governmental. In this case the data is from a trustworthy source and will higher the chance of a good prediction. That's when we landed on CBS (stands for `Centraal Bureau voor de Statistiek`, translated to English that means  `Central Station of Statistics`). "
   ]
  },
  {
   "cell_type": "markdown",
   "id": "b01e6e97",
   "metadata": {},
   "source": [
    "<table style=\"font-size: 14px !important; margin: 0 !important\">\n",
    "    <tr>\n",
    "        <th style=\"text-align: left !important\">Data Source</th>\n",
    "        <td style=\"text-align: left !important\">We got our data from the official   <a href=\"https://opendata.cbs.nl/statline/portal.html?_la=nl&_catalog=CBS\" target=\"_blank\">CBS</a> Website</td>\n",
    "    </tr>\n",
    "    <tr>\n",
    "        <th style=\"text-align: left !important\">Data Storage</th>\n",
    "        <td style=\"text-align: left !important\">We stored all of our datasets on <a href=\"https://github.com/i454038/AI-car-price-prediction\" target=\"_blank\">Github</a>, so it is globally accessible</td>\n",
    "    </tr>\n",
    "</table>"
   ]
  },
  {
   "cell_type": "markdown",
   "id": "c8226c3e",
   "metadata": {},
   "source": [
    "Load in the datasets from Github"
   ]
  },
  {
   "cell_type": "code",
   "execution_count": 2,
   "id": "fb95f526",
   "metadata": {},
   "outputs": [],
   "source": [
    "# these are custom classes made to keep the notebook neat.\n",
    "from classes.dataImporting import datasetManager\n",
    "\n",
    "datasets = datasetManager.defineDatasets()\n",
    "dataframes = datasetManager.loadDatasets(datasets)"
   ]
  },
  {
   "cell_type": "markdown",
   "id": "18043d12",
   "metadata": {},
   "source": [
    "### 2.3 Data Understanding"
   ]
  },
  {
   "cell_type": "markdown",
   "id": "bb1dbbe5",
   "metadata": {},
   "source": [
    "We want to plot the deceased"
   ]
  },
  {
   "cell_type": "code",
   "execution_count": null,
   "id": "0be4bb22",
   "metadata": {},
   "outputs": [],
   "source": []
  },
  {
   "cell_type": "markdown",
   "id": "983402ea",
   "metadata": {},
   "source": [
    "### 2.4 Data Preperation"
   ]
  },
  {
   "cell_type": "markdown",
   "id": "65ce9dec",
   "metadata": {},
   "source": [
    "### LifeExpectency - LifeExpectencyPerRegion"
   ]
  },
  {
   "cell_type": "markdown",
   "id": "8245aec1",
   "metadata": {},
   "source": [
    "For the life expectency\n",
    "- We renamed the columns to English.\n",
    "- We converted the integer columns to floats instead of objects."
   ]
  },
  {
   "cell_type": "code",
   "execution_count": 3,
   "id": "27083a87",
   "metadata": {},
   "outputs": [],
   "source": [
    "dataframes['lifeExpectency']['lifeExpectencyPerRegion'] = (\n",
    "    dataframes['lifeExpectency']['lifeExpectencyPerRegion']\n",
    "        .rename(columns=datasetManager.renameFeatures('lifeExpectency.lifeExpectencyPerRegion'))\n",
    "        .assign(LifeExpectancy = lambda x: x.LifeExpectancy.str.replace(',', '.').astype(float))\n",
    "        .assign(LifeExpectancyWhen65OrOlder = lambda x: x.LifeExpectancyWhen65OrOlder.str.replace(',', '.').astype(float))\n",
    ")"
   ]
  },
  {
   "cell_type": "code",
   "execution_count": 4,
   "id": "9e34be28",
   "metadata": {},
   "outputs": [
    {
     "data": {
      "text/html": [
       "<div>\n",
       "<style scoped>\n",
       "    .dataframe tbody tr th:only-of-type {\n",
       "        vertical-align: middle;\n",
       "    }\n",
       "\n",
       "    .dataframe tbody tr th {\n",
       "        vertical-align: top;\n",
       "    }\n",
       "\n",
       "    .dataframe thead th {\n",
       "        text-align: right;\n",
       "    }\n",
       "</style>\n",
       "<table border=\"1\" class=\"dataframe\">\n",
       "  <thead>\n",
       "    <tr style=\"text-align: right;\">\n",
       "      <th></th>\n",
       "      <th>id</th>\n",
       "      <th>Municipality</th>\n",
       "      <th>Groep_rij</th>\n",
       "      <th>Geslacht</th>\n",
       "      <th>LifeExpectancy</th>\n",
       "      <th>LifeExpectancyNL</th>\n",
       "      <th>LifeExpectancyWhen65OrOlder</th>\n",
       "      <th>LifeExpectancyWhen65OrOlderNL</th>\n",
       "    </tr>\n",
       "  </thead>\n",
       "  <tbody>\n",
       "    <tr>\n",
       "      <th>0</th>\n",
       "      <td>518</td>\n",
       "      <td>'s-Gravenhage</td>\n",
       "      <td>Levensverwachting</td>\n",
       "      <td>Totaal</td>\n",
       "      <td>80.8</td>\n",
       "      <td>onder, 99% zeker</td>\n",
       "      <td>19.1</td>\n",
       "      <td>onder, 99% zeker</td>\n",
       "    </tr>\n",
       "    <tr>\n",
       "      <th>1</th>\n",
       "      <td>796</td>\n",
       "      <td>'s-Hertogenbosch</td>\n",
       "      <td>Levensverwachting</td>\n",
       "      <td>Totaal</td>\n",
       "      <td>81.3</td>\n",
       "      <td>onder, 99% zeker</td>\n",
       "      <td>19.7</td>\n",
       "      <td>onder, 99% zeker</td>\n",
       "    </tr>\n",
       "    <tr>\n",
       "      <th>2</th>\n",
       "      <td>1680</td>\n",
       "      <td>Aa en Hunze</td>\n",
       "      <td>Levensverwachting</td>\n",
       "      <td>Totaal</td>\n",
       "      <td>82.1</td>\n",
       "      <td>geen</td>\n",
       "      <td>20.4</td>\n",
       "      <td>geen</td>\n",
       "    </tr>\n",
       "    <tr>\n",
       "      <th>3</th>\n",
       "      <td>358</td>\n",
       "      <td>Aalsmeer</td>\n",
       "      <td>Levensverwachting</td>\n",
       "      <td>Totaal</td>\n",
       "      <td>82.9</td>\n",
       "      <td>boven, 99% zeker</td>\n",
       "      <td>20.1</td>\n",
       "      <td>geen</td>\n",
       "    </tr>\n",
       "    <tr>\n",
       "      <th>4</th>\n",
       "      <td>197</td>\n",
       "      <td>Aalten</td>\n",
       "      <td>Levensverwachting</td>\n",
       "      <td>Totaal</td>\n",
       "      <td>82.1</td>\n",
       "      <td>geen</td>\n",
       "      <td>20.3</td>\n",
       "      <td>geen</td>\n",
       "    </tr>\n",
       "  </tbody>\n",
       "</table>\n",
       "</div>"
      ],
      "text/plain": [
       "     id      Municipality          Groep_rij Geslacht  LifeExpectancy  \\\n",
       "0   518     's-Gravenhage  Levensverwachting   Totaal            80.8   \n",
       "1   796  's-Hertogenbosch  Levensverwachting   Totaal            81.3   \n",
       "2  1680       Aa en Hunze  Levensverwachting   Totaal            82.1   \n",
       "3   358          Aalsmeer  Levensverwachting   Totaal            82.9   \n",
       "4   197            Aalten  Levensverwachting   Totaal            82.1   \n",
       "\n",
       "   LifeExpectancyNL  LifeExpectancyWhen65OrOlder LifeExpectancyWhen65OrOlderNL  \n",
       "0  onder, 99% zeker                         19.1              onder, 99% zeker  \n",
       "1  onder, 99% zeker                         19.7              onder, 99% zeker  \n",
       "2              geen                         20.4                          geen  \n",
       "3  boven, 99% zeker                         20.1                          geen  \n",
       "4              geen                         20.3                          geen  "
      ]
     },
     "execution_count": 4,
     "metadata": {},
     "output_type": "execute_result"
    }
   ],
   "source": [
    "dataframes['lifeExpectency']['lifeExpectencyPerRegion'].head()"
   ]
  },
  {
   "cell_type": "markdown",
   "id": "35ae2289",
   "metadata": {},
   "source": [
    "### PopulationChange - Pop2002_2020"
   ]
  },
  {
   "cell_type": "code",
   "execution_count": 5,
   "id": "61296ba4",
   "metadata": {},
   "outputs": [],
   "source": [
    "# transform dataset to align with others\n",
    "dataframes['populationChange']['pop2002_2020'] = (\n",
    "    dataframes['populationChange']['pop2002_2020']\n",
    "        .rename(columns=datasetManager.renameFeatures('populationChange.pop2002_2020'))\n",
    "        .assign(Year = lambda x: pd.to_datetime(x.Year.str[:4]).dt.year)\n",
    ")"
   ]
  },
  {
   "cell_type": "code",
   "execution_count": 6,
   "id": "86d2b717",
   "metadata": {},
   "outputs": [
    {
     "data": {
      "text/html": [
       "<div>\n",
       "<style scoped>\n",
       "    .dataframe tbody tr th:only-of-type {\n",
       "        vertical-align: middle;\n",
       "    }\n",
       "\n",
       "    .dataframe tbody tr th {\n",
       "        vertical-align: top;\n",
       "    }\n",
       "\n",
       "    .dataframe thead th {\n",
       "        text-align: right;\n",
       "    }\n",
       "</style>\n",
       "<table border=\"1\" class=\"dataframe\">\n",
       "  <thead>\n",
       "    <tr style=\"text-align: right;\">\n",
       "      <th></th>\n",
       "      <th>ID</th>\n",
       "      <th>Municipality</th>\n",
       "      <th>Year</th>\n",
       "      <th>PopulationAtBeginOfPeriod</th>\n",
       "      <th>AliveBornChildren</th>\n",
       "      <th>Deceased</th>\n",
       "      <th>TotalLocations</th>\n",
       "      <th>LocationsFromOtherMunicipality</th>\n",
       "      <th>Immigration</th>\n",
       "      <th>TotaalVertrekInclAdmCorrecties_7</th>\n",
       "      <th>AmountMovedToOtherMunicipality</th>\n",
       "      <th>EmigratieInclusiefAdmCorrecties_9</th>\n",
       "      <th>OverigeCorrecties_10</th>\n",
       "      <th>PopulationGrowth</th>\n",
       "      <th>RelativePopulationGrowth</th>\n",
       "      <th>PopulationGrowthSinceJanuari</th>\n",
       "      <th>RelativePopulationGrowthSinceJanuari</th>\n",
       "      <th>PopulationAtEndOfPeriod</th>\n",
       "    </tr>\n",
       "  </thead>\n",
       "  <tbody>\n",
       "    <tr>\n",
       "      <th>0</th>\n",
       "      <td>14604</td>\n",
       "      <td>GM1680</td>\n",
       "      <td>2002</td>\n",
       "      <td>25552.0</td>\n",
       "      <td>289.0</td>\n",
       "      <td>251.0</td>\n",
       "      <td>1353.0</td>\n",
       "      <td>1121.0</td>\n",
       "      <td>232.0</td>\n",
       "      <td>1617.0</td>\n",
       "      <td>1498.0</td>\n",
       "      <td>119.0</td>\n",
       "      <td>-21.0</td>\n",
       "      <td>-247.0</td>\n",
       "      <td>-0.97</td>\n",
       "      <td>-247.0</td>\n",
       "      <td>-0.97</td>\n",
       "      <td>25305.0</td>\n",
       "    </tr>\n",
       "    <tr>\n",
       "      <th>1</th>\n",
       "      <td>14617</td>\n",
       "      <td>GM1680</td>\n",
       "      <td>2003</td>\n",
       "      <td>25305.0</td>\n",
       "      <td>279.0</td>\n",
       "      <td>241.0</td>\n",
       "      <td>1127.0</td>\n",
       "      <td>1071.0</td>\n",
       "      <td>56.0</td>\n",
       "      <td>1264.0</td>\n",
       "      <td>1111.0</td>\n",
       "      <td>153.0</td>\n",
       "      <td>12.0</td>\n",
       "      <td>-87.0</td>\n",
       "      <td>-0.34</td>\n",
       "      <td>-87.0</td>\n",
       "      <td>-0.34</td>\n",
       "      <td>25218.0</td>\n",
       "    </tr>\n",
       "    <tr>\n",
       "      <th>2</th>\n",
       "      <td>14630</td>\n",
       "      <td>GM1680</td>\n",
       "      <td>2004</td>\n",
       "      <td>25218.0</td>\n",
       "      <td>233.0</td>\n",
       "      <td>221.0</td>\n",
       "      <td>1167.0</td>\n",
       "      <td>1104.0</td>\n",
       "      <td>63.0</td>\n",
       "      <td>1077.0</td>\n",
       "      <td>1023.0</td>\n",
       "      <td>54.0</td>\n",
       "      <td>9.0</td>\n",
       "      <td>111.0</td>\n",
       "      <td>0.44</td>\n",
       "      <td>111.0</td>\n",
       "      <td>0.44</td>\n",
       "      <td>25329.0</td>\n",
       "    </tr>\n",
       "    <tr>\n",
       "      <th>3</th>\n",
       "      <td>14643</td>\n",
       "      <td>GM1680</td>\n",
       "      <td>2005</td>\n",
       "      <td>25329.0</td>\n",
       "      <td>230.0</td>\n",
       "      <td>231.0</td>\n",
       "      <td>1322.0</td>\n",
       "      <td>1254.0</td>\n",
       "      <td>68.0</td>\n",
       "      <td>1143.0</td>\n",
       "      <td>1062.0</td>\n",
       "      <td>81.0</td>\n",
       "      <td>0.0</td>\n",
       "      <td>178.0</td>\n",
       "      <td>0.70</td>\n",
       "      <td>178.0</td>\n",
       "      <td>0.70</td>\n",
       "      <td>25507.0</td>\n",
       "    </tr>\n",
       "    <tr>\n",
       "      <th>4</th>\n",
       "      <td>14656</td>\n",
       "      <td>GM1680</td>\n",
       "      <td>2006</td>\n",
       "      <td>25507.0</td>\n",
       "      <td>216.0</td>\n",
       "      <td>212.0</td>\n",
       "      <td>1369.0</td>\n",
       "      <td>1320.0</td>\n",
       "      <td>49.0</td>\n",
       "      <td>1326.0</td>\n",
       "      <td>1222.0</td>\n",
       "      <td>104.0</td>\n",
       "      <td>9.0</td>\n",
       "      <td>56.0</td>\n",
       "      <td>0.22</td>\n",
       "      <td>56.0</td>\n",
       "      <td>0.22</td>\n",
       "      <td>25563.0</td>\n",
       "    </tr>\n",
       "  </tbody>\n",
       "</table>\n",
       "</div>"
      ],
      "text/plain": [
       "      ID Municipality  Year  PopulationAtBeginOfPeriod  AliveBornChildren  \\\n",
       "0  14604       GM1680  2002                    25552.0              289.0   \n",
       "1  14617       GM1680  2003                    25305.0              279.0   \n",
       "2  14630       GM1680  2004                    25218.0              233.0   \n",
       "3  14643       GM1680  2005                    25329.0              230.0   \n",
       "4  14656       GM1680  2006                    25507.0              216.0   \n",
       "\n",
       "   Deceased  TotalLocations  LocationsFromOtherMunicipality  Immigration  \\\n",
       "0     251.0          1353.0                          1121.0        232.0   \n",
       "1     241.0          1127.0                          1071.0         56.0   \n",
       "2     221.0          1167.0                          1104.0         63.0   \n",
       "3     231.0          1322.0                          1254.0         68.0   \n",
       "4     212.0          1369.0                          1320.0         49.0   \n",
       "\n",
       "   TotaalVertrekInclAdmCorrecties_7  AmountMovedToOtherMunicipality  \\\n",
       "0                            1617.0                          1498.0   \n",
       "1                            1264.0                          1111.0   \n",
       "2                            1077.0                          1023.0   \n",
       "3                            1143.0                          1062.0   \n",
       "4                            1326.0                          1222.0   \n",
       "\n",
       "   EmigratieInclusiefAdmCorrecties_9  OverigeCorrecties_10  PopulationGrowth  \\\n",
       "0                              119.0                 -21.0            -247.0   \n",
       "1                              153.0                  12.0             -87.0   \n",
       "2                               54.0                   9.0             111.0   \n",
       "3                               81.0                   0.0             178.0   \n",
       "4                              104.0                   9.0              56.0   \n",
       "\n",
       "   RelativePopulationGrowth  PopulationGrowthSinceJanuari  \\\n",
       "0                     -0.97                        -247.0   \n",
       "1                     -0.34                         -87.0   \n",
       "2                      0.44                         111.0   \n",
       "3                      0.70                         178.0   \n",
       "4                      0.22                          56.0   \n",
       "\n",
       "   RelativePopulationGrowthSinceJanuari  PopulationAtEndOfPeriod  \n",
       "0                                 -0.97                  25305.0  \n",
       "1                                 -0.34                  25218.0  \n",
       "2                                  0.44                  25329.0  \n",
       "3                                  0.70                  25507.0  \n",
       "4                                  0.22                  25563.0  "
      ]
     },
     "execution_count": 6,
     "metadata": {},
     "output_type": "execute_result"
    }
   ],
   "source": [
    "dataframes['populationChange']['pop2002_2020'].head(5)"
   ]
  },
  {
   "cell_type": "markdown",
   "id": "f0c6d454",
   "metadata": {},
   "source": [
    "### Death - Reason of Death"
   ]
  },
  {
   "cell_type": "code",
   "execution_count": 7,
   "id": "df343342",
   "metadata": {},
   "outputs": [],
   "source": [
    "dataframes['death']['reason_per_year_per_region2002_2020'] = (\n",
    "    pd.concat([\n",
    "        dataframes['death']['reasons_per_year_per_region2002_2015'], \n",
    "        dataframes['death']['reasons_per_year_per_region2016_2020']\n",
    "    ])\n",
    ")\n",
    "\n",
    "dataframes['death']['reason_per_year_per_region2002_2020'] = (\n",
    "    dataframes['death']['reason_per_year_per_region2002_2020']\n",
    "        .rename(columns={'RegioS': 'Municipality', 'Perioden': 'Year'})\n",
    "        .assign(Year = lambda x: pd.to_datetime(x.Year.str[:4]).dt.year)\n",
    ")"
   ]
  },
  {
   "cell_type": "markdown",
   "id": "8ecccce9",
   "metadata": {},
   "source": [
    "### Merge Datasets"
   ]
  },
  {
   "cell_type": "markdown",
   "id": "b8eb2c4e",
   "metadata": {},
   "source": [
    "<table style=\"margin: 0 !important; font-size: 14px !important\">\n",
    "    <tr>\n",
    "        <th style=\"text-align: left !important\">Goal:</th>\n",
    "        <td style=\"text-align: left !important\">\n",
    "            Merge the datasets:<br>\n",
    "            <ul>\n",
    "                <li>lifeExpectency</li>\n",
    "                <li>population</li>\n",
    "                <li>reason of death</li>\n",
    "            </ul>\n",
    "        </td>\n",
    "    </tr>\n",
    "    <tr>\n",
    "        <th style=\"text-align: left !important\">Possible Solutions:</th>\n",
    "        <td style=\"text-align: left !important\">\n",
    "            <ul>\n",
    "                <li>merge (pandas)</li>\n",
    "                <li>concatinate (pandas)</li>\n",
    "            </ul>\n",
    "        </td>\n",
    "    </tr>\n",
    "</table>"
   ]
  },
  {
   "cell_type": "markdown",
   "id": "db405509",
   "metadata": {},
   "source": [
    "<b>Merge</b><br>\n",
    "Merge DataFrame or named Series objects with a database-style join.<br>\n",
    "A named Series object is treated as a DataFrame with a single named column.<br>\n",
    "The join is done on columns or indexes. If joining columns on columns, the DataFrame indexes will be ignored. Otherwise if joining indexes on indexes or indexes on a column or columns, the index will be passed on. When performing a cross merge, no column specifications to merge on are allowed.<br>\n",
    "<b>Concatinate</b><br>\n",
    "Concatenate pandas objects along a particular axis with optional set logic along the other axes.<br>\n",
    "Can also add a layer of hierarchical indexing on the concatenation axis, which may be useful if the labels are the same (or overlapping) on the passed axis number.<br>\n",
    "<b>What is the best solution?</b><br>\n",
    "Our datasets do not have the same columns, it's even so that they have diffrent columns. We want to add features to one dataset and we do not want to align the dataset on a particular axis. This is why we are using the merge function to make one big dataset."
   ]
  },
  {
   "cell_type": "code",
   "execution_count": null,
   "id": "4df877e5",
   "metadata": {},
   "outputs": [],
   "source": []
  },
  {
   "cell_type": "code",
   "execution_count": 8,
   "id": "e23f811d",
   "metadata": {},
   "outputs": [
    {
     "data": {
      "text/plain": [
       "array([2002, 2003, 2004, 2005, 2006, 2007, 2008, 2009, 2010, 2011, 2012,\n",
       "       2013, 2014, 2015, 2016, 2017, 2018, 2019, 2020])"
      ]
     },
     "execution_count": 8,
     "metadata": {},
     "output_type": "execute_result"
    }
   ],
   "source": [
    "dataset = (\n",
    "    dataframes['populationChange']['pop2002_2020']\n",
    "        .merge(dataframes['lifeExpectency']['lifeExpectencyPerRegion'], how='outer', on=\"Municipality\")\n",
    "#         .merge(dataframes['death']['reason_per_year_per_region2002_2020'], how='outer', on=['Year', \"Municipality\"])\n",
    "        .assign(Municipality = lambda x: x.Municipality.replace(datasetManager.mapFeature('Municipality')))\n",
    "        .fillna(0)\n",
    "        .assign(Year = lambda x: x.Year.replace(0, 2002))\n",
    "        .assign(Year = lambda x: x.Year.astype(int))\n",
    ")\n",
    "dataset['Year'].unique()"
   ]
  },
  {
   "cell_type": "code",
   "execution_count": 9,
   "id": "06b506cf",
   "metadata": {},
   "outputs": [],
   "source": [
    "# PredictingDataset = dataset.assign(Municipality = lambda x: x.Municipality.astype(\"category\").cat.codes)\n",
    "# # remove values with type string (object) because they are useless eather way\n",
    "dataset = dataset[[\n",
    "    i for i in list(dataset.columns) \n",
    "    if i not in \n",
    "    ['Groep_rij', 'Geslacht', 'LifeExpectancyNL', 'LifeExpectancyWhen65OrOlderNL', 'Geslacht_y']\n",
    "]]"
   ]
  },
  {
   "cell_type": "code",
   "execution_count": null,
   "id": "88d0e883",
   "metadata": {},
   "outputs": [],
   "source": []
  },
  {
   "cell_type": "code",
   "execution_count": 10,
   "id": "2d3b030d",
   "metadata": {},
   "outputs": [],
   "source": [
    "dataset.set_index(['Municipality','Year'], inplace=True)"
   ]
  },
  {
   "cell_type": "code",
   "execution_count": 11,
   "id": "25f758c4",
   "metadata": {},
   "outputs": [],
   "source": [
    "municipalities = dataset.reset_index()['Municipality'].unique()\n",
    "datasets = {}\n",
    "for munucipality in municipalities:\n",
    "    if(dataset.loc[munucipality].shape[0] <= 20 and dataset.loc[munucipality].shape[0] > 1):\n",
    "#         print(munucipality, dataset.loc[munucipality].shape[0])\n",
    "        datasets[munucipality] = dataset.loc[munucipality].drop(['ID','id'],axis=1)\n",
    "\n",
    "# print(len(datasets.keys()))\n",
    "# print(datasets['Amsterdam']['Deceased'])\n",
    "# print(datasets['Zwolle']['Deceased'])\n",
    "# pd.DataFrame({\n",
    "#     \"recall\": {\n",
    "#         \"amsterdam\": '0.82',\n",
    "#         'zwolle': '0.42'\n",
    "#     },\n",
    "#     'accuracy': {\n",
    "#         \"amsterdam\": '0.82',\n",
    "#         'zwolle': '0.42'\n",
    "#     }\n",
    "# })"
   ]
  },
  {
   "cell_type": "markdown",
   "id": "6ce6cebf",
   "metadata": {},
   "source": [
    "<table style=\"margin: 0 !important;\">\n",
    "    <tr>\n",
    "        <th style=\"text=align: center !important\">Goal:</th>\n",
    "        <td style=\"text=align: center !important\">\n",
    "            Grouping the dataset from municapality to year:<br>\n",
    "        </td>\n",
    "    </tr>\n",
    "    <tr>\n",
    "        <th style=\"text=align: center !important\">Possible Solutions:</th>\n",
    "        <td style=\"text=align: center !important\">\n",
    "            <ul>\n",
    "                <li>groupby</li>\n",
    "                <li>sort</li>\n",
    "            </ul>\n",
    "        </td>\n",
    "    </tr>\n",
    "</table>"
   ]
  },
  {
   "cell_type": "code",
   "execution_count": 12,
   "id": "074a3583",
   "metadata": {
    "scrolled": true
   },
   "outputs": [
    {
     "data": {
      "text/html": [
       "<div>\n",
       "<style scoped>\n",
       "    .dataframe tbody tr th:only-of-type {\n",
       "        vertical-align: middle;\n",
       "    }\n",
       "\n",
       "    .dataframe tbody tr th {\n",
       "        vertical-align: top;\n",
       "    }\n",
       "\n",
       "    .dataframe thead th {\n",
       "        text-align: right;\n",
       "    }\n",
       "</style>\n",
       "<table border=\"1\" class=\"dataframe\">\n",
       "  <thead>\n",
       "    <tr style=\"text-align: right;\">\n",
       "      <th></th>\n",
       "      <th>PopulationAtBeginOfPeriod</th>\n",
       "      <th>AliveBornChildren</th>\n",
       "      <th>Deceased</th>\n",
       "      <th>TotalLocations</th>\n",
       "      <th>LocationsFromOtherMunicipality</th>\n",
       "      <th>Immigration</th>\n",
       "      <th>TotaalVertrekInclAdmCorrecties_7</th>\n",
       "      <th>AmountMovedToOtherMunicipality</th>\n",
       "      <th>EmigratieInclusiefAdmCorrecties_9</th>\n",
       "      <th>OverigeCorrecties_10</th>\n",
       "      <th>PopulationGrowth</th>\n",
       "      <th>RelativePopulationGrowth</th>\n",
       "      <th>PopulationGrowthSinceJanuari</th>\n",
       "      <th>RelativePopulationGrowthSinceJanuari</th>\n",
       "      <th>PopulationAtEndOfPeriod</th>\n",
       "      <th>LifeExpectancy</th>\n",
       "      <th>LifeExpectancyWhen65OrOlder</th>\n",
       "    </tr>\n",
       "    <tr>\n",
       "      <th>Year</th>\n",
       "      <th></th>\n",
       "      <th></th>\n",
       "      <th></th>\n",
       "      <th></th>\n",
       "      <th></th>\n",
       "      <th></th>\n",
       "      <th></th>\n",
       "      <th></th>\n",
       "      <th></th>\n",
       "      <th></th>\n",
       "      <th></th>\n",
       "      <th></th>\n",
       "      <th></th>\n",
       "      <th></th>\n",
       "      <th></th>\n",
       "      <th></th>\n",
       "      <th></th>\n",
       "    </tr>\n",
       "  </thead>\n",
       "  <tbody>\n",
       "    <tr>\n",
       "      <th>2002</th>\n",
       "      <td>109000.0</td>\n",
       "      <td>1533.0</td>\n",
       "      <td>953.0</td>\n",
       "      <td>5370.0</td>\n",
       "      <td>4804.0</td>\n",
       "      <td>566.0</td>\n",
       "      <td>4984.0</td>\n",
       "      <td>4587.0</td>\n",
       "      <td>397.0</td>\n",
       "      <td>-11.0</td>\n",
       "      <td>955.0</td>\n",
       "      <td>0.88</td>\n",
       "      <td>955.0</td>\n",
       "      <td>0.88</td>\n",
       "      <td>109955.0</td>\n",
       "      <td>0.0</td>\n",
       "      <td>0.0</td>\n",
       "    </tr>\n",
       "    <tr>\n",
       "      <th>2003</th>\n",
       "      <td>109955.0</td>\n",
       "      <td>1610.0</td>\n",
       "      <td>939.0</td>\n",
       "      <td>5325.0</td>\n",
       "      <td>4795.0</td>\n",
       "      <td>530.0</td>\n",
       "      <td>5204.0</td>\n",
       "      <td>4605.0</td>\n",
       "      <td>599.0</td>\n",
       "      <td>133.0</td>\n",
       "      <td>925.0</td>\n",
       "      <td>0.84</td>\n",
       "      <td>925.0</td>\n",
       "      <td>0.84</td>\n",
       "      <td>110880.0</td>\n",
       "      <td>0.0</td>\n",
       "      <td>0.0</td>\n",
       "    </tr>\n",
       "    <tr>\n",
       "      <th>2004</th>\n",
       "      <td>110880.0</td>\n",
       "      <td>1551.0</td>\n",
       "      <td>930.0</td>\n",
       "      <td>5338.0</td>\n",
       "      <td>4864.0</td>\n",
       "      <td>474.0</td>\n",
       "      <td>4931.0</td>\n",
       "      <td>4510.0</td>\n",
       "      <td>421.0</td>\n",
       "      <td>-8.0</td>\n",
       "      <td>1020.0</td>\n",
       "      <td>0.92</td>\n",
       "      <td>1020.0</td>\n",
       "      <td>0.92</td>\n",
       "      <td>111900.0</td>\n",
       "      <td>0.0</td>\n",
       "      <td>0.0</td>\n",
       "    </tr>\n",
       "    <tr>\n",
       "      <th>2005</th>\n",
       "      <td>111900.0</td>\n",
       "      <td>1657.0</td>\n",
       "      <td>941.0</td>\n",
       "      <td>5745.0</td>\n",
       "      <td>5264.0</td>\n",
       "      <td>481.0</td>\n",
       "      <td>5355.0</td>\n",
       "      <td>4729.0</td>\n",
       "      <td>626.0</td>\n",
       "      <td>72.0</td>\n",
       "      <td>1178.0</td>\n",
       "      <td>1.05</td>\n",
       "      <td>1178.0</td>\n",
       "      <td>1.05</td>\n",
       "      <td>113078.0</td>\n",
       "      <td>0.0</td>\n",
       "      <td>0.0</td>\n",
       "    </tr>\n",
       "    <tr>\n",
       "      <th>2006</th>\n",
       "      <td>113078.0</td>\n",
       "      <td>1650.0</td>\n",
       "      <td>942.0</td>\n",
       "      <td>6245.0</td>\n",
       "      <td>5815.0</td>\n",
       "      <td>430.0</td>\n",
       "      <td>5452.0</td>\n",
       "      <td>4809.0</td>\n",
       "      <td>643.0</td>\n",
       "      <td>56.0</td>\n",
       "      <td>1557.0</td>\n",
       "      <td>1.38</td>\n",
       "      <td>1557.0</td>\n",
       "      <td>1.38</td>\n",
       "      <td>114635.0</td>\n",
       "      <td>0.0</td>\n",
       "      <td>0.0</td>\n",
       "    </tr>\n",
       "  </tbody>\n",
       "</table>\n",
       "</div>"
      ],
      "text/plain": [
       "      PopulationAtBeginOfPeriod  AliveBornChildren  Deceased  TotalLocations  \\\n",
       "Year                                                                           \n",
       "2002                   109000.0             1533.0     953.0          5370.0   \n",
       "2003                   109955.0             1610.0     939.0          5325.0   \n",
       "2004                   110880.0             1551.0     930.0          5338.0   \n",
       "2005                   111900.0             1657.0     941.0          5745.0   \n",
       "2006                   113078.0             1650.0     942.0          6245.0   \n",
       "\n",
       "      LocationsFromOtherMunicipality  Immigration  \\\n",
       "Year                                                \n",
       "2002                          4804.0        566.0   \n",
       "2003                          4795.0        530.0   \n",
       "2004                          4864.0        474.0   \n",
       "2005                          5264.0        481.0   \n",
       "2006                          5815.0        430.0   \n",
       "\n",
       "      TotaalVertrekInclAdmCorrecties_7  AmountMovedToOtherMunicipality  \\\n",
       "Year                                                                     \n",
       "2002                            4984.0                          4587.0   \n",
       "2003                            5204.0                          4605.0   \n",
       "2004                            4931.0                          4510.0   \n",
       "2005                            5355.0                          4729.0   \n",
       "2006                            5452.0                          4809.0   \n",
       "\n",
       "      EmigratieInclusiefAdmCorrecties_9  OverigeCorrecties_10  \\\n",
       "Year                                                            \n",
       "2002                              397.0                 -11.0   \n",
       "2003                              599.0                 133.0   \n",
       "2004                              421.0                  -8.0   \n",
       "2005                              626.0                  72.0   \n",
       "2006                              643.0                  56.0   \n",
       "\n",
       "      PopulationGrowth  RelativePopulationGrowth  \\\n",
       "Year                                               \n",
       "2002             955.0                      0.88   \n",
       "2003             925.0                      0.84   \n",
       "2004            1020.0                      0.92   \n",
       "2005            1178.0                      1.05   \n",
       "2006            1557.0                      1.38   \n",
       "\n",
       "      PopulationGrowthSinceJanuari  RelativePopulationGrowthSinceJanuari  \\\n",
       "Year                                                                       \n",
       "2002                         955.0                                  0.88   \n",
       "2003                         925.0                                  0.84   \n",
       "2004                        1020.0                                  0.92   \n",
       "2005                        1178.0                                  1.05   \n",
       "2006                        1557.0                                  1.38   \n",
       "\n",
       "      PopulationAtEndOfPeriod  LifeExpectancy  LifeExpectancyWhen65OrOlder  \n",
       "Year                                                                        \n",
       "2002                 109955.0             0.0                          0.0  \n",
       "2003                 110880.0             0.0                          0.0  \n",
       "2004                 111900.0             0.0                          0.0  \n",
       "2005                 113078.0             0.0                          0.0  \n",
       "2006                 114635.0             0.0                          0.0  "
      ]
     },
     "execution_count": 12,
     "metadata": {},
     "output_type": "execute_result"
    }
   ],
   "source": [
    "datasets['Zwolle'].head()"
   ]
  },
  {
   "cell_type": "markdown",
   "id": "3da514db",
   "metadata": {},
   "source": [
    "<b>GroupBy</b><br>\n",
    "explenation<br>\n",
    "<b>Sort</b><br>\n",
    "explenation"
   ]
  },
  {
   "cell_type": "markdown",
   "id": "ab9a8013",
   "metadata": {},
   "source": [
    "### Rename columns"
   ]
  },
  {
   "cell_type": "markdown",
   "id": "a93f0263",
   "metadata": {
    "scrolled": true
   },
   "source": [
    "def doFeatureSelection(dataset, y):\n",
    "    X = dataset.loc[:, dataset.columns != 'Deceased']\n",
    "    sel = SelectKBest(mutual_info_regression, k=5)\n",
    "    sel.fit_transform(X,y)\n",
    "    cols = sel.get_support()\n",
    "    features_df_new = X.iloc[:,cols].keys()\n",
    "    return features_df_new"
   ]
  },
  {
   "cell_type": "markdown",
   "id": "6bd2542c",
   "metadata": {},
   "source": [
    "predictionArray = []\n",
    "def predictByNearestNeighbors(dataset, y):    \n",
    "    scaler = StandardScaler()\n",
    "    X_new = scaler.fit_transform(dataset)\n",
    "    \n",
    "    from sklearn.neighbors import KNeighborsRegressor\n",
    "\n",
    "    X_train, X_test, y_train, y_test = tts(X_new, y, test_size=0.4, random_state=20)\n",
    "    \n",
    "    neigh = KNeighborsRegressor(n_neighbors=5)\n",
    "    neigh.fit(X_train, y_train)\n",
    "    prediction = neigh.predict(X_test)\n",
    "    \n",
    "    predictionArray.append(prediction)\n",
    "    return neigh.score(X_test, y_test)"
   ]
  },
  {
   "cell_type": "markdown",
   "id": "64249ee1",
   "metadata": {},
   "source": [
    "metricsDictionary = {\n",
    "    \"Score\": {}\n",
    "}\n",
    "for municipality in datasets.keys():\n",
    "    y = datasets[municipality].Deceased\n",
    "    dataset = datasets[municipality]\n",
    "    features = doFeatureSelection(dataset, y)\n",
    "    dataset = dataset[features]\n",
    "    score = predictByNearestNeighbors(dataset, y)\n",
    "    b=score\n",
    "    metricsDictionary[\"Score\"][municipality] = score\n",
    "    \n",
    "scores = pd.DataFrame(metricsDictionary, columns=['Municipality'])"
   ]
  },
  {
   "cell_type": "markdown",
   "id": "e1a0b8d8",
   "metadata": {},
   "source": [
    "scores = pd.DataFrame.from_dict(metricsDictionary).reset_index().rename(columns={\"index\": 'Municipality'})"
   ]
  },
  {
   "cell_type": "markdown",
   "id": "90fae2be",
   "metadata": {},
   "source": [
    "print(scores['Score'].mean())"
   ]
  },
  {
   "cell_type": "code",
   "execution_count": 13,
   "id": "32e64fe8",
   "metadata": {},
   "outputs": [],
   "source": [
    "import itertools\n",
    "import statsmodels\n",
    "import statsmodels.api as sm\n",
    "import matplotlib\n"
   ]
  },
  {
   "cell_type": "code",
   "execution_count": 14,
   "id": "84df2ff4",
   "metadata": {},
   "outputs": [
    {
     "data": {
      "text/plain": [
       "DatetimeIndex(['1970-01-01 00:00:00.000002002',\n",
       "               '1970-01-01 00:00:00.000002003',\n",
       "               '1970-01-01 00:00:00.000002004',\n",
       "               '1970-01-01 00:00:00.000002005',\n",
       "               '1970-01-01 00:00:00.000002006',\n",
       "               '1970-01-01 00:00:00.000002007',\n",
       "               '1970-01-01 00:00:00.000002008',\n",
       "               '1970-01-01 00:00:00.000002009',\n",
       "               '1970-01-01 00:00:00.000002010',\n",
       "               '1970-01-01 00:00:00.000002011',\n",
       "               '1970-01-01 00:00:00.000002012',\n",
       "               '1970-01-01 00:00:00.000002013',\n",
       "               '1970-01-01 00:00:00.000002014',\n",
       "               '1970-01-01 00:00:00.000002015',\n",
       "               '1970-01-01 00:00:00.000002016',\n",
       "               '1970-01-01 00:00:00.000002017',\n",
       "               '1970-01-01 00:00:00.000002018',\n",
       "               '1970-01-01 00:00:00.000002019',\n",
       "               '1970-01-01 00:00:00.000002020',\n",
       "               '1970-01-01 00:00:00.000002002'],\n",
       "              dtype='datetime64[ns]', name='Year', freq=None)"
      ]
     },
     "execution_count": 14,
     "metadata": {},
     "output_type": "execute_result"
    }
   ],
   "source": [
    "pd.to_datetime(datasets['Zwolle'].index)"
   ]
  },
  {
   "cell_type": "code",
   "execution_count": 15,
   "id": "2fdcd637",
   "metadata": {},
   "outputs": [
    {
     "name": "stdout",
     "output_type": "stream",
     "text": [
      "<class 'pandas.core.frame.DataFrame'>\n",
      "Int64Index: 20 entries, 2002 to 2002\n",
      "Data columns (total 17 columns):\n",
      " #   Column                                Non-Null Count  Dtype  \n",
      "---  ------                                --------------  -----  \n",
      " 0   PopulationAtBeginOfPeriod             20 non-null     float64\n",
      " 1   AliveBornChildren                     20 non-null     float64\n",
      " 2   Deceased                              20 non-null     float64\n",
      " 3   TotalLocations                        20 non-null     float64\n",
      " 4   LocationsFromOtherMunicipality        20 non-null     float64\n",
      " 5   Immigration                           20 non-null     float64\n",
      " 6   TotaalVertrekInclAdmCorrecties_7      20 non-null     float64\n",
      " 7   AmountMovedToOtherMunicipality        20 non-null     float64\n",
      " 8   EmigratieInclusiefAdmCorrecties_9     20 non-null     float64\n",
      " 9   OverigeCorrecties_10                  20 non-null     float64\n",
      " 10  PopulationGrowth                      20 non-null     float64\n",
      " 11  RelativePopulationGrowth              20 non-null     float64\n",
      " 12  PopulationGrowthSinceJanuari          20 non-null     float64\n",
      " 13  RelativePopulationGrowthSinceJanuari  20 non-null     float64\n",
      " 14  PopulationAtEndOfPeriod               20 non-null     float64\n",
      " 15  LifeExpectancy                        20 non-null     float64\n",
      " 16  LifeExpectancyWhen65OrOlder           20 non-null     float64\n",
      "dtypes: float64(17)\n",
      "memory usage: 2.8 KB\n"
     ]
    }
   ],
   "source": [
    "datasets['Zwolle'].info()"
   ]
  },
  {
   "cell_type": "code",
   "execution_count": 16,
   "id": "ecd4194d",
   "metadata": {},
   "outputs": [
    {
     "name": "stdout",
     "output_type": "stream",
     "text": [
      "Examples of parameter combinations for Seasonal ARIMA...\n",
      "SARIMAX: (0, 0, 1) x (0, 0, 1, 12)\n",
      "SARIMAX: (0, 0, 1) x (0, 1, 0, 12)\n",
      "SARIMAX: (0, 1, 0) x (0, 1, 1, 12)\n",
      "SARIMAX: (0, 1, 0) x (1, 0, 0, 12)\n"
     ]
    }
   ],
   "source": [
    "\n",
    "import itertools\n",
    "# Define the p, d and q parameters to take any value between 0 and 2\n",
    "p = d = q = range(0, 2)\n",
    "\n",
    "# Generate all different combinations of p, q and q triplets\n",
    "pdq = list(itertools.product(p, d, q))\n",
    "\n",
    "# Generate all different combinations of seasonal p, q and q triplets\n",
    "seasonal_pdq = [(x[0], x[1], x[2], 12) for x in list(itertools.product(p, d, q))]\n",
    "\n",
    "print('Examples of parameter combinations for Seasonal ARIMA...')\n",
    "print('SARIMAX: {} x {}'.format(pdq[1], seasonal_pdq[1]))\n",
    "print('SARIMAX: {} x {}'.format(pdq[1], seasonal_pdq[2]))\n",
    "print('SARIMAX: {} x {}'.format(pdq[2], seasonal_pdq[3]))\n",
    "print('SARIMAX: {} x {}'.format(pdq[2], seasonal_pdq[4]))"
   ]
  },
  {
   "cell_type": "code",
   "execution_count": 17,
   "id": "17b0c2a1",
   "metadata": {},
   "outputs": [
    {
     "name": "stdout",
     "output_type": "stream",
     "text": [
      "SARIMAX(0, 0, 0)x(0, 0, 0, 12)12 - AIC:314.8434495471905\n",
      "SARIMAX(0, 0, 0)x(0, 0, 1, 12)12 - AIC:115.33427282244723\n",
      "SARIMAX(0, 0, 0)x(0, 1, 0, 12)12 - AIC:103.82874759593327\n",
      "SARIMAX(0, 0, 0)x(0, 1, 1, 12)12 - AIC:4.0\n",
      "SARIMAX(0, 0, 0)x(1, 0, 0, 12)12 - AIC:118.92194504987319\n",
      "SARIMAX(0, 0, 0)x(1, 0, 1, 12)12 - AIC:107.46549528518904\n",
      "SARIMAX(0, 0, 0)x(1, 1, 0, 12)12 - AIC:4.0\n",
      "SARIMAX(0, 0, 0)x(1, 1, 1, 12)12 - AIC:6.0\n",
      "SARIMAX(0, 0, 1)x(0, 0, 0, 12)12 - AIC:279.8526199624245\n",
      "SARIMAX(0, 0, 1)x(0, 0, 1, 12)12 - AIC:97.27315605154965\n",
      "SARIMAX(0, 0, 1)x(0, 1, 0, 12)12 - AIC:89.73145421390464\n",
      "SARIMAX(0, 0, 1)x(0, 1, 1, 12)12 - AIC:6.0\n",
      "SARIMAX(0, 0, 1)x(1, 0, 0, 12)12 - AIC:118.62988667077974\n",
      "SARIMAX(0, 0, 1)x(1, 0, 1, 12)12 - AIC:94.161264993309\n",
      "SARIMAX(0, 0, 1)x(1, 1, 0, 12)12 - AIC:6.0\n",
      "SARIMAX(0, 0, 1)x(1, 1, 1, 12)12 - AIC:8.0\n",
      "SARIMAX(0, 1, 0)x(0, 0, 0, 12)12 - AIC:251.51101687013295\n",
      "SARIMAX(0, 1, 0)x(0, 0, 1, 12)12 - AIC:93.65786377473162\n",
      "SARIMAX(0, 1, 0)x(0, 1, 0, 12)12 - AIC:91.97746130529619\n",
      "SARIMAX(0, 1, 0)x(0, 1, 1, 12)12 - AIC:4.0\n",
      "SARIMAX(0, 1, 0)x(1, 0, 0, 12)12 - AIC:107.08230792530728\n",
      "SARIMAX(0, 1, 0)x(1, 0, 1, 12)12 - AIC:95.2810678154468\n",
      "SARIMAX(0, 1, 0)x(1, 1, 0, 12)12 - AIC:4.0\n",
      "SARIMAX(0, 1, 0)x(1, 1, 1, 12)12 - AIC:6.0\n",
      "SARIMAX(0, 1, 1)x(0, 0, 0, 12)12 - AIC:238.5660741434694\n",
      "SARIMAX(0, 1, 1)x(0, 0, 1, 12)12 - AIC:81.29190098282163\n",
      "SARIMAX(0, 1, 1)x(0, 1, 0, 12)12 - AIC:79.22222729856352\n",
      "SARIMAX(0, 1, 1)x(0, 1, 1, 12)12 - AIC:6.0\n",
      "SARIMAX(0, 1, 1)x(1, 0, 0, 12)12 - AIC:108.8164102656564\n",
      "SARIMAX(0, 1, 1)x(1, 0, 1, 12)12 - AIC:83.04723314931321\n",
      "SARIMAX(0, 1, 1)x(1, 1, 0, 12)12 - AIC:6.0\n",
      "SARIMAX(0, 1, 1)x(1, 1, 1, 12)12 - AIC:8.0\n",
      "SARIMAX(1, 0, 0)x(0, 0, 0, 12)12 - AIC:265.2727996972351\n",
      "SARIMAX(1, 0, 0)x(0, 0, 1, 12)12 - AIC:108.5341333639349\n",
      "SARIMAX(1, 0, 0)x(0, 1, 0, 12)12 - AIC:101.37526237212467\n",
      "SARIMAX(1, 0, 0)x(0, 1, 1, 12)12 - AIC:6.0\n",
      "SARIMAX(1, 0, 0)x(1, 0, 0, 12)12 - AIC:102.57432940445113\n",
      "SARIMAX(1, 0, 0)x(1, 0, 1, 12)12 - AIC:109.77187114462393\n",
      "SARIMAX(1, 0, 0)x(1, 1, 0, 12)12 - AIC:6.0\n",
      "SARIMAX(1, 0, 0)x(1, 1, 1, 12)12 - AIC:8.0\n",
      "SARIMAX(1, 0, 1)x(0, 0, 0, 12)12 - AIC:252.28973235473399\n",
      "SARIMAX(1, 0, 1)x(0, 0, 1, 12)12 - AIC:95.53674090160868\n",
      "SARIMAX(1, 0, 1)x(0, 1, 0, 12)12 - AIC:89.93330107572694\n",
      "SARIMAX(1, 0, 1)x(0, 1, 1, 12)12 - AIC:8.0\n",
      "SARIMAX(1, 0, 1)x(1, 0, 0, 12)12 - AIC:101.63946071662411\n",
      "SARIMAX(1, 0, 1)x(1, 0, 1, 12)12 - AIC:96.5294855616388\n",
      "SARIMAX(1, 0, 1)x(1, 1, 0, 12)12 - AIC:8.0\n",
      "SARIMAX(1, 0, 1)x(1, 1, 1, 12)12 - AIC:10.0\n",
      "SARIMAX(1, 1, 0)x(0, 0, 0, 12)12 - AIC:247.4243885543192\n",
      "SARIMAX(1, 1, 0)x(0, 0, 1, 12)12 - AIC:91.66536032785422\n",
      "SARIMAX(1, 1, 0)x(0, 1, 0, 12)12 - AIC:91.61181032705416\n",
      "SARIMAX(1, 1, 0)x(0, 1, 1, 12)12 - AIC:6.0\n",
      "SARIMAX(1, 1, 0)x(1, 0, 0, 12)12 - AIC:91.64770292786304\n",
      "SARIMAX(1, 1, 0)x(1, 0, 1, 12)12 - AIC:93.6477025987927\n",
      "SARIMAX(1, 1, 0)x(1, 1, 0, 12)12 - AIC:6.0\n",
      "SARIMAX(1, 1, 0)x(1, 1, 1, 12)12 - AIC:8.0\n",
      "SARIMAX(1, 1, 1)x(0, 0, 0, 12)12 - AIC:235.35115262469898\n",
      "SARIMAX(1, 1, 1)x(0, 0, 1, 12)12 - AIC:78.42711843623603\n",
      "SARIMAX(1, 1, 1)x(0, 1, 0, 12)12 - AIC:77.64760910610863\n",
      "SARIMAX(1, 1, 1)x(0, 1, 1, 12)12 - AIC:8.0\n",
      "SARIMAX(1, 1, 1)x(1, 0, 0, 12)12 - AIC:93.8133468767947\n",
      "SARIMAX(1, 1, 1)x(1, 0, 1, 12)12 - AIC:80.18237096243378\n",
      "SARIMAX(1, 1, 1)x(1, 1, 0, 12)12 - AIC:8.0\n",
      "SARIMAX(1, 1, 1)x(1, 1, 1, 12)12 - AIC:10.0\n"
     ]
    }
   ],
   "source": [
    "import warnings\n",
    "warnings.filterwarnings(\"ignore\") # specify to ignore warning messages\n",
    "\n",
    "arrayy=[]\n",
    "\n",
    "for param in pdq:\n",
    "    for param_seasonal in seasonal_pdq:\n",
    "        try:\n",
    "            mod = sm.tsa.statespace.SARIMAX(datasets['Zwolle']['Deceased'],\n",
    "                                            order=param,\n",
    "                                            seasonal_order=param_seasonal,\n",
    "                                            enforce_stationarity=False,\n",
    "                                            enforce_invertibility=False)\n",
    "\n",
    "            results = mod.fit()\n",
    "            arrayy.append(results.aic)\n",
    "            print('SARIMAX{}x{}12 - AIC:{}'.format(param, param_seasonal, results.aic))\n",
    "        except:\n",
    "            continue"
   ]
  },
  {
   "cell_type": "code",
   "execution_count": 18,
   "id": "b5a21aa0",
   "metadata": {},
   "outputs": [
    {
     "name": "stdout",
     "output_type": "stream",
     "text": [
      "==============================================================================\n",
      "                 coef    std err          z      P>|z|      [0.025      0.975]\n",
      "------------------------------------------------------------------------------\n",
      "ar.S.L12            0         -0        nan        nan           0           0\n",
      "sigma2      1.481e+05         -0       -inf      0.000    1.48e+05    1.48e+05\n",
      "==============================================================================\n"
     ]
    }
   ],
   "source": [
    "mod = sm.tsa.statespace.SARIMAX(datasets['Zwolle']['Deceased'],\n",
    "                                order=(0, 1, 0),\n",
    "                                seasonal_order=(1, 1, 0, 12),\n",
    "                                enforce_stationarity=False,\n",
    "                                enforce_invertibility=False)\n",
    "\n",
    "results = mod.fit()\n",
    "\n",
    "print(results.summary().tables[1])"
   ]
  },
  {
   "cell_type": "code",
   "execution_count": 19,
   "id": "48c6f30c",
   "metadata": {},
   "outputs": [
    {
     "ename": "ValueError",
     "evalue": "Length of endogenous variable must be larger the the number of lags used in the model and the number of observations burned in the log-likelihood calculation.",
     "output_type": "error",
     "traceback": [
      "\u001b[1;31m---------------------------------------------------------------------------\u001b[0m",
      "\u001b[1;31mValueError\u001b[0m                                Traceback (most recent call last)",
      "\u001b[1;32m<ipython-input-19-a30eebcb7372>\u001b[0m in \u001b[0;36m<module>\u001b[1;34m\u001b[0m\n\u001b[1;32m----> 1\u001b[1;33m \u001b[0mresults\u001b[0m\u001b[1;33m.\u001b[0m\u001b[0mplot_diagnostics\u001b[0m\u001b[1;33m(\u001b[0m\u001b[0mvariable\u001b[0m\u001b[1;33m=\u001b[0m\u001b[1;36m0\u001b[0m\u001b[1;33m,\u001b[0m\u001b[0mfigsize\u001b[0m\u001b[1;33m=\u001b[0m\u001b[1;33m(\u001b[0m\u001b[1;36m15\u001b[0m\u001b[1;33m,\u001b[0m \u001b[1;36m12\u001b[0m\u001b[1;33m)\u001b[0m\u001b[1;33m)\u001b[0m\u001b[1;33m\u001b[0m\u001b[1;33m\u001b[0m\u001b[0m\n\u001b[0m\u001b[0;32m      2\u001b[0m \u001b[0mplt\u001b[0m\u001b[1;33m.\u001b[0m\u001b[0mshow\u001b[0m\u001b[1;33m(\u001b[0m\u001b[1;33m)\u001b[0m\u001b[1;33m\u001b[0m\u001b[1;33m\u001b[0m\u001b[0m\n",
      "\u001b[1;32m~\\anaconda3\\lib\\site-packages\\statsmodels\\tsa\\statespace\\mlemodel.py\u001b[0m in \u001b[0;36mplot_diagnostics\u001b[1;34m(self, variable, lags, fig, figsize, truncate_endog_names)\u001b[0m\n\u001b[0;32m   4282\u001b[0m \u001b[1;33m\u001b[0m\u001b[0m\n\u001b[0;32m   4283\u001b[0m         \u001b[1;32mif\u001b[0m \u001b[0mresid\u001b[0m\u001b[1;33m.\u001b[0m\u001b[0mshape\u001b[0m\u001b[1;33m[\u001b[0m\u001b[1;36m0\u001b[0m\u001b[1;33m]\u001b[0m \u001b[1;33m<\u001b[0m \u001b[0mmax\u001b[0m\u001b[1;33m(\u001b[0m\u001b[0md\u001b[0m\u001b[1;33m,\u001b[0m \u001b[0mlags\u001b[0m\u001b[1;33m)\u001b[0m\u001b[1;33m:\u001b[0m\u001b[1;33m\u001b[0m\u001b[1;33m\u001b[0m\u001b[0m\n\u001b[1;32m-> 4284\u001b[1;33m             raise ValueError(\n\u001b[0m\u001b[0;32m   4285\u001b[0m                 \u001b[1;34m\"Length of endogenous variable must be larger the the number \"\u001b[0m\u001b[1;33m\u001b[0m\u001b[1;33m\u001b[0m\u001b[0m\n\u001b[0;32m   4286\u001b[0m                 \u001b[1;34m\"of lags used in the model and the number of observations \"\u001b[0m\u001b[1;33m\u001b[0m\u001b[1;33m\u001b[0m\u001b[0m\n",
      "\u001b[1;31mValueError\u001b[0m: Length of endogenous variable must be larger the the number of lags used in the model and the number of observations burned in the log-likelihood calculation."
     ]
    },
    {
     "data": {
      "text/plain": [
       "<Figure size 1080x864 with 0 Axes>"
      ]
     },
     "metadata": {},
     "output_type": "display_data"
    }
   ],
   "source": [
    "results.plot_diagnostics(variable=0,figsize=(15, 12))\n",
    "plt.show()"
   ]
  },
  {
   "cell_type": "code",
   "execution_count": null,
   "id": "9ac009b8",
   "metadata": {},
   "outputs": [],
   "source": [
    "pred = results.get_prediction(dynamic=False,shuffle=True)\n",
    "pred_ci = pred.conf_int()"
   ]
  },
  {
   "cell_type": "code",
   "execution_count": null,
   "id": "6acea8fd",
   "metadata": {
    "scrolled": false
   },
   "outputs": [],
   "source": [
    "ax = datasets['Zwolle']['Deceased'][2003:].plot(label='observed', figsize=(20, 15))\n",
    "pred.predicted_mean.plot(ax=ax, label='One-step ahead Forecast', alpha=.7)\n",
    "\n",
    "ax.fill_between(pred_ci.index,\n",
    "                pred_ci.iloc[:, 0],\n",
    "                pred_ci.iloc[:, 1], color='k', alpha=.2)\n",
    "\n",
    "ax.set_xlabel('date')\n",
    "ax.set_ylabel('deceased')\n",
    "plt.legend()\n",
    "\n",
    "plt.show()"
   ]
  },
  {
   "cell_type": "code",
   "execution_count": null,
   "id": "994d97c1",
   "metadata": {},
   "outputs": [],
   "source": [
    "dd"
   ]
  },
  {
   "cell_type": "code",
   "execution_count": null,
   "id": "b5d62fa6",
   "metadata": {},
   "outputs": [],
   "source": [
    "co2_forecasted = pred.predicted_mean\n",
    "pd.to_datetime(datasets['Zwolle'].index)\n",
    "co2_truth = datasets['Zwolle']['Deceased'][2003:]\n",
    "\n",
    "# Compute the mean square error\n",
    "mse = ((co2_forecasted - co2_truth) ** 2).mean()\n",
    "print('The Mean Squared Error of our forecasts is {}'.format(round(mse, 2)))"
   ]
  },
  {
   "cell_type": "code",
   "execution_count": null,
   "id": "b704d04d",
   "metadata": {},
   "outputs": [],
   "source": [
    "pred_dynamic = results.get_prediction(start=2003 ,dynamic=True, full_results=True)\n",
    "pred_dynamic_ci = pred_dynamic.conf_int()"
   ]
  },
  {
   "cell_type": "code",
   "execution_count": null,
   "id": "66054e23",
   "metadata": {
    "scrolled": true
   },
   "outputs": [],
   "source": [
    "pd.to_datetime(datasets['Zwolle'].index)\n",
    "ax = datasets['Zwolle']['Deceased'][2003:20018].plot(label='observed', figsize=(20, 15))\n",
    "pred_dynamic.predicted_mean.plot(label='Dynamic Forecast', ax=ax)\n",
    "\n",
    "ax.fill_between(pred_dynamic_ci.index,\n",
    "                pred_dynamic_ci.iloc[:, 0],\n",
    "                pred_dynamic_ci.iloc[:, 1], color='k', alpha=.25)\n",
    "\n",
    "ax.fill_betweenx(ax.get_ylim(), 2003, dd.index[-1],\n",
    "                 alpha=.1, zorder=-1)\n",
    "\n",
    "ax.set_xlabel('Date')\n",
    "ax.set_ylabel('CO2 Levels [ppmv]')\n",
    "\n",
    "plt.legend()\n",
    "plt.show()"
   ]
  },
  {
   "cell_type": "markdown",
   "id": "28c2cc31",
   "metadata": {},
   "source": [
    "# sns.scatterplot(data=scores, x='Municipality', y='Score', hue=\"Municipality\")\n",
    "import plotly.express as px\n",
    "fig = px.scatter(scores, x='Municipality', y='Score', color='Municipality')\n",
    "fig.show()"
   ]
  },
  {
   "cell_type": "code",
   "execution_count": null,
   "id": "26640e8b",
   "metadata": {},
   "outputs": [],
   "source": [
    "# dataset = (\n",
    "#     dataset\n",
    "#         .groupby(['Year', 'Municipality']).mean()\n",
    "#         .reset_index()\n",
    "# )"
   ]
  },
  {
   "cell_type": "markdown",
   "id": "f505306a",
   "metadata": {},
   "source": [
    "# dataset\n",
    "import plotly.express as px\n",
    "px.line(dataset, x=\"Year\", y='Deceased', color=\"Municipality\", title=\"Deceased per Year per Municipality in the Netherlands\")"
   ]
  },
  {
   "cell_type": "markdown",
   "id": "091abeaa",
   "metadata": {},
   "source": [
    "### PopulationChange - PopComparison2015_2020"
   ]
  },
  {
   "cell_type": "markdown",
   "id": "1d86fd13",
   "metadata": {},
   "source": [
    "### PopulationChange - GrowthPrediction2020_2050"
   ]
  },
  {
   "cell_type": "markdown",
   "id": "7e177c50",
   "metadata": {},
   "source": [
    "### Death Datasets"
   ]
  },
  {
   "cell_type": "markdown",
   "id": "dbc0e21b",
   "metadata": {},
   "source": [
    "### Birth Datasets"
   ]
  },
  {
   "cell_type": "markdown",
   "id": "0a7d5df9",
   "metadata": {},
   "source": [
    "<b>Clean Data</b>"
   ]
  },
  {
   "cell_type": "markdown",
   "id": "9f4708db",
   "metadata": {},
   "source": [
    "- lifeExpectency\n",
    "    - lifeExpectencyPerRegion2016_2019 \n",
    "- populationChange\n",
    "    - pop2002_2020\n",
    "    - popOverview\n",
    "    - popComparison2015_2020\n",
    "    - growthPrediction2020_2050\n",
    "    - absoluteNr\n",
    "- death\n",
    "    - reasons1997_2014\n",
    "    - reasons2005_2012\n",
    "    - reasons2013_2020\n",
    "    - perWeek2020_2021\n",
    "- birth\n",
    "    - birthPerYear1899_2018\n",
    "    - avaragesOfMonth"
   ]
  },
  {
   "cell_type": "markdown",
   "id": "b8e06b71",
   "metadata": {},
   "source": [
    "<b>Merge</b>"
   ]
  },
  {
   "cell_type": "code",
   "execution_count": null,
   "id": "11e1c18b",
   "metadata": {},
   "outputs": [],
   "source": [
    "# these are custom classes made to keep the notebook neat.\n",
    "\n"
   ]
  },
  {
   "cell_type": "markdown",
   "id": "3f31f331",
   "metadata": {},
   "source": [
    "<b>Heatmap</b>"
   ]
  },
  {
   "cell_type": "code",
   "execution_count": null,
   "id": "a8ebe4c9",
   "metadata": {},
   "outputs": [],
   "source": []
  }
 ],
 "metadata": {
  "kernelspec": {
   "display_name": "Python 3",
   "language": "python",
   "name": "python3"
  },
  "language_info": {
   "codemirror_mode": {
    "name": "ipython",
    "version": 3
   },
   "file_extension": ".py",
   "mimetype": "text/x-python",
   "name": "python",
   "nbconvert_exporter": "python",
   "pygments_lexer": "ipython3",
   "version": "3.8.8"
  }
 },
 "nbformat": 4,
 "nbformat_minor": 5
}
