{
 "cells": [
  {
   "cell_type": "markdown",
   "id": "fb0a21ca",
   "metadata": {},
   "source": [
    "# Notebook Setup"
   ]
  },
  {
   "cell_type": "code",
   "execution_count": 81,
   "id": "de4f1ebb",
   "metadata": {},
   "outputs": [],
   "source": [
    "import matplotlib.pyplot as plt\n",
    "import pandas as pd\n",
    "import seaborn as sns\n",
    "from sklearn.preprocessing import StandardScaler"
   ]
  },
  {
   "cell_type": "markdown",
   "id": "9afafc20",
   "metadata": {},
   "source": [
    "# Dela - Predicting the amount of deaths per year"
   ]
  },
  {
   "cell_type": "markdown",
   "id": "75664d22",
   "metadata": {},
   "source": [
    "### 1. Intro\n",
    "<b>Who is our client?</b><br>\n",
    "Our client is Dela. Dela is a funeral insurer and caretaker for funeral services. In this semester, they will give us some inside problems that we can investigate on.<br><br>\n",
    "<b>Project explanation</b><br>\n",
    "Dela was faced with unprecedented challenge by the fluctuating demands during the Covid19 first year, and that way they are looking to enhance their abilities to react to surprising serge or drops in demands.\n",
    "We cannot predict when Dela needs to upscale or downscale. However, we can forecast the amount of deaths in the upcoming years. Based on that knowledge and Dela experience, they can conclude themselves when to upscale or downscale.<br><br>\n",
    "<b>Project goal</b><br>\n",
    "In our project, we are going to forecast the amount of deaths per year. In this way we can help them conclude easier what to do on higher, lower demand.<br><br><br>\n",
    "<b>Document explanation</b><br>\n",
    "In this document there will be the testing and implementation of the project delivered proposal hypothesis. In this document, we will do that by understanding and experimenting with the collected data. After the understanding, we will see if our hypothesis can be validated and we will do that by applying machine learning onto our dataset.<br><br>\n",
    "<b>Document setup:</b><br>\n",
    "<table style=\"font-size: 14px !important; margin: 0 !important\">\n",
    "    <tr>\n",
    "        <th style=\"text-align: left;\">Data requirements</th>\n",
    "        <td style=\"text-align: left;\">In this chapter, we are going to setup the requirements for the data that is needed for the prediction. We will answer questions like ‘Which references are trustworthy?’, ‘Do we need some specific features?’, etc…</td>\n",
    "    </tr>\n",
    "    <tr>\n",
    "        <th style=\"text-align: left;\">Data collection</th>\n",
    "        <td style=\"text-align: left;\">In this chapter, we are going to explain where we found our data, where we are going to store our data and references to he subchapters of each dataset</td>\n",
    "    </tr>\n",
    "    <tr>\n",
    "        <th style=\"text-align: left;\">Data understanding</th>\n",
    "        <td style=\"text-align: left;\">In this chapter, we are going to understand each specific dataset that we downloaded to really understand the value of each dataset and how it is going to bring a value to Dela.</td>\n",
    "    </tr>\n",
    "    <tr>\n",
    "        <th style=\"text-align: left;\">Data preparation</th>\n",
    "        <td style=\"text-align: left;\">In this chapter, we are going to prepare our data so it is clean to work with, think about removing all the data that has invalid records, data that has wrong values or data that has similar features with different names.</td>\n",
    "    </tr>\n",
    "</table>"
   ]
  },
  {
   "cell_type": "markdown",
   "id": "e429ae60",
   "metadata": {},
   "source": [
    "### 2. Provisioning"
   ]
  },
  {
   "cell_type": "markdown",
   "id": "aae53522",
   "metadata": {},
   "source": [
    "### 2.1 Data Requirements\n",
    "In this chapter, we are trying to setup the expectations/ requirements of the data we are going to collect for the provisioning fase."
   ]
  },
  {
   "cell_type": "markdown",
   "id": "271084de",
   "metadata": {},
   "source": [
    "<table style=\"font-size: 14px !important; margin: 0 !important\">\n",
    "    <tr>\n",
    "        <th style=\"text-align: left !important\">Data Domain</th>\n",
    "        <td style=\"text-align: left !important\"></td>\n",
    "    </tr>\n",
    "    <tr>\n",
    "        <th style=\"text-align: left !important\">Data type</th>\n",
    "        <td style=\"text-align: left !important\"></td>\n",
    "    </tr>\n",
    "    <tr>\n",
    "        <th style=\"text-align: left !important\">Target Variable</th>\n",
    "        <td style=\"text-align: left !important\"></td>\n",
    "    </tr>\n",
    "    <tr>\n",
    "        <th style=\"text-align: left !important\">Expected Features</th>\n",
    "        <td style=\"text-align: left !important\"></td>\n",
    "    </tr>\n",
    "</table>"
   ]
  },
  {
   "cell_type": "markdown",
   "id": "1fc8d1a0",
   "metadata": {},
   "source": [
    "### 2.2 Data Collection\n",
    "Because we want to search for data that contains the amount of deaths in the Netherlands, we began searching for an open data bank that is governmental. In this case the data is from a trustworthy source and will higher the chance of a good prediction. That's when we landed on CBS (stands for `Centraal Bureau voor de Statistiek`, translated to English that means  `Central Station of Statistics`). "
   ]
  },
  {
   "cell_type": "markdown",
   "id": "b01e6e97",
   "metadata": {},
   "source": [
    "<table style=\"font-size: 14px !important; margin: 0 !important\">\n",
    "    <tr>\n",
    "        <th style=\"text-align: left !important\">Data Source</th>\n",
    "        <td style=\"text-align: left !important\">We got our data from the official   <a href=\"https://opendata.cbs.nl/statline/portal.html?_la=nl&_catalog=CBS\" target=\"_blank\">CBS</a> Website</td>\n",
    "    </tr>\n",
    "    <tr>\n",
    "        <th style=\"text-align: left !important\">Data Storage</th>\n",
    "        <td style=\"text-align: left !important\">We stored all of our datasets on <a href=\"https://github.com/i454038/AI-car-price-prediction\" target=\"_blank\">Github</a>, so it is globally accessible</td>\n",
    "    </tr>\n",
    "</table>"
   ]
  },
  {
   "cell_type": "markdown",
   "id": "c8226c3e",
   "metadata": {},
   "source": [
    "Load in the datasets from Github"
   ]
  },
  {
   "cell_type": "code",
   "execution_count": 82,
   "id": "fb95f526",
   "metadata": {},
   "outputs": [],
   "source": [
    "# these are custom classes made to keep the notebook neat.\n",
    "from classes.dataImporting import datasetManager\n",
    "\n",
    "datasets = datasetManager.defineDatasets()\n",
    "dataframes = datasetManager.loadDatasets(datasets)"
   ]
  },
  {
   "cell_type": "markdown",
   "id": "18043d12",
   "metadata": {},
   "source": [
    "### 2.3 Data Understanding"
   ]
  },
  {
   "cell_type": "markdown",
   "id": "bb1dbbe5",
   "metadata": {},
   "source": [
    "understand this data"
   ]
  },
  {
   "cell_type": "code",
   "execution_count": null,
   "id": "0be4bb22",
   "metadata": {},
   "outputs": [],
   "source": []
  },
  {
   "cell_type": "markdown",
   "id": "983402ea",
   "metadata": {},
   "source": [
    "### 2.4 Data Preperation"
   ]
  },
  {
   "cell_type": "markdown",
   "id": "65ce9dec",
   "metadata": {},
   "source": [
    "### LifeExpectency - LifeExpectencyPerRegion"
   ]
  },
  {
   "cell_type": "code",
   "execution_count": 83,
   "id": "27083a87",
   "metadata": {},
   "outputs": [
    {
     "data": {
      "text/html": [
       "<div>\n",
       "<style scoped>\n",
       "    .dataframe tbody tr th:only-of-type {\n",
       "        vertical-align: middle;\n",
       "    }\n",
       "\n",
       "    .dataframe tbody tr th {\n",
       "        vertical-align: top;\n",
       "    }\n",
       "\n",
       "    .dataframe thead th {\n",
       "        text-align: right;\n",
       "    }\n",
       "</style>\n",
       "<table border=\"1\" class=\"dataframe\">\n",
       "  <thead>\n",
       "    <tr style=\"text-align: right;\">\n",
       "      <th></th>\n",
       "      <th>id</th>\n",
       "      <th>Gemeente</th>\n",
       "      <th>Groep_rij</th>\n",
       "      <th>Geslacht</th>\n",
       "      <th>Bij geboorte</th>\n",
       "      <th>Bij geboorte (afwijking tov NL)</th>\n",
       "      <th>Bij 65 jaar</th>\n",
       "      <th>Bij 65 jaar (afwijking tov NL)</th>\n",
       "    </tr>\n",
       "  </thead>\n",
       "  <tbody>\n",
       "    <tr>\n",
       "      <th>0</th>\n",
       "      <td>518</td>\n",
       "      <td>'s-Gravenhage</td>\n",
       "      <td>Levensverwachting</td>\n",
       "      <td>Totaal</td>\n",
       "      <td>80,8</td>\n",
       "      <td>onder, 99% zeker</td>\n",
       "      <td>19,1</td>\n",
       "      <td>onder, 99% zeker</td>\n",
       "    </tr>\n",
       "    <tr>\n",
       "      <th>1</th>\n",
       "      <td>796</td>\n",
       "      <td>'s-Hertogenbosch</td>\n",
       "      <td>Levensverwachting</td>\n",
       "      <td>Totaal</td>\n",
       "      <td>81,3</td>\n",
       "      <td>onder, 99% zeker</td>\n",
       "      <td>19,7</td>\n",
       "      <td>onder, 99% zeker</td>\n",
       "    </tr>\n",
       "    <tr>\n",
       "      <th>2</th>\n",
       "      <td>1680</td>\n",
       "      <td>Aa en Hunze</td>\n",
       "      <td>Levensverwachting</td>\n",
       "      <td>Totaal</td>\n",
       "      <td>82,1</td>\n",
       "      <td>geen</td>\n",
       "      <td>20,4</td>\n",
       "      <td>geen</td>\n",
       "    </tr>\n",
       "    <tr>\n",
       "      <th>3</th>\n",
       "      <td>358</td>\n",
       "      <td>Aalsmeer</td>\n",
       "      <td>Levensverwachting</td>\n",
       "      <td>Totaal</td>\n",
       "      <td>82,9</td>\n",
       "      <td>boven, 99% zeker</td>\n",
       "      <td>20,1</td>\n",
       "      <td>geen</td>\n",
       "    </tr>\n",
       "    <tr>\n",
       "      <th>4</th>\n",
       "      <td>197</td>\n",
       "      <td>Aalten</td>\n",
       "      <td>Levensverwachting</td>\n",
       "      <td>Totaal</td>\n",
       "      <td>82,1</td>\n",
       "      <td>geen</td>\n",
       "      <td>20,3</td>\n",
       "      <td>geen</td>\n",
       "    </tr>\n",
       "  </tbody>\n",
       "</table>\n",
       "</div>"
      ],
      "text/plain": [
       "     id          Gemeente          Groep_rij Geslacht Bij geboorte  \\\n",
       "0   518     's-Gravenhage  Levensverwachting   Totaal         80,8   \n",
       "1   796  's-Hertogenbosch  Levensverwachting   Totaal         81,3   \n",
       "2  1680       Aa en Hunze  Levensverwachting   Totaal         82,1   \n",
       "3   358          Aalsmeer  Levensverwachting   Totaal         82,9   \n",
       "4   197            Aalten  Levensverwachting   Totaal         82,1   \n",
       "\n",
       "  Bij geboorte (afwijking tov NL) Bij 65 jaar Bij 65 jaar (afwijking tov NL)  \n",
       "0                onder, 99% zeker        19,1               onder, 99% zeker  \n",
       "1                onder, 99% zeker        19,7               onder, 99% zeker  \n",
       "2                            geen        20,4                           geen  \n",
       "3                boven, 99% zeker        20,1                           geen  \n",
       "4                            geen        20,3                           geen  "
      ]
     },
     "execution_count": 83,
     "metadata": {},
     "output_type": "execute_result"
    }
   ],
   "source": [
    "dataframes['lifeExpectency']['lifeExpectencyPerRegion'].head()"
   ]
  },
  {
   "cell_type": "markdown",
   "id": "35ae2289",
   "metadata": {},
   "source": [
    "### PopulationChange - Pop2002_2020"
   ]
  },
  {
   "cell_type": "code",
   "execution_count": 84,
   "id": "61296ba4",
   "metadata": {},
   "outputs": [],
   "source": [
    "# transform dataset to align with others\n",
    "dataframes['populationChange']['pop2002_2020'] = (\n",
    "    dataframes['populationChange']['pop2002_2020']\n",
    "        .rename(columns={'RegioS': 'Gemeente', 'Perioden': 'Year'})\n",
    "        .assign(Year = lambda x: pd.to_datetime(x.Year.str[:4]).dt.year)\n",
    "        .assign(Gemeente = lambda x: x.Gemeente.replace(datasetManager.mapFeature('Gemeente')))\n",
    "#         .groupby(['Year', 'Gemeente', 'LevendGeborenKinderen_2', 'Overledenen_3']).mean()\n",
    "#         .iloc[:, 4:4]\n",
    "#         .reset_index()\n",
    ")"
   ]
  },
  {
   "cell_type": "code",
   "execution_count": 85,
   "id": "86d2b717",
   "metadata": {},
   "outputs": [
    {
     "name": "stdout",
     "output_type": "stream",
     "text": [
      "<class 'pandas.core.frame.DataFrame'>\n",
      "RangeIndex: 10488 entries, 0 to 10487\n",
      "Data columns (total 18 columns):\n",
      " #   Column                               Non-Null Count  Dtype  \n",
      "---  ------                               --------------  -----  \n",
      " 0   ID                                   10488 non-null  int64  \n",
      " 1   Gemeente                             10488 non-null  object \n",
      " 2   Year                                 10488 non-null  int64  \n",
      " 3   BevolkingAanHetBeginVanDePeriode_1   8056 non-null   float64\n",
      " 4   LevendGeborenKinderen_2              8055 non-null   float64\n",
      " 5   Overledenen_3                        8055 non-null   float64\n",
      " 6   TotaleVestiging_4                    8055 non-null   float64\n",
      " 7   VestigingVanuitEenAndereGemeente_5   8055 non-null   float64\n",
      " 8   Immigratie_6                         8055 non-null   float64\n",
      " 9   TotaalVertrekInclAdmCorrecties_7     8055 non-null   float64\n",
      " 10  VertrekNaarAndereGemeente_8          8055 non-null   float64\n",
      " 11  EmigratieInclusiefAdmCorrecties_9    8055 non-null   float64\n",
      " 12  OverigeCorrecties_10                 8055 non-null   float64\n",
      " 13  Bevolkingsgroei_11                   8055 non-null   float64\n",
      " 14  BevolkingsgroeiRelatief_12           8055 non-null   float64\n",
      " 15  BevolkingsgroeiSinds1Januari_13      8055 non-null   float64\n",
      " 16  BevolkingsgroeiSinds1JanuariRela_14  8055 non-null   float64\n",
      " 17  BevolkingAanHetEindeVanDePeriode_15  8055 non-null   float64\n",
      "dtypes: float64(15), int64(2), object(1)\n",
      "memory usage: 1.4+ MB\n"
     ]
    }
   ],
   "source": [
    "dataframes['populationChange']['pop2002_2020'].info()"
   ]
  },
  {
   "cell_type": "code",
   "execution_count": 86,
   "id": "e23f811d",
   "metadata": {},
   "outputs": [
    {
     "data": {
      "text/html": [
       "<div>\n",
       "<style scoped>\n",
       "    .dataframe tbody tr th:only-of-type {\n",
       "        vertical-align: middle;\n",
       "    }\n",
       "\n",
       "    .dataframe tbody tr th {\n",
       "        vertical-align: top;\n",
       "    }\n",
       "\n",
       "    .dataframe thead th {\n",
       "        text-align: right;\n",
       "    }\n",
       "</style>\n",
       "<table border=\"1\" class=\"dataframe\">\n",
       "  <thead>\n",
       "    <tr style=\"text-align: right;\">\n",
       "      <th></th>\n",
       "      <th>Year</th>\n",
       "      <th>Gemeente</th>\n",
       "      <th>Bij geboorte</th>\n",
       "      <th>ID</th>\n",
       "      <th>BevolkingAanHetBeginVanDePeriode_1</th>\n",
       "      <th>LevendGeborenKinderen_2</th>\n",
       "      <th>Overledenen_3</th>\n",
       "      <th>TotaleVestiging_4</th>\n",
       "      <th>VestigingVanuitEenAndereGemeente_5</th>\n",
       "      <th>Immigratie_6</th>\n",
       "      <th>TotaalVertrekInclAdmCorrecties_7</th>\n",
       "      <th>VertrekNaarAndereGemeente_8</th>\n",
       "      <th>EmigratieInclusiefAdmCorrecties_9</th>\n",
       "      <th>OverigeCorrecties_10</th>\n",
       "      <th>Bevolkingsgroei_11</th>\n",
       "      <th>BevolkingsgroeiRelatief_12</th>\n",
       "      <th>BevolkingsgroeiSinds1Januari_13</th>\n",
       "      <th>BevolkingsgroeiSinds1JanuariRela_14</th>\n",
       "      <th>BevolkingAanHetEindeVanDePeriode_15</th>\n",
       "      <th>id</th>\n",
       "    </tr>\n",
       "  </thead>\n",
       "  <tbody>\n",
       "    <tr>\n",
       "      <th>0</th>\n",
       "      <td>2002</td>\n",
       "      <td>'s-Hertogenbosch</td>\n",
       "      <td>81,3</td>\n",
       "      <td>67340</td>\n",
       "      <td>131697.0</td>\n",
       "      <td>1728.0</td>\n",
       "      <td>1119.0</td>\n",
       "      <td>6169.0</td>\n",
       "      <td>5309.0</td>\n",
       "      <td>860.0</td>\n",
       "      <td>5991.0</td>\n",
       "      <td>4965.0</td>\n",
       "      <td>1026.0</td>\n",
       "      <td>17.0</td>\n",
       "      <td>804.0</td>\n",
       "      <td>0.61</td>\n",
       "      <td>804.0</td>\n",
       "      <td>0.61</td>\n",
       "      <td>132501.0</td>\n",
       "      <td>796.0</td>\n",
       "    </tr>\n",
       "    <tr>\n",
       "      <th>1</th>\n",
       "      <td>2002</td>\n",
       "      <td>Aa en Hunze</td>\n",
       "      <td>82,1</td>\n",
       "      <td>14604</td>\n",
       "      <td>25552.0</td>\n",
       "      <td>289.0</td>\n",
       "      <td>251.0</td>\n",
       "      <td>1353.0</td>\n",
       "      <td>1121.0</td>\n",
       "      <td>232.0</td>\n",
       "      <td>1617.0</td>\n",
       "      <td>1498.0</td>\n",
       "      <td>119.0</td>\n",
       "      <td>-21.0</td>\n",
       "      <td>-247.0</td>\n",
       "      <td>-0.97</td>\n",
       "      <td>-247.0</td>\n",
       "      <td>-0.97</td>\n",
       "      <td>25305.0</td>\n",
       "      <td>1680.0</td>\n",
       "    </tr>\n",
       "    <tr>\n",
       "      <th>2</th>\n",
       "      <td>2002</td>\n",
       "      <td>Aalsmeer</td>\n",
       "      <td>82,9</td>\n",
       "      <td>15116</td>\n",
       "      <td>22786.0</td>\n",
       "      <td>263.0</td>\n",
       "      <td>171.0</td>\n",
       "      <td>873.0</td>\n",
       "      <td>716.0</td>\n",
       "      <td>157.0</td>\n",
       "      <td>914.0</td>\n",
       "      <td>753.0</td>\n",
       "      <td>161.0</td>\n",
       "      <td>2.0</td>\n",
       "      <td>53.0</td>\n",
       "      <td>0.23</td>\n",
       "      <td>53.0</td>\n",
       "      <td>0.23</td>\n",
       "      <td>22839.0</td>\n",
       "      <td>358.0</td>\n",
       "    </tr>\n",
       "    <tr>\n",
       "      <th>3</th>\n",
       "      <td>2002</td>\n",
       "      <td>Aalten</td>\n",
       "      <td>82,1</td>\n",
       "      <td>15372</td>\n",
       "      <td>18811.0</td>\n",
       "      <td>236.0</td>\n",
       "      <td>164.0</td>\n",
       "      <td>614.0</td>\n",
       "      <td>452.0</td>\n",
       "      <td>162.0</td>\n",
       "      <td>642.0</td>\n",
       "      <td>577.0</td>\n",
       "      <td>65.0</td>\n",
       "      <td>0.0</td>\n",
       "      <td>44.0</td>\n",
       "      <td>0.23</td>\n",
       "      <td>44.0</td>\n",
       "      <td>0.23</td>\n",
       "      <td>18855.0</td>\n",
       "      <td>197.0</td>\n",
       "    </tr>\n",
       "    <tr>\n",
       "      <th>4</th>\n",
       "      <td>2002</td>\n",
       "      <td>Achtkarspelen</td>\n",
       "      <td>81,4</td>\n",
       "      <td>16140</td>\n",
       "      <td>28045.0</td>\n",
       "      <td>398.0</td>\n",
       "      <td>205.0</td>\n",
       "      <td>789.0</td>\n",
       "      <td>763.0</td>\n",
       "      <td>26.0</td>\n",
       "      <td>916.0</td>\n",
       "      <td>860.0</td>\n",
       "      <td>56.0</td>\n",
       "      <td>-9.0</td>\n",
       "      <td>57.0</td>\n",
       "      <td>0.20</td>\n",
       "      <td>57.0</td>\n",
       "      <td>0.20</td>\n",
       "      <td>28102.0</td>\n",
       "      <td>59.0</td>\n",
       "    </tr>\n",
       "  </tbody>\n",
       "</table>\n",
       "</div>"
      ],
      "text/plain": [
       "   Year          Gemeente Bij geboorte     ID  \\\n",
       "0  2002  's-Hertogenbosch         81,3  67340   \n",
       "1  2002       Aa en Hunze         82,1  14604   \n",
       "2  2002          Aalsmeer         82,9  15116   \n",
       "3  2002            Aalten         82,1  15372   \n",
       "4  2002     Achtkarspelen         81,4  16140   \n",
       "\n",
       "   BevolkingAanHetBeginVanDePeriode_1  LevendGeborenKinderen_2  Overledenen_3  \\\n",
       "0                            131697.0                   1728.0         1119.0   \n",
       "1                             25552.0                    289.0          251.0   \n",
       "2                             22786.0                    263.0          171.0   \n",
       "3                             18811.0                    236.0          164.0   \n",
       "4                             28045.0                    398.0          205.0   \n",
       "\n",
       "   TotaleVestiging_4  VestigingVanuitEenAndereGemeente_5  Immigratie_6  \\\n",
       "0             6169.0                              5309.0         860.0   \n",
       "1             1353.0                              1121.0         232.0   \n",
       "2              873.0                               716.0         157.0   \n",
       "3              614.0                               452.0         162.0   \n",
       "4              789.0                               763.0          26.0   \n",
       "\n",
       "   TotaalVertrekInclAdmCorrecties_7  VertrekNaarAndereGemeente_8  \\\n",
       "0                            5991.0                       4965.0   \n",
       "1                            1617.0                       1498.0   \n",
       "2                             914.0                        753.0   \n",
       "3                             642.0                        577.0   \n",
       "4                             916.0                        860.0   \n",
       "\n",
       "   EmigratieInclusiefAdmCorrecties_9  OverigeCorrecties_10  \\\n",
       "0                             1026.0                  17.0   \n",
       "1                              119.0                 -21.0   \n",
       "2                              161.0                   2.0   \n",
       "3                               65.0                   0.0   \n",
       "4                               56.0                  -9.0   \n",
       "\n",
       "   Bevolkingsgroei_11  BevolkingsgroeiRelatief_12  \\\n",
       "0               804.0                        0.61   \n",
       "1              -247.0                       -0.97   \n",
       "2                53.0                        0.23   \n",
       "3                44.0                        0.23   \n",
       "4                57.0                        0.20   \n",
       "\n",
       "   BevolkingsgroeiSinds1Januari_13  BevolkingsgroeiSinds1JanuariRela_14  \\\n",
       "0                            804.0                                 0.61   \n",
       "1                           -247.0                                -0.97   \n",
       "2                             53.0                                 0.23   \n",
       "3                             44.0                                 0.23   \n",
       "4                             57.0                                 0.20   \n",
       "\n",
       "   BevolkingAanHetEindeVanDePeriode_15      id  \n",
       "0                             132501.0   796.0  \n",
       "1                              25305.0  1680.0  \n",
       "2                              22839.0   358.0  \n",
       "3                              18855.0   197.0  \n",
       "4                              28102.0    59.0  "
      ]
     },
     "execution_count": 86,
     "metadata": {},
     "output_type": "execute_result"
    }
   ],
   "source": [
    "dataset = (\n",
    "    dataframes['populationChange']['pop2002_2020']\n",
    "        .merge(dataframes['lifeExpectency']['lifeExpectencyPerRegion'], how='left', on='Gemeente')\n",
    "        .groupby(['Year', 'Gemeente', 'Bij geboorte']).mean()\n",
    "        .reset_index()\n",
    ")\n",
    "\n",
    "dataset.head(5)"
   ]
  },
  {
   "cell_type": "code",
   "execution_count": 87,
   "id": "4ea42d97",
   "metadata": {},
   "outputs": [
    {
     "data": {
      "text/plain": [
       "<AxesSubplot:>"
      ]
     },
     "execution_count": 87,
     "metadata": {},
     "output_type": "execute_result"
    },
    {
     "data": {
      "image/png": "[encoded data removed]",
      "text/plain": [
       "<Figure size 432x288 with 2 Axes>"
      ]
     },
     "metadata": {
      "needs_background": "light"
     },
     "output_type": "display_data"
    }
   ],
   "source": [
    "# dataset['Bij geboorte'] = dataset['Bij geboorte'].str.replace(',', '.')\n",
    "# dataset = dataset.drop(['Gemeente'], axis=1)\n",
    "# for column in dataset.columns:\n",
    "#     dataset[column] = round(dataset[column].astype(float))\n",
    "    \n",
    "# scaler = StandardScaler()\n",
    "# dataset = scaler.fit_transform(dataset)    \n",
    "    \n",
    "# # dataset\n",
    "# sns.heatmap(dataset)"
   ]
  },
  {
   "cell_type": "markdown",
   "id": "f0c6d454",
   "metadata": {},
   "source": [
    "### PopulationChange - PopOverview"
   ]
  },
  {
   "cell_type": "markdown",
   "id": "091abeaa",
   "metadata": {},
   "source": [
    "### PopulationChange - PopComparison2015_2020"
   ]
  },
  {
   "cell_type": "markdown",
   "id": "1d86fd13",
   "metadata": {},
   "source": [
    "### PopulationChange - GrowthPrediction2020_2050"
   ]
  },
  {
   "cell_type": "markdown",
   "id": "7e177c50",
   "metadata": {},
   "source": [
    "### Death Datasets"
   ]
  },
  {
   "cell_type": "markdown",
   "id": "dbc0e21b",
   "metadata": {},
   "source": [
    "### Birth Datasets"
   ]
  },
  {
   "cell_type": "markdown",
   "id": "0a7d5df9",
   "metadata": {},
   "source": [
    "<b>Clean Data</b>"
   ]
  },
  {
   "cell_type": "markdown",
   "id": "9f4708db",
   "metadata": {},
   "source": [
    "- lifeExpectency\n",
    "    - lifeExpectencyPerRegion2016_2019 \n",
    "- populationChange\n",
    "    - pop2002_2020\n",
    "    - popOverview\n",
    "    - popComparison2015_2020\n",
    "    - growthPrediction2020_2050\n",
    "    - absoluteNr\n",
    "- death\n",
    "    - reasons1997_2014\n",
    "    - reasons2005_2012\n",
    "    - reasons2013_2020\n",
    "    - perWeek2020_2021\n",
    "- birth\n",
    "    - birthPerYear1899_2018\n",
    "    - avaragesOfMonth"
   ]
  },
  {
   "cell_type": "markdown",
   "id": "b8e06b71",
   "metadata": {},
   "source": [
    "<b>Merge</b>"
   ]
  },
  {
   "cell_type": "code",
   "execution_count": 104,
   "id": "11e1c18b",
   "metadata": {},
   "outputs": [],
   "source": [
    "# these are custom classes made to keep the notebook neat.\n",
    "\n"
   ]
  },
  {
   "cell_type": "markdown",
   "id": "3f31f331",
   "metadata": {},
   "source": [
    "<b>Heatmap</b>"
   ]
  },
  {
   "cell_type": "code",
   "execution_count": null,
   "id": "a8ebe4c9",
   "metadata": {},
   "outputs": [],
   "source": []
  }
 ],
 "metadata": {
  "kernelspec": {
   "display_name": "Python 3",
   "language": "python",
   "name": "python3"
  },
  "language_info": {
   "codemirror_mode": {
    "name": "ipython",
    "version": 3
   },
   "file_extension": ".py",
   "mimetype": "text/x-python",
   "name": "python",
   "nbconvert_exporter": "python",
   "pygments_lexer": "ipython3",
   "version": "3.8.8"
  }
 },
 "nbformat": 4,
 "nbformat_minor": 5
}
