{
 "cells": [
  {
   "cell_type": "markdown",
   "id": "fb0a21ca",
   "metadata": {},
   "source": [
    "# Notebook Setup"
   ]
  },
  {
   "cell_type": "code",
   "execution_count": 1,
   "id": "de4f1ebb",
   "metadata": {},
   "outputs": [],
   "source": [
    "import matplotlib.pyplot as plt\n",
    "import json\n",
    "import requests\n",
    "import pandas as pd\n",
    "from io import StringIO\n",
    "import seaborn as sns\n",
    "import plotly.express as px\n",
    "from sklearn.preprocessing import StandardScaler\n",
    "from mpl_toolkits.mplot3d import Axes3D\n",
    "import numpy as np\n",
    "from sklearn.feature_selection import SelectKBest, mutual_info_regression\n",
    "from sklearn.model_selection import train_test_split as tts\n",
    "sns.set_style(\"white\")"
   ]
  },
  {
   "cell_type": "markdown",
   "id": "9afafc20",
   "metadata": {},
   "source": [
    "# Dela - Predicting the amount of deaths per year"
   ]
  },
  {
   "cell_type": "markdown",
   "id": "75664d22",
   "metadata": {},
   "source": [
    "### 1. Intro\n",
    "<b>Who is our client?</b><br>\n",
    "Our client is Dela. Dela is a funeral insurer and caretaker for funeral services. In this semester, they will give us some inside problems that we can investigate on.<br><br>\n",
    "<b>Project explanation</b><br>\n",
    "Dela was faced with unprecedented challenge by the fluctuating demands during the Covid19 first year, and that way they are looking to enhance their abilities to react to surprising serge or drops in demands.\n",
    "We cannot predict when Dela needs to upscale or downscale. However, we can forecast the amount of deaths in the upcoming years. Based on that knowledge and Dela experience, they can conclude themselves when to upscale or downscale.<br><br>\n",
    "<b>Project goal</b><br>\n",
    "In our project, we are going to forecast the amount of deaths per year. In this way we can help them conclude easier what to do on higher, lower demand.<br><br><br>\n",
    "<b>Document explanation</b><br>\n",
    "In this document there will be the testing and implementation of the project delivered proposal hypothesis. In this document, we will do that by understanding and experimenting with the collected data. After the understanding, we will see if our hypothesis can be validated and we will do that by applying machine learning onto our dataset.<br><br>\n",
    "<b>Document setup:</b><br>\n",
    "<table style=\"font-size: 14px !important; margin: 0 !important\">\n",
    "    <tr>\n",
    "        <th style=\"text-align: left;\">Data requirements</th>\n",
    "        <td style=\"text-align: left;\">In this chapter, we are going to setup the requirements for the data that is needed for the prediction. We will answer questions like ‘Which references are trustworthy?’, ‘Do we need some specific features?’, etc…</td>\n",
    "    </tr>\n",
    "    <tr>\n",
    "        <th style=\"text-align: left;\">Data collection</th>\n",
    "        <td style=\"text-align: left;\">In this chapter, we are going to explain where we found our data, where we are going to store our data and references to he subchapters of each dataset</td>\n",
    "    </tr>\n",
    "    <tr>\n",
    "        <th style=\"text-align: left;\">Data understanding</th>\n",
    "        <td style=\"text-align: left;\">In this chapter, we are going to understand each specific dataset that we downloaded to really understand the value of each dataset and how it is going to bring a value to Dela.</td>\n",
    "    </tr>\n",
    "    <tr>\n",
    "        <th style=\"text-align: left;\">Data preparation</th>\n",
    "        <td style=\"text-align: left;\">In this chapter, we are going to prepare our data so it is clean to work with, think about removing all the data that has invalid records, data that has wrong values or data that has similar features with different names.</td>\n",
    "    </tr>\n",
    "</table>"
   ]
  },
  {
   "cell_type": "markdown",
   "id": "e429ae60",
   "metadata": {},
   "source": [
    "### 2. Provisioning\n",
    "<b>========== TODO: We need to write an intro here ==========</b> "
   ]
  },
  {
   "cell_type": "markdown",
   "id": "aae53522",
   "metadata": {},
   "source": [
    "### 2.1 Data Requirements\n",
    "In this chapter, we are trying to setup the expectations/ requirements of the data we are going to collect for the provisioning fase.<br>\n",
    "<b>========== TODO: Fill in this table ==========</b> "
   ]
  },
  {
   "cell_type": "markdown",
   "id": "271084de",
   "metadata": {},
   "source": [
    "<table style=\"font-size: 14px !important; margin: 0 !important\">\n",
    "    <tr>\n",
    "        <th style=\"text-align: left !important\">Data Domain</th>\n",
    "        <td style=\"text-align: left !important\"></td>\n",
    "    </tr>\n",
    "    <tr>\n",
    "        <th style=\"text-align: left !important\">Data type</th>\n",
    "        <td style=\"text-align: left !important\"></td>\n",
    "    </tr>\n",
    "    <tr>\n",
    "        <th style=\"text-align: left !important\">Target Variable</th>\n",
    "        <td style=\"text-align: left !important\"></td>\n",
    "    </tr>\n",
    "    <tr>\n",
    "        <th style=\"text-align: left !important\">Expected Features</th>\n",
    "        <td style=\"text-align: left !important\"></td>\n",
    "    </tr>\n",
    "</table>"
   ]
  },
  {
   "cell_type": "markdown",
   "id": "1fc8d1a0",
   "metadata": {},
   "source": [
    "### 2.2 Data Collection\n",
    "Because we want to search for data that contains the amount of deaths in the Netherlands, we began searching for an open data bank that is governmental. In this case the data is from a trustworthy source and will higher the chance of a good prediction. That's when we landed on CBS (stands for `Centraal Bureau voor de Statistiek`, translated to English that means  `Central Station of Statistics`). "
   ]
  },
  {
   "cell_type": "markdown",
   "id": "b01e6e97",
   "metadata": {},
   "source": [
    "<table style=\"font-size: 14px !important; margin: 0 !important\">\n",
    "    <tr>\n",
    "        <th style=\"text-align: left !important\">Data Source</th>\n",
    "        <td style=\"text-align: left !important\">We got our data from the official   <a href=\"https://opendata.cbs.nl/statline/portal.html?_la=nl&_catalog=CBS\" target=\"_blank\">CBS</a> Website</td>\n",
    "    </tr>\n",
    "    <tr>\n",
    "        <th style=\"text-align: left !important\">Data Storage</th>\n",
    "        <td style=\"text-align: left !important\">We stored all of our datasets on <a href=\"https://github.com/i454038/AI-car-price-prediction\" target=\"_blank\">Github</a>, so it is globally accessible</td>\n",
    "    </tr>\n",
    "</table>"
   ]
  },
  {
   "cell_type": "markdown",
   "id": "c8226c3e",
   "metadata": {},
   "source": [
    "Load in the datasets from Github"
   ]
  },
  {
   "cell_type": "code",
   "execution_count": 2,
   "id": "fb95f526",
   "metadata": {},
   "outputs": [],
   "source": [
    "def fetchDatasets():\n",
    "    data = requests.get(\"https://raw.githubusercontent.com/Dipsaus2002/DELA_Upsacling_Prediction/main/classes/datasets.conf.json\").json()\n",
    "    datasets = []\n",
    "    for datasetConfig in data:\n",
    "        datasets.append(datasetConfig)\n",
    "    return datasets\n",
    "    \n",
    "def loadDatasetsIntoDataFrames(datasets):\n",
    "    dataframes = {}\n",
    "    # set categories\n",
    "    for dataset in datasets:\n",
    "        dataframes[dataset['tag']] = {}\n",
    "    # load files into categories\n",
    "    for dataset in datasets:\n",
    "        data = requests.get(dataset['url']).text\n",
    "        dataframe = pd.read_csv(StringIO(data), error_bad_lines=False, sep=dataset['seperator'], low_memory=False, skiprows=dataset['skip'])\n",
    "        dataframes[dataset['tag']][dataset['name']] = dataframe\n",
    "    return dataframes\n",
    "\n",
    "datasets = fetchDatasets()\n",
    "dataframes = loadDatasetsIntoDataFrames(datasets)"
   ]
  },
  {
   "cell_type": "markdown",
   "id": "18043d12",
   "metadata": {},
   "source": [
    "### 2.3 Data Understanding"
   ]
  },
  {
   "cell_type": "markdown",
   "id": "bb1dbbe5",
   "metadata": {},
   "source": [
    "<b>========== TODO: ForEach dataset show and document the understanding ==========</b>"
   ]
  },
  {
   "cell_type": "code",
   "execution_count": 3,
   "id": "0be4bb22",
   "metadata": {},
   "outputs": [],
   "source": [
    "# ex = len(dataframes['lifeExpectency']['lifeExpectencyPerRegion']['Gemeente'].unique()\n",
    "# print(ex, pop)\n",
    "# sns.pointplot(x=\"Gemeente\", y=\"Bij geboorte\", data=dataframes['lifeExpectency']['lifeExpectencyPerRegion'])"
   ]
  },
  {
   "cell_type": "markdown",
   "id": "983402ea",
   "metadata": {},
   "source": [
    "### 2.4 Data Preperation"
   ]
  },
  {
   "cell_type": "markdown",
   "id": "55348571",
   "metadata": {},
   "source": [
    "<b>========== TODO: clean a bit more of the datasets and document a bit ==========</b>"
   ]
  },
  {
   "cell_type": "markdown",
   "id": "4588e80b",
   "metadata": {},
   "source": [
    "To have an overview of what will be done in this chapter, there will be subjects listed below.\n",
    "- <b>We have multiple datasets that need to be aligned before we can merge them together.</b>\n",
    "    - It contains renaming, cleaning and formatting features in the right type\n",
    "- <b>There are also datasets that need to be concatenated because there are to much rows for 1 file.</b>\n",
    "\n",
    "1. The next chapters consist of each separate dataset with there cleaning/aligning.\n",
    "2. the chapter after that will actually merge the different datasets.\n",
    "3. We are going to reduce the dimensionality of the datasets by doing some feature cutting. "
   ]
  },
  {
   "cell_type": "markdown",
   "id": "65ce9dec",
   "metadata": {},
   "source": [
    "### LifeExpectency\n",
    "This dataset contains the life expectancy of people in the Netherlands per municipality.   "
   ]
  },
  {
   "cell_type": "markdown",
   "id": "63f4c7fb",
   "metadata": {},
   "source": [
    "**To align this dataset with the other datasets, we will perform the following actions:**\n",
    "1. rename columns to English and making the renaming consistent across the datasets\n",
    "2. transform the type of columns where needed"
   ]
  },
  {
   "cell_type": "code",
   "execution_count": 4,
   "id": "8d9422ee",
   "metadata": {},
   "outputs": [
    {
     "name": "stdout",
     "output_type": "stream",
     "text": [
      "<class 'pandas.core.frame.DataFrame'>\n",
      "RangeIndex: 355 entries, 0 to 354\n",
      "Data columns (total 8 columns):\n",
      " #   Column                           Non-Null Count  Dtype \n",
      "---  ------                           --------------  ----- \n",
      " 0   id                               355 non-null    int64 \n",
      " 1   Gemeente                         355 non-null    object\n",
      " 2   Groep_rij                        355 non-null    object\n",
      " 3   Geslacht                         355 non-null    object\n",
      " 4   Bij geboorte                     355 non-null    object\n",
      " 5   Bij geboorte (afwijking tov NL)  355 non-null    object\n",
      " 6   Bij 65 jaar                      355 non-null    object\n",
      " 7   Bij 65 jaar (afwijking tov NL)   355 non-null    object\n",
      "dtypes: int64(1), object(7)\n",
      "memory usage: 22.3+ KB\n"
     ]
    }
   ],
   "source": [
    "dataframes['lifeExpectency']['lifeExpectencyPerRegion'].info()"
   ]
  },
  {
   "cell_type": "markdown",
   "id": "b1823a82",
   "metadata": {},
   "source": [
    "1. After plotting the information, There are columns that are registered as Dtype `Object`, that need to be `float`. For example:\n",
    "- **'Bij geboorte'** stands for **life expectancy registered at birth** within that municipality. Because the unit of life expectency within this dataset is a number, it should be registered as Dtype `float`  \n",
    "\n",
    "2. To be consistent in the naming across the datasets, we are going to use the English translation of `Gemeente` witch is `Municipality`.\n",
    "3. In the following cell, you will see the cleaning of this dataset and the approach we took in this cleaning."
   ]
  },
  {
   "cell_type": "code",
   "execution_count": 5,
   "id": "27083a87",
   "metadata": {},
   "outputs": [],
   "source": [
    "def fetchJsonMap(name, mappingType):\n",
    "    return requests.get(\n",
    "        f\"https://raw.githubusercontent.com/Dipsaus2002/DELA_Upsacling_Prediction/main/classes/{mappingType}/{name}.{mappingType}.json\"\n",
    "    ).json()\n",
    "    \n",
    "\n",
    "dataframes['lifeExpectency']['lifeExpectencyPerRegion'] = (\n",
    "    dataframes['lifeExpectency']['lifeExpectencyPerRegion']\n",
    "        .rename(columns=fetchJsonMap('lifeExpectency.lifeExpectencyPerRegion', 'renaming'))\n",
    "        .assign(LifeExpectancy = lambda x: x.LifeExpectancy.str.replace(',', '.').astype(float))\n",
    "        .assign(LifeExpectancyWhen65OrOlder = lambda x: x.LifeExpectancyWhen65OrOlder.str.replace(',', '.').astype(float))\n",
    ")"
   ]
  },
  {
   "cell_type": "markdown",
   "id": "a955030b",
   "metadata": {},
   "source": [
    "After modifying the dataset, to confirm that the features are renamed and changed in type, we will print the info from the dataset again."
   ]
  },
  {
   "cell_type": "code",
   "execution_count": 6,
   "id": "9e34be28",
   "metadata": {},
   "outputs": [
    {
     "name": "stdout",
     "output_type": "stream",
     "text": [
      "<class 'pandas.core.frame.DataFrame'>\n",
      "RangeIndex: 355 entries, 0 to 354\n",
      "Data columns (total 8 columns):\n",
      " #   Column                         Non-Null Count  Dtype  \n",
      "---  ------                         --------------  -----  \n",
      " 0   id                             355 non-null    int64  \n",
      " 1   Municipality                   355 non-null    object \n",
      " 2   Groep_rij                      355 non-null    object \n",
      " 3   Geslacht                       355 non-null    object \n",
      " 4   LifeExpectancy                 355 non-null    float64\n",
      " 5   LifeExpectancyNL               355 non-null    object \n",
      " 6   LifeExpectancyWhen65OrOlder    355 non-null    float64\n",
      " 7   LifeExpectancyWhen65OrOlderNL  355 non-null    object \n",
      "dtypes: float64(2), int64(1), object(5)\n",
      "memory usage: 22.3+ KB\n"
     ]
    }
   ],
   "source": [
    "dataframes['lifeExpectency']['lifeExpectencyPerRegion'].info()"
   ]
  },
  {
   "cell_type": "markdown",
   "id": "2633d19b",
   "metadata": {},
   "source": [
    "As you can see the info of the cleaned dataset again, we can see that the columns are renamed and the Dtypes of the needed features are changed to type `float`."
   ]
  },
  {
   "cell_type": "markdown",
   "id": "35ae2289",
   "metadata": {},
   "source": [
    "### PopulationChange\n",
    "This dataset contains the change in population per municipality. "
   ]
  },
  {
   "cell_type": "markdown",
   "id": "2d8e8e03",
   "metadata": {},
   "source": [
    "**To align this dataset with the other datasets, we will perform the following actions:**\n",
    "1. rename columns to English and making the renaming consistent across the datasets\n",
    "2. transform the type of columns where needed"
   ]
  },
  {
   "cell_type": "code",
   "execution_count": 7,
   "id": "1c7a0892",
   "metadata": {},
   "outputs": [
    {
     "name": "stdout",
     "output_type": "stream",
     "text": [
      "<class 'pandas.core.frame.DataFrame'>\n",
      "RangeIndex: 10488 entries, 0 to 10487\n",
      "Data columns (total 18 columns):\n",
      " #   Column                               Non-Null Count  Dtype  \n",
      "---  ------                               --------------  -----  \n",
      " 0   ID                                   10488 non-null  int64  \n",
      " 1   RegioS                               10488 non-null  object \n",
      " 2   Perioden                             10488 non-null  object \n",
      " 3   BevolkingAanHetBeginVanDePeriode_1   8056 non-null   float64\n",
      " 4   LevendGeborenKinderen_2              8055 non-null   float64\n",
      " 5   Overledenen_3                        8055 non-null   float64\n",
      " 6   TotaleVestiging_4                    8055 non-null   float64\n",
      " 7   VestigingVanuitEenAndereGemeente_5   8055 non-null   float64\n",
      " 8   Immigratie_6                         8055 non-null   float64\n",
      " 9   TotaalVertrekInclAdmCorrecties_7     8055 non-null   float64\n",
      " 10  VertrekNaarAndereGemeente_8          8055 non-null   float64\n",
      " 11  EmigratieInclusiefAdmCorrecties_9    8055 non-null   float64\n",
      " 12  OverigeCorrecties_10                 8055 non-null   float64\n",
      " 13  Bevolkingsgroei_11                   8055 non-null   float64\n",
      " 14  BevolkingsgroeiRelatief_12           8055 non-null   float64\n",
      " 15  BevolkingsgroeiSinds1Januari_13      8055 non-null   float64\n",
      " 16  BevolkingsgroeiSinds1JanuariRela_14  8055 non-null   float64\n",
      " 17  BevolkingAanHetEindeVanDePeriode_15  8055 non-null   float64\n",
      "dtypes: float64(15), int64(1), object(2)\n",
      "memory usage: 1.4+ MB\n"
     ]
    }
   ],
   "source": [
    "dataframes['populationChange']['pop2002_2020'].info()"
   ]
  },
  {
   "cell_type": "markdown",
   "id": "88239e57",
   "metadata": {},
   "source": [
    "1. After plotting the information, We can conclude that we need to rename some columns again. For example:\n",
    "    - **RegioS** is the same as **Municipality**, we will rename it to Municipality to make it consistent across the datasets\n",
    "    - **Perioden** is the same as **Year**, we will rename it to Year to make it consistent across the datasets\n",
    "2. The printing also shows that **Year** needs to be of type `int` and we need to transform that.\n",
    "2. In the following cell, you will see the cleaning of this dataset and the approach we took in this cleaning."
   ]
  },
  {
   "cell_type": "code",
   "execution_count": 10,
   "id": "61296ba4",
   "metadata": {},
   "outputs": [],
   "source": [
    "# transform dataset to align with others\n",
    "dataframes['populationChange']['pop2002_2020'] = (\n",
    "    dataframes['populationChange']['pop2002_2020']\n",
    "        .rename(columns=fetchJsonMap('populationChange.pop2002_2020', 'renaming'))\n",
    "        .assign(Year = lambda x: pd.to_datetime(x.Year.str[:4]).dt.year)\n",
    ")"
   ]
  },
  {
   "cell_type": "markdown",
   "id": "7c2d2f4e",
   "metadata": {},
   "source": [
    "After modifying the dataset, to confirm that the features are renamed and changed in type, we will print the info from the dataset again."
   ]
  },
  {
   "cell_type": "code",
   "execution_count": 11,
   "id": "b5999183",
   "metadata": {},
   "outputs": [
    {
     "name": "stdout",
     "output_type": "stream",
     "text": [
      "<class 'pandas.core.frame.DataFrame'>\n",
      "RangeIndex: 10488 entries, 0 to 10487\n",
      "Data columns (total 18 columns):\n",
      " #   Column                                Non-Null Count  Dtype  \n",
      "---  ------                                --------------  -----  \n",
      " 0   ID                                    10488 non-null  int64  \n",
      " 1   Municipality                          10488 non-null  object \n",
      " 2   Year                                  10488 non-null  int64  \n",
      " 3   PopulationAtBeginOfPeriod             8056 non-null   float64\n",
      " 4   AliveBornChildren                     8055 non-null   float64\n",
      " 5   Deceased                              8055 non-null   float64\n",
      " 6   TotalLocations                        8055 non-null   float64\n",
      " 7   LocationsFromOtherMunicipality        8055 non-null   float64\n",
      " 8   Immigration                           8055 non-null   float64\n",
      " 9   TotaalVertrekInclAdmCorrecties_7      8055 non-null   float64\n",
      " 10  AmountMovedToOtherMunicipality        8055 non-null   float64\n",
      " 11  EmigratieInclusiefAdmCorrecties_9     8055 non-null   float64\n",
      " 12  OverigeCorrecties_10                  8055 non-null   float64\n",
      " 13  PopulationGrowth                      8055 non-null   float64\n",
      " 14  RelativePopulationGrowth              8055 non-null   float64\n",
      " 15  PopulationGrowthSinceJanuari          8055 non-null   float64\n",
      " 16  RelativePopulationGrowthSinceJanuari  8055 non-null   float64\n",
      " 17  PopulationAtEndOfPeriod               8055 non-null   float64\n",
      "dtypes: float64(15), int64(2), object(1)\n",
      "memory usage: 1.4+ MB\n"
     ]
    }
   ],
   "source": [
    "dataframes['populationChange']['pop2002_2020'].info()"
   ]
  },
  {
   "cell_type": "markdown",
   "id": "b26e823b",
   "metadata": {},
   "source": [
    "As you can see the info of the cleaned dataset again, we can see that the columns are renamed and the Dtypes of the needed features are changed to type `int`. Unfortunately, that is not everything to make this dataset align to the other datasets. We will show that by printing out the data inside the dataset."
   ]
  },
  {
   "cell_type": "code",
   "execution_count": 12,
   "id": "009be691",
   "metadata": {},
   "outputs": [
    {
     "data": {
      "text/html": [
       "<div>\n",
       "<style scoped>\n",
       "    .dataframe tbody tr th:only-of-type {\n",
       "        vertical-align: middle;\n",
       "    }\n",
       "\n",
       "    .dataframe tbody tr th {\n",
       "        vertical-align: top;\n",
       "    }\n",
       "\n",
       "    .dataframe thead th {\n",
       "        text-align: right;\n",
       "    }\n",
       "</style>\n",
       "<table border=\"1\" class=\"dataframe\">\n",
       "  <thead>\n",
       "    <tr style=\"text-align: right;\">\n",
       "      <th></th>\n",
       "      <th>ID</th>\n",
       "      <th>Municipality</th>\n",
       "      <th>Year</th>\n",
       "      <th>PopulationAtBeginOfPeriod</th>\n",
       "      <th>AliveBornChildren</th>\n",
       "      <th>Deceased</th>\n",
       "      <th>TotalLocations</th>\n",
       "      <th>LocationsFromOtherMunicipality</th>\n",
       "      <th>Immigration</th>\n",
       "      <th>TotaalVertrekInclAdmCorrecties_7</th>\n",
       "      <th>AmountMovedToOtherMunicipality</th>\n",
       "      <th>EmigratieInclusiefAdmCorrecties_9</th>\n",
       "      <th>OverigeCorrecties_10</th>\n",
       "      <th>PopulationGrowth</th>\n",
       "      <th>RelativePopulationGrowth</th>\n",
       "      <th>PopulationGrowthSinceJanuari</th>\n",
       "      <th>RelativePopulationGrowthSinceJanuari</th>\n",
       "      <th>PopulationAtEndOfPeriod</th>\n",
       "    </tr>\n",
       "  </thead>\n",
       "  <tbody>\n",
       "    <tr>\n",
       "      <th>0</th>\n",
       "      <td>14604</td>\n",
       "      <td>GM1680</td>\n",
       "      <td>2002</td>\n",
       "      <td>25552.0</td>\n",
       "      <td>289.0</td>\n",
       "      <td>251.0</td>\n",
       "      <td>1353.0</td>\n",
       "      <td>1121.0</td>\n",
       "      <td>232.0</td>\n",
       "      <td>1617.0</td>\n",
       "      <td>1498.0</td>\n",
       "      <td>119.0</td>\n",
       "      <td>-21.0</td>\n",
       "      <td>-247.0</td>\n",
       "      <td>-0.97</td>\n",
       "      <td>-247.0</td>\n",
       "      <td>-0.97</td>\n",
       "      <td>25305.0</td>\n",
       "    </tr>\n",
       "    <tr>\n",
       "      <th>1</th>\n",
       "      <td>14617</td>\n",
       "      <td>GM1680</td>\n",
       "      <td>2003</td>\n",
       "      <td>25305.0</td>\n",
       "      <td>279.0</td>\n",
       "      <td>241.0</td>\n",
       "      <td>1127.0</td>\n",
       "      <td>1071.0</td>\n",
       "      <td>56.0</td>\n",
       "      <td>1264.0</td>\n",
       "      <td>1111.0</td>\n",
       "      <td>153.0</td>\n",
       "      <td>12.0</td>\n",
       "      <td>-87.0</td>\n",
       "      <td>-0.34</td>\n",
       "      <td>-87.0</td>\n",
       "      <td>-0.34</td>\n",
       "      <td>25218.0</td>\n",
       "    </tr>\n",
       "    <tr>\n",
       "      <th>2</th>\n",
       "      <td>14630</td>\n",
       "      <td>GM1680</td>\n",
       "      <td>2004</td>\n",
       "      <td>25218.0</td>\n",
       "      <td>233.0</td>\n",
       "      <td>221.0</td>\n",
       "      <td>1167.0</td>\n",
       "      <td>1104.0</td>\n",
       "      <td>63.0</td>\n",
       "      <td>1077.0</td>\n",
       "      <td>1023.0</td>\n",
       "      <td>54.0</td>\n",
       "      <td>9.0</td>\n",
       "      <td>111.0</td>\n",
       "      <td>0.44</td>\n",
       "      <td>111.0</td>\n",
       "      <td>0.44</td>\n",
       "      <td>25329.0</td>\n",
       "    </tr>\n",
       "    <tr>\n",
       "      <th>3</th>\n",
       "      <td>14643</td>\n",
       "      <td>GM1680</td>\n",
       "      <td>2005</td>\n",
       "      <td>25329.0</td>\n",
       "      <td>230.0</td>\n",
       "      <td>231.0</td>\n",
       "      <td>1322.0</td>\n",
       "      <td>1254.0</td>\n",
       "      <td>68.0</td>\n",
       "      <td>1143.0</td>\n",
       "      <td>1062.0</td>\n",
       "      <td>81.0</td>\n",
       "      <td>0.0</td>\n",
       "      <td>178.0</td>\n",
       "      <td>0.70</td>\n",
       "      <td>178.0</td>\n",
       "      <td>0.70</td>\n",
       "      <td>25507.0</td>\n",
       "    </tr>\n",
       "    <tr>\n",
       "      <th>4</th>\n",
       "      <td>14656</td>\n",
       "      <td>GM1680</td>\n",
       "      <td>2006</td>\n",
       "      <td>25507.0</td>\n",
       "      <td>216.0</td>\n",
       "      <td>212.0</td>\n",
       "      <td>1369.0</td>\n",
       "      <td>1320.0</td>\n",
       "      <td>49.0</td>\n",
       "      <td>1326.0</td>\n",
       "      <td>1222.0</td>\n",
       "      <td>104.0</td>\n",
       "      <td>9.0</td>\n",
       "      <td>56.0</td>\n",
       "      <td>0.22</td>\n",
       "      <td>56.0</td>\n",
       "      <td>0.22</td>\n",
       "      <td>25563.0</td>\n",
       "    </tr>\n",
       "  </tbody>\n",
       "</table>\n",
       "</div>"
      ],
      "text/plain": [
       "      ID Municipality  Year  PopulationAtBeginOfPeriod  AliveBornChildren  \\\n",
       "0  14604       GM1680  2002                    25552.0              289.0   \n",
       "1  14617       GM1680  2003                    25305.0              279.0   \n",
       "2  14630       GM1680  2004                    25218.0              233.0   \n",
       "3  14643       GM1680  2005                    25329.0              230.0   \n",
       "4  14656       GM1680  2006                    25507.0              216.0   \n",
       "\n",
       "   Deceased  TotalLocations  LocationsFromOtherMunicipality  Immigration  \\\n",
       "0     251.0          1353.0                          1121.0        232.0   \n",
       "1     241.0          1127.0                          1071.0         56.0   \n",
       "2     221.0          1167.0                          1104.0         63.0   \n",
       "3     231.0          1322.0                          1254.0         68.0   \n",
       "4     212.0          1369.0                          1320.0         49.0   \n",
       "\n",
       "   TotaalVertrekInclAdmCorrecties_7  AmountMovedToOtherMunicipality  \\\n",
       "0                            1617.0                          1498.0   \n",
       "1                            1264.0                          1111.0   \n",
       "2                            1077.0                          1023.0   \n",
       "3                            1143.0                          1062.0   \n",
       "4                            1326.0                          1222.0   \n",
       "\n",
       "   EmigratieInclusiefAdmCorrecties_9  OverigeCorrecties_10  PopulationGrowth  \\\n",
       "0                              119.0                 -21.0            -247.0   \n",
       "1                              153.0                  12.0             -87.0   \n",
       "2                               54.0                   9.0             111.0   \n",
       "3                               81.0                   0.0             178.0   \n",
       "4                              104.0                   9.0              56.0   \n",
       "\n",
       "   RelativePopulationGrowth  PopulationGrowthSinceJanuari  \\\n",
       "0                     -0.97                        -247.0   \n",
       "1                     -0.34                         -87.0   \n",
       "2                      0.44                         111.0   \n",
       "3                      0.70                         178.0   \n",
       "4                      0.22                          56.0   \n",
       "\n",
       "   RelativePopulationGrowthSinceJanuari  PopulationAtEndOfPeriod  \n",
       "0                                 -0.97                  25305.0  \n",
       "1                                 -0.34                  25218.0  \n",
       "2                                  0.44                  25329.0  \n",
       "3                                  0.70                  25507.0  \n",
       "4                                  0.22                  25563.0  "
      ]
     },
     "execution_count": 12,
     "metadata": {},
     "output_type": "execute_result"
    }
   ],
   "source": [
    "dataframes['populationChange']['pop2002_2020'].head()"
   ]
  },
  {
   "cell_type": "markdown",
   "id": "32df6fd1",
   "metadata": {},
   "source": [
    "In this data frame you can see that the municipalities are coded instead of containing the actual name of the municipality. To align it with the other datasets, we map those features to the names of the municipality. You can see the code below."
   ]
  },
  {
   "cell_type": "code",
   "execution_count": 15,
   "id": "86d2b717",
   "metadata": {},
   "outputs": [
    {
     "data": {
      "text/html": [
       "<div>\n",
       "<style scoped>\n",
       "    .dataframe tbody tr th:only-of-type {\n",
       "        vertical-align: middle;\n",
       "    }\n",
       "\n",
       "    .dataframe tbody tr th {\n",
       "        vertical-align: top;\n",
       "    }\n",
       "\n",
       "    .dataframe thead th {\n",
       "        text-align: right;\n",
       "    }\n",
       "</style>\n",
       "<table border=\"1\" class=\"dataframe\">\n",
       "  <thead>\n",
       "    <tr style=\"text-align: right;\">\n",
       "      <th></th>\n",
       "      <th>ID</th>\n",
       "      <th>Municipality</th>\n",
       "      <th>Year</th>\n",
       "      <th>PopulationAtBeginOfPeriod</th>\n",
       "      <th>AliveBornChildren</th>\n",
       "      <th>Deceased</th>\n",
       "      <th>TotalLocations</th>\n",
       "      <th>LocationsFromOtherMunicipality</th>\n",
       "      <th>Immigration</th>\n",
       "      <th>TotaalVertrekInclAdmCorrecties_7</th>\n",
       "      <th>AmountMovedToOtherMunicipality</th>\n",
       "      <th>EmigratieInclusiefAdmCorrecties_9</th>\n",
       "      <th>OverigeCorrecties_10</th>\n",
       "      <th>PopulationGrowth</th>\n",
       "      <th>RelativePopulationGrowth</th>\n",
       "      <th>PopulationGrowthSinceJanuari</th>\n",
       "      <th>RelativePopulationGrowthSinceJanuari</th>\n",
       "      <th>PopulationAtEndOfPeriod</th>\n",
       "    </tr>\n",
       "  </thead>\n",
       "  <tbody>\n",
       "    <tr>\n",
       "      <th>0</th>\n",
       "      <td>14604</td>\n",
       "      <td>Aa en Hunze</td>\n",
       "      <td>2002</td>\n",
       "      <td>25552.0</td>\n",
       "      <td>289.0</td>\n",
       "      <td>251.0</td>\n",
       "      <td>1353.0</td>\n",
       "      <td>1121.0</td>\n",
       "      <td>232.0</td>\n",
       "      <td>1617.0</td>\n",
       "      <td>1498.0</td>\n",
       "      <td>119.0</td>\n",
       "      <td>-21.0</td>\n",
       "      <td>-247.0</td>\n",
       "      <td>-0.97</td>\n",
       "      <td>-247.0</td>\n",
       "      <td>-0.97</td>\n",
       "      <td>25305.0</td>\n",
       "    </tr>\n",
       "    <tr>\n",
       "      <th>1</th>\n",
       "      <td>14617</td>\n",
       "      <td>Aa en Hunze</td>\n",
       "      <td>2003</td>\n",
       "      <td>25305.0</td>\n",
       "      <td>279.0</td>\n",
       "      <td>241.0</td>\n",
       "      <td>1127.0</td>\n",
       "      <td>1071.0</td>\n",
       "      <td>56.0</td>\n",
       "      <td>1264.0</td>\n",
       "      <td>1111.0</td>\n",
       "      <td>153.0</td>\n",
       "      <td>12.0</td>\n",
       "      <td>-87.0</td>\n",
       "      <td>-0.34</td>\n",
       "      <td>-87.0</td>\n",
       "      <td>-0.34</td>\n",
       "      <td>25218.0</td>\n",
       "    </tr>\n",
       "    <tr>\n",
       "      <th>2</th>\n",
       "      <td>14630</td>\n",
       "      <td>Aa en Hunze</td>\n",
       "      <td>2004</td>\n",
       "      <td>25218.0</td>\n",
       "      <td>233.0</td>\n",
       "      <td>221.0</td>\n",
       "      <td>1167.0</td>\n",
       "      <td>1104.0</td>\n",
       "      <td>63.0</td>\n",
       "      <td>1077.0</td>\n",
       "      <td>1023.0</td>\n",
       "      <td>54.0</td>\n",
       "      <td>9.0</td>\n",
       "      <td>111.0</td>\n",
       "      <td>0.44</td>\n",
       "      <td>111.0</td>\n",
       "      <td>0.44</td>\n",
       "      <td>25329.0</td>\n",
       "    </tr>\n",
       "    <tr>\n",
       "      <th>3</th>\n",
       "      <td>14643</td>\n",
       "      <td>Aa en Hunze</td>\n",
       "      <td>2005</td>\n",
       "      <td>25329.0</td>\n",
       "      <td>230.0</td>\n",
       "      <td>231.0</td>\n",
       "      <td>1322.0</td>\n",
       "      <td>1254.0</td>\n",
       "      <td>68.0</td>\n",
       "      <td>1143.0</td>\n",
       "      <td>1062.0</td>\n",
       "      <td>81.0</td>\n",
       "      <td>0.0</td>\n",
       "      <td>178.0</td>\n",
       "      <td>0.70</td>\n",
       "      <td>178.0</td>\n",
       "      <td>0.70</td>\n",
       "      <td>25507.0</td>\n",
       "    </tr>\n",
       "    <tr>\n",
       "      <th>4</th>\n",
       "      <td>14656</td>\n",
       "      <td>Aa en Hunze</td>\n",
       "      <td>2006</td>\n",
       "      <td>25507.0</td>\n",
       "      <td>216.0</td>\n",
       "      <td>212.0</td>\n",
       "      <td>1369.0</td>\n",
       "      <td>1320.0</td>\n",
       "      <td>49.0</td>\n",
       "      <td>1326.0</td>\n",
       "      <td>1222.0</td>\n",
       "      <td>104.0</td>\n",
       "      <td>9.0</td>\n",
       "      <td>56.0</td>\n",
       "      <td>0.22</td>\n",
       "      <td>56.0</td>\n",
       "      <td>0.22</td>\n",
       "      <td>25563.0</td>\n",
       "    </tr>\n",
       "  </tbody>\n",
       "</table>\n",
       "</div>"
      ],
      "text/plain": [
       "      ID Municipality  Year  PopulationAtBeginOfPeriod  AliveBornChildren  \\\n",
       "0  14604  Aa en Hunze  2002                    25552.0              289.0   \n",
       "1  14617  Aa en Hunze  2003                    25305.0              279.0   \n",
       "2  14630  Aa en Hunze  2004                    25218.0              233.0   \n",
       "3  14643  Aa en Hunze  2005                    25329.0              230.0   \n",
       "4  14656  Aa en Hunze  2006                    25507.0              216.0   \n",
       "\n",
       "   Deceased  TotalLocations  LocationsFromOtherMunicipality  Immigration  \\\n",
       "0     251.0          1353.0                          1121.0        232.0   \n",
       "1     241.0          1127.0                          1071.0         56.0   \n",
       "2     221.0          1167.0                          1104.0         63.0   \n",
       "3     231.0          1322.0                          1254.0         68.0   \n",
       "4     212.0          1369.0                          1320.0         49.0   \n",
       "\n",
       "   TotaalVertrekInclAdmCorrecties_7  AmountMovedToOtherMunicipality  \\\n",
       "0                            1617.0                          1498.0   \n",
       "1                            1264.0                          1111.0   \n",
       "2                            1077.0                          1023.0   \n",
       "3                            1143.0                          1062.0   \n",
       "4                            1326.0                          1222.0   \n",
       "\n",
       "   EmigratieInclusiefAdmCorrecties_9  OverigeCorrecties_10  PopulationGrowth  \\\n",
       "0                              119.0                 -21.0            -247.0   \n",
       "1                              153.0                  12.0             -87.0   \n",
       "2                               54.0                   9.0             111.0   \n",
       "3                               81.0                   0.0             178.0   \n",
       "4                              104.0                   9.0              56.0   \n",
       "\n",
       "   RelativePopulationGrowth  PopulationGrowthSinceJanuari  \\\n",
       "0                     -0.97                        -247.0   \n",
       "1                     -0.34                         -87.0   \n",
       "2                      0.44                         111.0   \n",
       "3                      0.70                         178.0   \n",
       "4                      0.22                          56.0   \n",
       "\n",
       "   RelativePopulationGrowthSinceJanuari  PopulationAtEndOfPeriod  \n",
       "0                                 -0.97                  25305.0  \n",
       "1                                 -0.34                  25218.0  \n",
       "2                                  0.44                  25329.0  \n",
       "3                                  0.70                  25507.0  \n",
       "4                                  0.22                  25563.0  "
      ]
     },
     "execution_count": 15,
     "metadata": {},
     "output_type": "execute_result"
    }
   ],
   "source": [
    "dataframes['populationChange']['pop2002_2020'] = (\n",
    "    dataframes['populationChange']['pop2002_2020']\n",
    "        .assign(Municipality = lambda x: x.Municipality.replace(fetchJsonMap('Municipality', 'mapping')))\n",
    ")\n",
    "dataframes['populationChange']['pop2002_2020'].head()"
   ]
  },
  {
   "cell_type": "markdown",
   "id": "d957fbd0",
   "metadata": {},
   "source": [
    "As you can see in the data frame above, the municipalities are mapped to their names and the data is correct enough to go further."
   ]
  },
  {
   "cell_type": "markdown",
   "id": "f0c6d454",
   "metadata": {},
   "source": [
    "### Deaths"
   ]
  },
  {
   "cell_type": "markdown",
   "id": "990e8969",
   "metadata": {},
   "source": [
    "We do not merge this dataset yet, because it only has 20 municipalities and it will not have enough data for our need"
   ]
  },
  {
   "cell_type": "code",
   "execution_count": null,
   "id": "df343342",
   "metadata": {},
   "outputs": [],
   "source": [
    "dataframes['death']['reason_per_year_per_region2002_2020'] = (\n",
    "    pd.concat([\n",
    "        dataframes['death']['reasons_per_year_per_region2002_2015'], \n",
    "        dataframes['death']['reasons_per_year_per_region2016_2020']\n",
    "    ])\n",
    ")\n",
    "\n",
    "dataframes['death']['reason_per_year_per_region2002_2020'] = (\n",
    "    dataframes['death']['reason_per_year_per_region2002_2020']\n",
    "        .rename(columns={'RegioS': 'Municipality', 'Perioden': 'Year'})\n",
    "        .assign(Year = lambda x: pd.to_datetime(x.Year.str[:4]).dt.year)\n",
    ")"
   ]
  },
  {
   "cell_type": "markdown",
   "id": "8ecccce9",
   "metadata": {},
   "source": [
    "### Merge Datasets"
   ]
  },
  {
   "cell_type": "markdown",
   "id": "b8eb2c4e",
   "metadata": {},
   "source": [
    "<table style=\"margin: 0 !important; font-size: 14px !important\">\n",
    "    <tr>\n",
    "        <th style=\"text-align: left !important\">Goal:</th>\n",
    "        <td style=\"text-align: left !important\">\n",
    "            Merge the datasets:<br>\n",
    "            <ul>\n",
    "                <li>lifeExpectency</li>\n",
    "                <li>population</li>\n",
    "                <li>reason of death</li>\n",
    "            </ul>\n",
    "        </td>\n",
    "    </tr>\n",
    "    <tr>\n",
    "        <th style=\"text-align: left !important\">Possible Solutions:</th>\n",
    "        <td style=\"text-align: left !important\">\n",
    "            <ul>\n",
    "                <li>merge (pandas)</li>\n",
    "                <li>concatinate (pandas)</li>\n",
    "            </ul>\n",
    "        </td>\n",
    "    </tr>\n",
    "</table>"
   ]
  },
  {
   "cell_type": "markdown",
   "id": "db405509",
   "metadata": {},
   "source": [
    "**Merge**<br>\n",
    "Merge data frames based with a database-style join. The join is done on a column<br>\n",
    "**Concatinate**<br>\n",
    "Concatenate concatenates objects along a particular axis(x or y). It is mainly used for datasets with exactly the same columns.<br>\n",
    "**What is the best solution?**<br>\n",
    "Our datasets do not have the same columns, it's even so that they have diffrent columns. We want to add features to one dataset and we do not want to align the dataset on a particular axis. This is why we are using the merge function to make one big dataset."
   ]
  },
  {
   "cell_type": "code",
   "execution_count": null,
   "id": "e23f811d",
   "metadata": {},
   "outputs": [],
   "source": [
    "dataset = (\n",
    "    dataframes['populationChange']['pop2002_2020']\n",
    "        .merge(dataframes['lifeExpectency']['lifeExpectencyPerRegion'], how='outer', on=\"Municipality\")\n",
    "#         .merge(dataframes['death']['reason_per_year_per_region2002_2020'], how='outer', on=['Year', \"Municipality\"])\n",
    "        .assign(Municipality = lambda x: x.Municipality.replace(fetchJsonMap('Municipality', 'mapping')))\n",
    "        .fillna(0)\n",
    "        .assign(Year = lambda x: x.Year.replace(0, 2002))\n",
    "        .assign(Year = lambda x: x.Year.astype(int))\n",
    ")"
   ]
  },
  {
   "cell_type": "code",
   "execution_count": null,
   "id": "1b7eb4c4",
   "metadata": {},
   "outputs": [],
   "source": [
    "diffrence = [\n",
    "    item for item in \n",
    "    dataframes['populationChange']['pop2002_2020']['Municipality'].unique() \n",
    "    if item not in \n",
    "    dataframes['lifeExpectency']['lifeExpectencyPerRegion']['Municipality'].unique()\n",
    "]\n",
    "dataset = dataset.query(\"Municipality not in @diffrence\")"
   ]
  },
  {
   "cell_type": "code",
   "execution_count": null,
   "id": "06b506cf",
   "metadata": {},
   "outputs": [],
   "source": [
    "dataset = dataset[[\n",
    "    i for i in list(dataset.columns) \n",
    "    if i not in \n",
    "    ['Groep_rij', 'Geslacht', 'LifeExpectancyNL', 'LifeExpectancyWhen65OrOlderNL', 'Geslacht_y']\n",
    "]]"
   ]
  },
  {
   "cell_type": "code",
   "execution_count": null,
   "id": "16d71773",
   "metadata": {},
   "outputs": [],
   "source": [
    "# dataset\n",
    "dataset = dataset[[\n",
    "    i for i in list(dataset.columns) \n",
    "    if i not in \n",
    "    [\n",
    "        'TotalLocations', 'LocationsFromOtherMunicipality', 'TotaalVertrekInclAdmCorrecties_7', 'AmountMovedToOtherMunicipality', 'EmigratieInclusiefAdmCorrecties_9',\n",
    "        'PopulationGrowthSinceJanuari', 'RelativePopulationGrowthSinceJanuari', 'PopulationAtEndOfPeriod',\n",
    "    ]\n",
    "]]"
   ]
  },
  {
   "cell_type": "code",
   "execution_count": null,
   "id": "f2151d31",
   "metadata": {},
   "outputs": [],
   "source": [
    "dataset"
   ]
  },
  {
   "cell_type": "code",
   "execution_count": null,
   "id": "2d3b030d",
   "metadata": {},
   "outputs": [],
   "source": [
    "dataset.set_index(['Municipality', 'Year'], inplace=True)"
   ]
  },
  {
   "cell_type": "code",
   "execution_count": null,
   "id": "25f758c4",
   "metadata": {},
   "outputs": [],
   "source": [
    "municipalities = dataset.reset_index()['Municipality'].unique()\n",
    "datasets = {}\n",
    "for munucipality in municipalities:\n",
    "    if(dataset.loc[munucipality].shape[0] <= 20 and dataset.loc[munucipality].shape[0] > 1):\n",
    "        datasets[munucipality] = dataset.loc[munucipality]"
   ]
  },
  {
   "cell_type": "code",
   "execution_count": null,
   "id": "440189c5",
   "metadata": {},
   "outputs": [],
   "source": [
    "figure = plt.figure(constrained_layout=False, figsize=(10,10))\n",
    "ax = figure.add_subplot()\n",
    "sns.heatmap(datasets['Amsterdam'].reset_index().corr(), annot=True, ax=ax) "
   ]
  },
  {
   "cell_type": "markdown",
   "id": "ab9a8013",
   "metadata": {},
   "source": [
    "### Machine Learning"
   ]
  },
  {
   "cell_type": "markdown",
   "id": "b70e271b",
   "metadata": {},
   "source": [
    "<b>Preperation</b><br>\n",
    "heatmap, bla bla bla"
   ]
  },
  {
   "cell_type": "markdown",
   "id": "ca1d21bd",
   "metadata": {},
   "source": [
    "<b>========== TODO: put machine learning into the Ai methodology chapters, doing other iteration next week ==========</b>"
   ]
  },
  {
   "cell_type": "code",
   "execution_count": null,
   "id": "edee879a",
   "metadata": {
    "scrolled": true
   },
   "outputs": [],
   "source": [
    "def doFeatureSelection(dataset):\n",
    "    X = dataset.loc[:, dataset.columns != 'Deceased']\n",
    "    y = dataset['Deceased']\n",
    "    sel = SelectKBest(mutual_info_regression, k=5)\n",
    "    sel.fit_transform(X,y)\n",
    "    cols = sel.get_support()\n",
    "    features_df_new = X.iloc[:,cols].keys()\n",
    "    return features_df_new"
   ]
  },
  {
   "cell_type": "code",
   "execution_count": null,
   "id": "06a11df7",
   "metadata": {},
   "outputs": [],
   "source": [
    "def predictByNearestNeighbors(dataset):\n",
    "    X = pd.DataFrame(dataset.index, columns={\"Year\"})\n",
    "    y = dataset['Deceased']\n",
    "    \n",
    "    X_train, X_test, y_train, y_test = tts(X, y, test_size=0.2, random_state=20, shuffle=True)\n",
    "    from sklearn.neighbors import KNeighborsRegressor\n",
    "    knn = KNeighborsRegressor(5, weights='distance')\n",
    "    prediction = knn.fit(X_train, y_train).predict(X_test)\n",
    "    \n",
    "    r2Score = knn.score(X_test, y_test)\n",
    "    \n",
    "    return X_train, y_train, X_test, y_test, prediction, r2Score"
   ]
  },
  {
   "cell_type": "code",
   "execution_count": null,
   "id": "927b6cf7",
   "metadata": {},
   "outputs": [],
   "source": [
    "def plotNearestNeighbors(municipality, X_train, y_train, X_test, y_test, prediction, r2Score):\n",
    "    plt.xticks(fontsize=14)\n",
    "    plt.yticks(fontsize=14)\n",
    "    plt.scatter(X_train, y_train, color=\"navy\", label=\"train data\", s=70)\n",
    "    plt.scatter(X_test, y_test, color=\"green\", label=\"test data\", s=70)\n",
    "    plt.scatter(X_test, prediction, color=\"orange\", label=\"predicted data points\", s=70)\n",
    "    plt.legend(fontsize=14)\n",
    "    plt.title(f\"Amount of Deceased in {municipality} per year. Score: {r2Score}\", fontsize=16)"
   ]
  },
  {
   "cell_type": "code",
   "execution_count": null,
   "id": "97e8e10b",
   "metadata": {
    "scrolled": false
   },
   "outputs": [],
   "source": [
    "metricsDictionary = {\"X_train\": {}, \"y_train\": {}, \"X_test\": {}, \"y_test\": {}, \"prediction\": {},\"Score\": {}}\n",
    "for municipality in datasets.keys():\n",
    "    dataset = datasets[municipality].reset_index()\n",
    "    features = doFeatureSelection(dataset)\n",
    "    dataset = dataset[features]\n",
    "    X_train, y_train, X_test, y_test, prediction, r2Score = predictByNearestNeighbors(datasets[municipality])\n",
    "    metricsDictionary[\"X_train\"][municipality] = X_train\n",
    "    metricsDictionary[\"y_train\"][municipality] = y_train\n",
    "    metricsDictionary[\"X_test\"][municipality] = X_test\n",
    "    metricsDictionary[\"y_test\"][municipality] = y_test\n",
    "    metricsDictionary[\"prediction\"][municipality] = prediction\n",
    "    metricsDictionary[\"Score\"][municipality] = r2Score"
   ]
  },
  {
   "cell_type": "code",
   "execution_count": null,
   "id": "af91183e",
   "metadata": {},
   "outputs": [],
   "source": [
    "scores = pd.DataFrame.from_dict(metricsDictionary).reset_index()\n",
    "scores = scores.rename(columns={\"index\": \"Municipality\"})"
   ]
  },
  {
   "cell_type": "code",
   "execution_count": null,
   "id": "769f8332",
   "metadata": {},
   "outputs": [],
   "source": [
    "fig = px.scatter(scores, x='Municipality', y='Score', color='Municipality')\n",
    "fig.show()"
   ]
  },
  {
   "cell_type": "code",
   "execution_count": null,
   "id": "933aeab2",
   "metadata": {
    "scrolled": false
   },
   "outputs": [],
   "source": [
    "badPredictions = scores.query('Score < -1').reset_index().loc[0:1].assign(Bg = lambda x: 'salmon')\n",
    "goodPredictions = scores.query('Score > -1').reset_index().iloc[0:2].assign(Bg = lambda x: 'mediumaquamarine')\n",
    "predictions = pd.concat([badPredictions, goodPredictions])\n",
    "plotcount = 1\n",
    "plt.figure(figsize=(20, 20))\n",
    "for i, prediction in predictions.iterrows():\n",
    "    ax = plt.subplot(4,2, plotcount)\n",
    "    ax.set_facecolor(prediction['Bg'])\n",
    "    plotNearestNeighbors(prediction['Municipality'], prediction[\"X_train\"], prediction[\"y_train\"], prediction[\"X_test\"], prediction[\"y_test\"],prediction[\"prediction\"], prediction[\"Score\"])\n",
    "    plotcount +=1"
   ]
  },
  {
   "cell_type": "code",
   "execution_count": null,
   "id": "f3013112",
   "metadata": {},
   "outputs": [],
   "source": [
    "scoresPie = [\n",
    "     {\"type\": \"between -1 and 1\",\"amount\": len(scores.query('Score > -1 or Score < 1'))},\n",
    "     {\"type\": \"less then -1\",\"amount\": len(scores.query('Score < -1'))}\n",
    "]\n",
    "scoresPie = pd.DataFrame(scoresPie)\n",
    "pie, ax = plt.subplots(figsize=[10,6])\n",
    "plt.pie(x=scoresPie['amount'], autopct=\"%.1f%%\", labels=scoresPie['type'], pctdistance=0.5)\n",
    "plt.title(\"the distribution of prediction scores from all municipalities\", fontsize=14);\n",
    "plt.legend()"
   ]
  },
  {
   "cell_type": "markdown",
   "id": "0a7d5df9",
   "metadata": {},
   "source": [
    "<b>Clean Data</b>"
   ]
  },
  {
   "cell_type": "markdown",
   "id": "9f4708db",
   "metadata": {},
   "source": [
    "- lifeExpectency\n",
    "    - lifeExpectencyPerRegion2016_2019 \n",
    "- populationChange\n",
    "    - pop2002_2020\n",
    "    - popOverview\n",
    "    - popComparison2015_2020\n",
    "    - growthPrediction2020_2050\n",
    "    - absoluteNr\n",
    "- death\n",
    "    - reasons1997_2014\n",
    "    - reasons2005_2012\n",
    "    - reasons2013_2020\n",
    "    - perWeek2020_2021\n",
    "- birth\n",
    "    - birthPerYear1899_2018\n",
    "    - avaragesOfMonth"
   ]
  }
 ],
 "metadata": {
  "kernelspec": {
   "display_name": "Python 3",
   "language": "python",
   "name": "python3"
  },
  "language_info": {
   "codemirror_mode": {
    "name": "ipython",
    "version": 3
   },
   "file_extension": ".py",
   "mimetype": "text/x-python",
   "name": "python",
   "nbconvert_exporter": "python",
   "pygments_lexer": "ipython3",
   "version": "3.8.8"
  }
 },
 "nbformat": 4,
 "nbformat_minor": 5
}
