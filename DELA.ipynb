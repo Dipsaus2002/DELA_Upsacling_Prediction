{
 "cells": [
  {
   "cell_type": "code",
   "execution_count": 2,
   "id": "de4f1ebb",
   "metadata": {},
   "outputs": [],
   "source": [
    "import numpy as np\n",
    "import pandas as pd\n",
    "import matplotlib.pyplot as plt\n",
    "import seaborn as sns\n",
    "import requests\n",
    "from io import StringIO"
   ]
  },
  {
   "cell_type": "code",
   "execution_count": 7,
   "id": "a413f285",
   "metadata": {},
   "outputs": [
    {
     "name": "stdout",
     "output_type": "stream",
     "text": [
      "(710, 4)\n"
     ]
    }
   ],
   "source": [
    "class dataset: \n",
    "    def __init__(self, tag, name, url):\n",
    "        self.tag = tag\n",
    "        self.url = url\n",
    "        self.name = name\n",
    "        \n",
    "datasets = [\n",
    "    dataset('density', 'densityNow', 'https://raw.githubusercontent.com/Dipsaus2002/DELA_Upsacling_Prediction/main/Dela%20Data/Density%20of%20population/klikfilebev_2020.csv'),\n",
    "    dataset('density', 'densityPast', 'https://raw.githubusercontent.com/Dipsaus2002/DELA_Upsacling_Prediction/main/Dela%20Data/Density%20of%20population/klikfilebevontwikkeling_2015_2020_0.csv'),\n",
    "    dataset('density', 'densityFuture','https://raw.githubusercontent.com/Dipsaus2002/DELA_Upsacling_Prediction/main/Dela%20Data/Density%20of%20population/klikfilebevprognose_2020_2050_0.csv'),\n",
    "    dataset('birthrates', 'birthrates2', 'https://raw.githubusercontent.com/Dipsaus2002/DELA_Upsacling_Prediction/main/Dela%20Data/Birth%20rates/Aantal%20levend%20geboren%20kinderen%20(x%201%20000).csv'),\n",
    "    dataset('birthrates', 'birthKids', 'https://raw.githubusercontent.com/Dipsaus2002/DELA_Upsacling_Prediction/main/Dela%20Data/Birth%20rates/Geboren%20kinderen%20per%20maand%20(x%201%20000)%20(4).csv'),\n",
    "    dataset('death', 'deathPerWeek', 'https://raw.githubusercontent.com/Dipsaus2002/DELA_Upsacling_Prediction/main/Dela%20Data/Deaths%20by%20week/table_tabel-5fbadeee-9c27-456a-bbb2-9a7d166a0971.csv'),\n",
    "    dataset('deathWithReason', 'typedDataSet', 'https://raw.githubusercontent.com/Dipsaus2002/DELA_Upsacling_Prediction/main/Dela%20Data/Deaths%20with%20reason%202019%20-%202020/7233_TypedDataSet_30092021_112745.csv'),\n",
    "    dataset('deathWithReason', 'untypedDataSet', 'https://raw.githubusercontent.com/Dipsaus2002/DELA_Upsacling_Prediction/main/Dela%20Data/Deaths%20with%20reason%202019%20-%202020/7233_UntypedDataSet_30092021_112215.csv'),\n",
    "    dataset('deathWithReason', 'metadata', 'https://raw.githubusercontent.com/Dipsaus2002/DELA_Upsacling_Prediction/main/Dela%20Data/Deaths%20with%20reason%202019%20-%202020/7233_metadata.csv'),\n",
    "]\n",
    "        \n",
    "dataframes = {\n",
    "    \"density\": {},\n",
    "    \"birthrates\": {},\n",
    "    \"death\":{},\n",
    "    \"deathWithReason\":{}\n",
    "}\n",
    "    \n",
    "for dataset in datasets:\n",
    "        data = requests.get(dataset.url).text\n",
    "        dataframe = pd.read_csv(StringIO(data), error_bad_lines=False, sep=\";\")\n",
    "        dataframes[dataset.tag][dataset.name] = dataframe\n",
    "        \n",
    "print(dataframes['density']['densityNow'].shape)\n",
    "# print(dataframes['birthrates']['birthrates2'].shape)\n"
   ]
  },
  {
   "cell_type": "code",
   "execution_count": null,
   "id": "ba61af96",
   "metadata": {},
   "outputs": [],
   "source": []
  }
 ],
 "metadata": {
  "kernelspec": {
   "display_name": "Python 3",
   "language": "python",
   "name": "python3"
  },
  "language_info": {
   "codemirror_mode": {
    "name": "ipython",
    "version": 3
   },
   "file_extension": ".py",
   "mimetype": "text/x-python",
   "name": "python",
   "nbconvert_exporter": "python",
   "pygments_lexer": "ipython3",
   "version": "3.8.8"
  }
 },
 "nbformat": 4,
 "nbformat_minor": 5
}
