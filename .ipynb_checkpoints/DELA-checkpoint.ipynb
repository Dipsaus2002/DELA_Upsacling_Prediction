{
 "cells": [
  {
   "cell_type": "markdown",
   "id": "fb0a21ca",
   "metadata": {},
   "source": [
    "# Notebook Setup"
   ]
  },
  {
   "cell_type": "code",
   "execution_count": 1,
   "id": "de4f1ebb",
   "metadata": {},
   "outputs": [],
   "source": [
    "import matplotlib.pyplot as plt\n",
    "import pandas as pd\n",
    "import seaborn as sns\n",
    "from sklearn.preprocessing import StandardScaler\n",
    "from mpl_toolkits.mplot3d import Axes3D\n",
    "import numpy as np\n",
    "from sklearn.feature_selection import SelectKBest, mutual_info_regression\n",
    "from sklearn.model_selection import train_test_split as tts"
   ]
  },
  {
   "cell_type": "markdown",
   "id": "9afafc20",
   "metadata": {},
   "source": [
    "# Dela - Predicting the amount of deaths per year"
   ]
  },
  {
   "cell_type": "markdown",
   "id": "75664d22",
   "metadata": {},
   "source": [
    "### 1. Intro\n",
    "<b>Who is our client?</b><br>\n",
    "Our client is Dela. Dela is a funeral insurer and caretaker for funeral services. In this semester, they will give us some inside problems that we can investigate on.<br><br>\n",
    "<b>Project explanation</b><br>\n",
    "Dela was faced with unprecedented challenge by the fluctuating demands during the Covid19 first year, and that way they are looking to enhance their abilities to react to surprising serge or drops in demands.\n",
    "We cannot predict when Dela needs to upscale or downscale. However, we can forecast the amount of deaths in the upcoming years. Based on that knowledge and Dela experience, they can conclude themselves when to upscale or downscale.<br><br>\n",
    "<b>Project goal</b><br>\n",
    "In our project, we are going to forecast the amount of deaths per year. In this way we can help them conclude easier what to do on higher, lower demand.<br><br><br>\n",
    "<b>Document explanation</b><br>\n",
    "In this document there will be the testing and implementation of the project delivered proposal hypothesis. In this document, we will do that by understanding and experimenting with the collected data. After the understanding, we will see if our hypothesis can be validated and we will do that by applying machine learning onto our dataset.<br><br>\n",
    "<b>Document setup:</b><br>\n",
    "<table style=\"font-size: 14px !important; margin: 0 !important\">\n",
    "    <tr>\n",
    "        <th style=\"text-align: left;\">Data requirements</th>\n",
    "        <td style=\"text-align: left;\">In this chapter, we are going to setup the requirements for the data that is needed for the prediction. We will answer questions like ‘Which references are trustworthy?’, ‘Do we need some specific features?’, etc…</td>\n",
    "    </tr>\n",
    "    <tr>\n",
    "        <th style=\"text-align: left;\">Data collection</th>\n",
    "        <td style=\"text-align: left;\">In this chapter, we are going to explain where we found our data, where we are going to store our data and references to he subchapters of each dataset</td>\n",
    "    </tr>\n",
    "    <tr>\n",
    "        <th style=\"text-align: left;\">Data understanding</th>\n",
    "        <td style=\"text-align: left;\">In this chapter, we are going to understand each specific dataset that we downloaded to really understand the value of each dataset and how it is going to bring a value to Dela.</td>\n",
    "    </tr>\n",
    "    <tr>\n",
    "        <th style=\"text-align: left;\">Data preparation</th>\n",
    "        <td style=\"text-align: left;\">In this chapter, we are going to prepare our data so it is clean to work with, think about removing all the data that has invalid records, data that has wrong values or data that has similar features with different names.</td>\n",
    "    </tr>\n",
    "</table>"
   ]
  },
  {
   "cell_type": "markdown",
   "id": "e429ae60",
   "metadata": {},
   "source": [
    "### 2. Provisioning"
   ]
  },
  {
   "cell_type": "markdown",
   "id": "aae53522",
   "metadata": {},
   "source": [
    "### 2.1 Data Requirements\n",
    "In this chapter, we are trying to setup the expectations/ requirements of the data we are going to collect for the provisioning fase."
   ]
  },
  {
   "cell_type": "markdown",
   "id": "271084de",
   "metadata": {},
   "source": [
    "<table style=\"font-size: 14px !important; margin: 0 !important\">\n",
    "    <tr>\n",
    "        <th style=\"text-align: left !important\">Data Domain</th>\n",
    "        <td style=\"text-align: left !important\"></td>\n",
    "    </tr>\n",
    "    <tr>\n",
    "        <th style=\"text-align: left !important\">Data type</th>\n",
    "        <td style=\"text-align: left !important\"></td>\n",
    "    </tr>\n",
    "    <tr>\n",
    "        <th style=\"text-align: left !important\">Target Variable</th>\n",
    "        <td style=\"text-align: left !important\"></td>\n",
    "    </tr>\n",
    "    <tr>\n",
    "        <th style=\"text-align: left !important\">Expected Features</th>\n",
    "        <td style=\"text-align: left !important\"></td>\n",
    "    </tr>\n",
    "</table>"
   ]
  },
  {
   "cell_type": "markdown",
   "id": "1fc8d1a0",
   "metadata": {},
   "source": [
    "### 2.2 Data Collection\n",
    "Because we want to search for data that contains the amount of deaths in the Netherlands, we began searching for an open data bank that is governmental. In this case the data is from a trustworthy source and will higher the chance of a good prediction. That's when we landed on CBS (stands for `Centraal Bureau voor de Statistiek`, translated to English that means  `Central Station of Statistics`). "
   ]
  },
  {
   "cell_type": "markdown",
   "id": "b01e6e97",
   "metadata": {},
   "source": [
    "<table style=\"font-size: 14px !important; margin: 0 !important\">\n",
    "    <tr>\n",
    "        <th style=\"text-align: left !important\">Data Source</th>\n",
    "        <td style=\"text-align: left !important\">We got our data from the official   <a href=\"https://opendata.cbs.nl/statline/portal.html?_la=nl&_catalog=CBS\" target=\"_blank\">CBS</a> Website</td>\n",
    "    </tr>\n",
    "    <tr>\n",
    "        <th style=\"text-align: left !important\">Data Storage</th>\n",
    "        <td style=\"text-align: left !important\">We stored all of our datasets on <a href=\"https://github.com/i454038/AI-car-price-prediction\" target=\"_blank\">Github</a>, so it is globally accessible</td>\n",
    "    </tr>\n",
    "</table>"
   ]
  },
  {
   "cell_type": "markdown",
   "id": "c8226c3e",
   "metadata": {},
   "source": [
    "Load in the datasets from Github"
   ]
  },
  {
   "cell_type": "code",
   "execution_count": 2,
   "id": "fb95f526",
   "metadata": {},
   "outputs": [],
   "source": [
    "# these are custom classes made to keep the notebook neat.\n",
    "from classes.dataImporting import datasetManager\n",
    "\n",
    "datasets = datasetManager.defineDatasets()\n",
    "dataframes = datasetManager.loadDatasets(datasets)"
   ]
  },
  {
   "cell_type": "markdown",
   "id": "18043d12",
   "metadata": {},
   "source": [
    "### 2.3 Data Understanding"
   ]
  },
  {
   "cell_type": "markdown",
   "id": "bb1dbbe5",
   "metadata": {},
   "source": [
    "We want to plot the deceased"
   ]
  },
  {
   "cell_type": "code",
   "execution_count": null,
   "id": "0be4bb22",
   "metadata": {},
   "outputs": [],
   "source": []
  },
  {
   "cell_type": "markdown",
   "id": "983402ea",
   "metadata": {},
   "source": [
    "### 2.4 Data Preperation"
   ]
  },
  {
   "cell_type": "markdown",
   "id": "65ce9dec",
   "metadata": {},
   "source": [
    "### LifeExpectency - LifeExpectencyPerRegion"
   ]
  },
  {
   "cell_type": "markdown",
   "id": "8245aec1",
   "metadata": {},
   "source": [
    "For the life expectency\n",
    "- We renamed the columns to English.\n",
    "- We converted the integer columns to floats instead of objects."
   ]
  },
  {
   "cell_type": "code",
   "execution_count": 3,
   "id": "27083a87",
   "metadata": {},
   "outputs": [],
   "source": [
    "dataframes['lifeExpectency']['lifeExpectencyPerRegion'] = (\n",
    "    dataframes['lifeExpectency']['lifeExpectencyPerRegion']\n",
    "        .rename(columns=datasetManager.renameFeatures('lifeExpectency.lifeExpectencyPerRegion'))\n",
    "        .assign(LifeExpectancy = lambda x: x.LifeExpectancy.str.replace(',', '.').astype(float))\n",
    "        .assign(LifeExpectancyWhen65OrOlder = lambda x: x.LifeExpectancyWhen65OrOlder.str.replace(',', '.').astype(float))\n",
    ")"
   ]
  },
  {
   "cell_type": "code",
   "execution_count": 4,
   "id": "9e34be28",
   "metadata": {},
   "outputs": [
    {
     "data": {
      "text/html": [
       "<div>\n",
       "<style scoped>\n",
       "    .dataframe tbody tr th:only-of-type {\n",
       "        vertical-align: middle;\n",
       "    }\n",
       "\n",
       "    .dataframe tbody tr th {\n",
       "        vertical-align: top;\n",
       "    }\n",
       "\n",
       "    .dataframe thead th {\n",
       "        text-align: right;\n",
       "    }\n",
       "</style>\n",
       "<table border=\"1\" class=\"dataframe\">\n",
       "  <thead>\n",
       "    <tr style=\"text-align: right;\">\n",
       "      <th></th>\n",
       "      <th>id</th>\n",
       "      <th>Municipality</th>\n",
       "      <th>Groep_rij</th>\n",
       "      <th>Geslacht</th>\n",
       "      <th>LifeExpectancy</th>\n",
       "      <th>LifeExpectancyNL</th>\n",
       "      <th>LifeExpectancyWhen65OrOlder</th>\n",
       "      <th>LifeExpectancyWhen65OrOlderNL</th>\n",
       "    </tr>\n",
       "  </thead>\n",
       "  <tbody>\n",
       "    <tr>\n",
       "      <th>0</th>\n",
       "      <td>518</td>\n",
       "      <td>'s-Gravenhage</td>\n",
       "      <td>Levensverwachting</td>\n",
       "      <td>Totaal</td>\n",
       "      <td>80.8</td>\n",
       "      <td>onder, 99% zeker</td>\n",
       "      <td>19.1</td>\n",
       "      <td>onder, 99% zeker</td>\n",
       "    </tr>\n",
       "    <tr>\n",
       "      <th>1</th>\n",
       "      <td>796</td>\n",
       "      <td>'s-Hertogenbosch</td>\n",
       "      <td>Levensverwachting</td>\n",
       "      <td>Totaal</td>\n",
       "      <td>81.3</td>\n",
       "      <td>onder, 99% zeker</td>\n",
       "      <td>19.7</td>\n",
       "      <td>onder, 99% zeker</td>\n",
       "    </tr>\n",
       "    <tr>\n",
       "      <th>2</th>\n",
       "      <td>1680</td>\n",
       "      <td>Aa en Hunze</td>\n",
       "      <td>Levensverwachting</td>\n",
       "      <td>Totaal</td>\n",
       "      <td>82.1</td>\n",
       "      <td>geen</td>\n",
       "      <td>20.4</td>\n",
       "      <td>geen</td>\n",
       "    </tr>\n",
       "    <tr>\n",
       "      <th>3</th>\n",
       "      <td>358</td>\n",
       "      <td>Aalsmeer</td>\n",
       "      <td>Levensverwachting</td>\n",
       "      <td>Totaal</td>\n",
       "      <td>82.9</td>\n",
       "      <td>boven, 99% zeker</td>\n",
       "      <td>20.1</td>\n",
       "      <td>geen</td>\n",
       "    </tr>\n",
       "    <tr>\n",
       "      <th>4</th>\n",
       "      <td>197</td>\n",
       "      <td>Aalten</td>\n",
       "      <td>Levensverwachting</td>\n",
       "      <td>Totaal</td>\n",
       "      <td>82.1</td>\n",
       "      <td>geen</td>\n",
       "      <td>20.3</td>\n",
       "      <td>geen</td>\n",
       "    </tr>\n",
       "  </tbody>\n",
       "</table>\n",
       "</div>"
      ],
      "text/plain": [
       "     id      Municipality          Groep_rij Geslacht  LifeExpectancy  \\\n",
       "0   518     's-Gravenhage  Levensverwachting   Totaal            80.8   \n",
       "1   796  's-Hertogenbosch  Levensverwachting   Totaal            81.3   \n",
       "2  1680       Aa en Hunze  Levensverwachting   Totaal            82.1   \n",
       "3   358          Aalsmeer  Levensverwachting   Totaal            82.9   \n",
       "4   197            Aalten  Levensverwachting   Totaal            82.1   \n",
       "\n",
       "   LifeExpectancyNL  LifeExpectancyWhen65OrOlder LifeExpectancyWhen65OrOlderNL  \n",
       "0  onder, 99% zeker                         19.1              onder, 99% zeker  \n",
       "1  onder, 99% zeker                         19.7              onder, 99% zeker  \n",
       "2              geen                         20.4                          geen  \n",
       "3  boven, 99% zeker                         20.1                          geen  \n",
       "4              geen                         20.3                          geen  "
      ]
     },
     "execution_count": 4,
     "metadata": {},
     "output_type": "execute_result"
    }
   ],
   "source": [
    "dataframes['lifeExpectency']['lifeExpectencyPerRegion'].head()"
   ]
  },
  {
   "cell_type": "markdown",
   "id": "35ae2289",
   "metadata": {},
   "source": [
    "### PopulationChange - Pop2002_2020"
   ]
  },
  {
   "cell_type": "code",
   "execution_count": 5,
   "id": "61296ba4",
   "metadata": {},
   "outputs": [],
   "source": [
    "# transform dataset to align with others\n",
    "dataframes['populationChange']['pop2002_2020'] = (\n",
    "    dataframes['populationChange']['pop2002_2020']\n",
    "        .rename(columns=datasetManager.renameFeatures('populationChange.pop2002_2020'))\n",
    "        .assign(Year = lambda x: pd.to_datetime(x.Year.str[:4]).dt.year)\n",
    ")"
   ]
  },
  {
   "cell_type": "code",
   "execution_count": 6,
   "id": "86d2b717",
   "metadata": {},
   "outputs": [
    {
     "data": {
      "text/html": [
       "<div>\n",
       "<style scoped>\n",
       "    .dataframe tbody tr th:only-of-type {\n",
       "        vertical-align: middle;\n",
       "    }\n",
       "\n",
       "    .dataframe tbody tr th {\n",
       "        vertical-align: top;\n",
       "    }\n",
       "\n",
       "    .dataframe thead th {\n",
       "        text-align: right;\n",
       "    }\n",
       "</style>\n",
       "<table border=\"1\" class=\"dataframe\">\n",
       "  <thead>\n",
       "    <tr style=\"text-align: right;\">\n",
       "      <th></th>\n",
       "      <th>ID</th>\n",
       "      <th>Municipality</th>\n",
       "      <th>Year</th>\n",
       "      <th>PopulationAtBeginOfPeriod</th>\n",
       "      <th>AliveBornChildren</th>\n",
       "      <th>Deceased</th>\n",
       "      <th>TotalLocations</th>\n",
       "      <th>LocationsFromOtherMunicipality</th>\n",
       "      <th>Immigration</th>\n",
       "      <th>TotaalVertrekInclAdmCorrecties_7</th>\n",
       "      <th>AmountMovedToOtherMunicipality</th>\n",
       "      <th>EmigratieInclusiefAdmCorrecties_9</th>\n",
       "      <th>OverigeCorrecties_10</th>\n",
       "      <th>PopulationGrowth</th>\n",
       "      <th>RelativePopulationGrowth</th>\n",
       "      <th>PopulationGrowthSinceJanuari</th>\n",
       "      <th>RelativePopulationGrowthSinceJanuari</th>\n",
       "      <th>PopulationAtEndOfPeriod</th>\n",
       "    </tr>\n",
       "  </thead>\n",
       "  <tbody>\n",
       "    <tr>\n",
       "      <th>0</th>\n",
       "      <td>14604</td>\n",
       "      <td>GM1680</td>\n",
       "      <td>2002</td>\n",
       "      <td>25552.0</td>\n",
       "      <td>289.0</td>\n",
       "      <td>251.0</td>\n",
       "      <td>1353.0</td>\n",
       "      <td>1121.0</td>\n",
       "      <td>232.0</td>\n",
       "      <td>1617.0</td>\n",
       "      <td>1498.0</td>\n",
       "      <td>119.0</td>\n",
       "      <td>-21.0</td>\n",
       "      <td>-247.0</td>\n",
       "      <td>-0.97</td>\n",
       "      <td>-247.0</td>\n",
       "      <td>-0.97</td>\n",
       "      <td>25305.0</td>\n",
       "    </tr>\n",
       "    <tr>\n",
       "      <th>1</th>\n",
       "      <td>14617</td>\n",
       "      <td>GM1680</td>\n",
       "      <td>2003</td>\n",
       "      <td>25305.0</td>\n",
       "      <td>279.0</td>\n",
       "      <td>241.0</td>\n",
       "      <td>1127.0</td>\n",
       "      <td>1071.0</td>\n",
       "      <td>56.0</td>\n",
       "      <td>1264.0</td>\n",
       "      <td>1111.0</td>\n",
       "      <td>153.0</td>\n",
       "      <td>12.0</td>\n",
       "      <td>-87.0</td>\n",
       "      <td>-0.34</td>\n",
       "      <td>-87.0</td>\n",
       "      <td>-0.34</td>\n",
       "      <td>25218.0</td>\n",
       "    </tr>\n",
       "    <tr>\n",
       "      <th>2</th>\n",
       "      <td>14630</td>\n",
       "      <td>GM1680</td>\n",
       "      <td>2004</td>\n",
       "      <td>25218.0</td>\n",
       "      <td>233.0</td>\n",
       "      <td>221.0</td>\n",
       "      <td>1167.0</td>\n",
       "      <td>1104.0</td>\n",
       "      <td>63.0</td>\n",
       "      <td>1077.0</td>\n",
       "      <td>1023.0</td>\n",
       "      <td>54.0</td>\n",
       "      <td>9.0</td>\n",
       "      <td>111.0</td>\n",
       "      <td>0.44</td>\n",
       "      <td>111.0</td>\n",
       "      <td>0.44</td>\n",
       "      <td>25329.0</td>\n",
       "    </tr>\n",
       "    <tr>\n",
       "      <th>3</th>\n",
       "      <td>14643</td>\n",
       "      <td>GM1680</td>\n",
       "      <td>2005</td>\n",
       "      <td>25329.0</td>\n",
       "      <td>230.0</td>\n",
       "      <td>231.0</td>\n",
       "      <td>1322.0</td>\n",
       "      <td>1254.0</td>\n",
       "      <td>68.0</td>\n",
       "      <td>1143.0</td>\n",
       "      <td>1062.0</td>\n",
       "      <td>81.0</td>\n",
       "      <td>0.0</td>\n",
       "      <td>178.0</td>\n",
       "      <td>0.70</td>\n",
       "      <td>178.0</td>\n",
       "      <td>0.70</td>\n",
       "      <td>25507.0</td>\n",
       "    </tr>\n",
       "    <tr>\n",
       "      <th>4</th>\n",
       "      <td>14656</td>\n",
       "      <td>GM1680</td>\n",
       "      <td>2006</td>\n",
       "      <td>25507.0</td>\n",
       "      <td>216.0</td>\n",
       "      <td>212.0</td>\n",
       "      <td>1369.0</td>\n",
       "      <td>1320.0</td>\n",
       "      <td>49.0</td>\n",
       "      <td>1326.0</td>\n",
       "      <td>1222.0</td>\n",
       "      <td>104.0</td>\n",
       "      <td>9.0</td>\n",
       "      <td>56.0</td>\n",
       "      <td>0.22</td>\n",
       "      <td>56.0</td>\n",
       "      <td>0.22</td>\n",
       "      <td>25563.0</td>\n",
       "    </tr>\n",
       "  </tbody>\n",
       "</table>\n",
       "</div>"
      ],
      "text/plain": [
       "      ID Municipality  Year  PopulationAtBeginOfPeriod  AliveBornChildren  \\\n",
       "0  14604       GM1680  2002                    25552.0              289.0   \n",
       "1  14617       GM1680  2003                    25305.0              279.0   \n",
       "2  14630       GM1680  2004                    25218.0              233.0   \n",
       "3  14643       GM1680  2005                    25329.0              230.0   \n",
       "4  14656       GM1680  2006                    25507.0              216.0   \n",
       "\n",
       "   Deceased  TotalLocations  LocationsFromOtherMunicipality  Immigration  \\\n",
       "0     251.0          1353.0                          1121.0        232.0   \n",
       "1     241.0          1127.0                          1071.0         56.0   \n",
       "2     221.0          1167.0                          1104.0         63.0   \n",
       "3     231.0          1322.0                          1254.0         68.0   \n",
       "4     212.0          1369.0                          1320.0         49.0   \n",
       "\n",
       "   TotaalVertrekInclAdmCorrecties_7  AmountMovedToOtherMunicipality  \\\n",
       "0                            1617.0                          1498.0   \n",
       "1                            1264.0                          1111.0   \n",
       "2                            1077.0                          1023.0   \n",
       "3                            1143.0                          1062.0   \n",
       "4                            1326.0                          1222.0   \n",
       "\n",
       "   EmigratieInclusiefAdmCorrecties_9  OverigeCorrecties_10  PopulationGrowth  \\\n",
       "0                              119.0                 -21.0            -247.0   \n",
       "1                              153.0                  12.0             -87.0   \n",
       "2                               54.0                   9.0             111.0   \n",
       "3                               81.0                   0.0             178.0   \n",
       "4                              104.0                   9.0              56.0   \n",
       "\n",
       "   RelativePopulationGrowth  PopulationGrowthSinceJanuari  \\\n",
       "0                     -0.97                        -247.0   \n",
       "1                     -0.34                         -87.0   \n",
       "2                      0.44                         111.0   \n",
       "3                      0.70                         178.0   \n",
       "4                      0.22                          56.0   \n",
       "\n",
       "   RelativePopulationGrowthSinceJanuari  PopulationAtEndOfPeriod  \n",
       "0                                 -0.97                  25305.0  \n",
       "1                                 -0.34                  25218.0  \n",
       "2                                  0.44                  25329.0  \n",
       "3                                  0.70                  25507.0  \n",
       "4                                  0.22                  25563.0  "
      ]
     },
     "execution_count": 6,
     "metadata": {},
     "output_type": "execute_result"
    }
   ],
   "source": [
    "dataframes['populationChange']['pop2002_2020'].head(5)"
   ]
  },
  {
   "cell_type": "markdown",
   "id": "f0c6d454",
   "metadata": {},
   "source": [
    "### Death - Reason of Death"
   ]
  },
  {
   "cell_type": "code",
   "execution_count": 7,
   "id": "df343342",
   "metadata": {},
   "outputs": [],
   "source": [
    "dataframes['death']['reason_per_year_per_region2002_2020'] = (\n",
    "    pd.concat([\n",
    "        dataframes['death']['reasons_per_year_per_region2002_2015'], \n",
    "        dataframes['death']['reasons_per_year_per_region2016_2020']\n",
    "    ])\n",
    ")\n",
    "\n",
    "dataframes['death']['reason_per_year_per_region2002_2020'] = (\n",
    "    dataframes['death']['reason_per_year_per_region2002_2020']\n",
    "        .rename(columns={'RegioS': 'Municipality', 'Perioden': 'Year'})\n",
    "        .assign(Year = lambda x: pd.to_datetime(x.Year.str[:4]).dt.year)\n",
    ")"
   ]
  },
  {
   "cell_type": "markdown",
   "id": "8ecccce9",
   "metadata": {},
   "source": [
    "### Merge Datasets"
   ]
  },
  {
   "cell_type": "markdown",
   "id": "b8eb2c4e",
   "metadata": {},
   "source": [
    "<table style=\"margin: 0 !important; font-size: 14px !important\">\n",
    "    <tr>\n",
    "        <th style=\"text-align: left !important\">Goal:</th>\n",
    "        <td style=\"text-align: left !important\">\n",
    "            Merge the datasets:<br>\n",
    "            <ul>\n",
    "                <li>lifeExpectency</li>\n",
    "                <li>population</li>\n",
    "                <li>reason of death</li>\n",
    "            </ul>\n",
    "        </td>\n",
    "    </tr>\n",
    "    <tr>\n",
    "        <th style=\"text-align: left !important\">Possible Solutions:</th>\n",
    "        <td style=\"text-align: left !important\">\n",
    "            <ul>\n",
    "                <li>merge (pandas)</li>\n",
    "                <li>concatinate (pandas)</li>\n",
    "            </ul>\n",
    "        </td>\n",
    "    </tr>\n",
    "</table>"
   ]
  },
  {
   "cell_type": "markdown",
   "id": "db405509",
   "metadata": {},
   "source": [
    "<b>Merge</b><br>\n",
    "Merge DataFrame or named Series objects with a database-style join.<br>\n",
    "A named Series object is treated as a DataFrame with a single named column.<br>\n",
    "The join is done on columns or indexes. If joining columns on columns, the DataFrame indexes will be ignored. Otherwise if joining indexes on indexes or indexes on a column or columns, the index will be passed on. When performing a cross merge, no column specifications to merge on are allowed.<br>\n",
    "<b>Concatinate</b><br>\n",
    "Concatenate pandas objects along a particular axis with optional set logic along the other axes.<br>\n",
    "Can also add a layer of hierarchical indexing on the concatenation axis, which may be useful if the labels are the same (or overlapping) on the passed axis number.<br>\n",
    "<b>What is the best solution?</b><br>\n",
    "Our datasets do not have the same columns, it's even so that they have diffrent columns. We want to add features to one dataset and we do not want to align the dataset on a particular axis. This is why we are using the merge function to make one big dataset."
   ]
  },
  {
   "cell_type": "code",
   "execution_count": 8,
   "id": "e23f811d",
   "metadata": {},
   "outputs": [
    {
     "data": {
      "text/plain": [
       "array([2002, 2003, 2004, 2005, 2006, 2007, 2008, 2009, 2010, 2011, 2012,\n",
       "       2013, 2014, 2015, 2016, 2017, 2018, 2019, 2020])"
      ]
     },
     "execution_count": 8,
     "metadata": {},
     "output_type": "execute_result"
    }
   ],
   "source": [
    "dataset = (\n",
    "    dataframes['populationChange']['pop2002_2020']\n",
    "        .merge(dataframes['lifeExpectency']['lifeExpectencyPerRegion'], how='outer', on=\"Municipality\")\n",
    "        .merge(dataframes['death']['reason_per_year_per_region2002_2020'], how='outer', on=['Year', \"Municipality\"])\n",
    "        .assign(Municipality = lambda x: x.Municipality.replace(datasetManager.mapFeature('Municipality')))\n",
    "        .fillna(0)\n",
    "        .assign(Year = lambda x: x.Year.replace(0, 2002))\n",
    "        .assign(Year = lambda x: x.Year.astype(int))\n",
    ")\n",
    "dataset['Year'].unique()"
   ]
  },
  {
   "cell_type": "code",
   "execution_count": 9,
   "id": "06b506cf",
   "metadata": {},
   "outputs": [],
   "source": [
    "# PredictingDataset = dataset.assign(Municipality = lambda x: x.Municipality.astype(\"category\").cat.codes)\n",
    "# # remove values with type string (object) because they are useless eather way\n",
    "dataset = dataset[[\n",
    "    i for i in list(dataset.columns) \n",
    "    if i not in \n",
    "    ['Groep_rij', 'Geslacht_x', 'LifeExpectancyNL', 'LifeExpectancyWhen65OrOlderNL', 'Geslacht_y']\n",
    "]]"
   ]
  },
  {
   "cell_type": "code",
   "execution_count": 10,
   "id": "54d5e98e",
   "metadata": {},
   "outputs": [],
   "source": [
    "dataset.set_index(['Municipality', 'Year'], inplace=True)"
   ]
  },
  {
   "cell_type": "code",
   "execution_count": 11,
   "id": "d4fa5c84",
   "metadata": {},
   "outputs": [
    {
     "name": "stdout",
     "output_type": "stream",
     "text": [
      "Year\n",
      "2002    6546.0\n",
      "2002    6546.0\n",
      "2002    6546.0\n",
      "2002    6546.0\n",
      "2002    6546.0\n",
      "         ...  \n",
      "2020    5763.0\n",
      "2020    5763.0\n",
      "2020    5763.0\n",
      "2020    5763.0\n",
      "2002       0.0\n",
      "Name: Deceased, Length: 571, dtype: float64\n",
      "Year\n",
      "2002     953.0\n",
      "2002     953.0\n",
      "2002     953.0\n",
      "2002     953.0\n",
      "2002     953.0\n",
      "         ...  \n",
      "2020    1036.0\n",
      "2020    1036.0\n",
      "2020    1036.0\n",
      "2020    1036.0\n",
      "2002       0.0\n",
      "Name: Deceased, Length: 571, dtype: float64\n"
     ]
    }
   ],
   "source": [
    "municipalities = dataset.reset_index()['Municipality'].unique()\n",
    "datasets = {}\n",
    "for munucipality in municipalities:\n",
    "    datasets[munucipality] = dataset.loc[munucipality]\n",
    "\n",
    "print(datasets['Amsterdam']['Deceased'])\n",
    "print(datasets['Zwolle']['Deceased'])\n",
    "# pd.DataFrame({\n",
    "#     \"recall\": {\n",
    "#         \"amsterdam\": '0.82',\n",
    "#         'zwolle': '0.42'\n",
    "#     },\n",
    "#     'accuracy': {\n",
    "#         \"amsterdam\": '0.82',\n",
    "#         'zwolle': '0.42'\n",
    "#     }\n",
    "# })"
   ]
  },
  {
   "cell_type": "markdown",
   "id": "6ce6cebf",
   "metadata": {},
   "source": [
    "<table style=\"margin: 0 !important;\">\n",
    "    <tr>\n",
    "        <th style=\"text=align: center !important\">Goal:</th>\n",
    "        <td style=\"text=align: center !important\">\n",
    "            Grouping the dataset from municapality to year:<br>\n",
    "        </td>\n",
    "    </tr>\n",
    "    <tr>\n",
    "        <th style=\"text=align: center !important\">Possible Solutions:</th>\n",
    "        <td style=\"text=align: center !important\">\n",
    "            <ul>\n",
    "                <li>groupby</li>\n",
    "                <li>sort</li>\n",
    "            </ul>\n",
    "        </td>\n",
    "    </tr>\n",
    "</table>"
   ]
  },
  {
   "cell_type": "markdown",
   "id": "3da514db",
   "metadata": {},
   "source": [
    "<b>GroupBy</b><br>\n",
    "explenation<br>\n",
    "<b>Sort</b><br>\n",
    "explenation"
   ]
  },
  {
   "cell_type": "markdown",
   "id": "ab9a8013",
   "metadata": {},
   "source": [
    "### Rename columns"
   ]
  },
  {
   "cell_type": "code",
   "execution_count": 12,
   "id": "edee879a",
   "metadata": {
    "scrolled": true
   },
   "outputs": [],
   "source": [
    "def doFeatureSelection(dataset, y):\n",
    "    X = dataset.loc[:, dataset.columns != 'Deceased']\n",
    "    \n",
    "    sel = SelectKBest(mutual_info_regression, k=5)\n",
    "    sel.fit_transform(X,y)\n",
    "\n",
    "    cols = sel.get_support()\n",
    "    features_df_new = X.iloc[:,cols].keys()\n",
    "    return features_df_new\n",
    "#     print(\"\\n\")\n",
    "#     print(\"SelectKBest chooses following highest correlated features:\")\n",
    "#     print(features_df_new.keys())\n",
    "#     X = X[features_df_new.keys()]"
   ]
  },
  {
   "cell_type": "code",
   "execution_count": 13,
   "id": "4fa4c9c9",
   "metadata": {},
   "outputs": [],
   "source": [
    "def predictByNearestNeighbors(dataset, y):    \n",
    "    scaler = StandardScaler()\n",
    "    X_new = scaler.fit_transform(dataset)\n",
    "    \n",
    "    from sklearn.neighbors import KNeighborsRegressor\n",
    "\n",
    "    X_train, X_test, y_train, y_test = tts(X_new, y, test_size=0.2, random_state=20)\n",
    "\n",
    "    neigh = KNeighborsRegressor(n_neighbors=2)\n",
    "    neigh.fit(X_train, y_train)\n",
    "    prediction = neigh.predict(X_test)\n",
    "    return neigh.score(X_test, y_test)\n",
    "\n",
    "#     from sklearn.neighbors import NearestNeighbors\n",
    "#     neigh = NearestNeighbors()\n",
    "#     neigh.fit(X_train)"
   ]
  },
  {
   "cell_type": "code",
   "execution_count": 14,
   "id": "96a9f631",
   "metadata": {},
   "outputs": [
    {
     "ename": "ValueError",
     "evalue": "Expected n_neighbors <= n_samples,  but n_samples = 16, n_neighbors = 20",
     "output_type": "error",
     "traceback": [
      "\u001b[1;31m---------------------------------------------------------------------------\u001b[0m",
      "\u001b[1;31mValueError\u001b[0m                                Traceback (most recent call last)",
      "\u001b[1;32m<ipython-input-14-60e19f3884e3>\u001b[0m in \u001b[0;36m<module>\u001b[1;34m\u001b[0m\n\u001b[0;32m      6\u001b[0m     \u001b[0mdataset\u001b[0m \u001b[1;33m=\u001b[0m \u001b[0mdataset\u001b[0m\u001b[1;33m[\u001b[0m\u001b[0mfeatures\u001b[0m\u001b[1;33m]\u001b[0m\u001b[1;33m\u001b[0m\u001b[1;33m\u001b[0m\u001b[0m\n\u001b[0;32m      7\u001b[0m \u001b[1;31m#     print(dataset)\u001b[0m\u001b[1;33m\u001b[0m\u001b[1;33m\u001b[0m\u001b[1;33m\u001b[0m\u001b[0m\n\u001b[1;32m----> 8\u001b[1;33m     \u001b[0mpredictByNearestNeighbors\u001b[0m\u001b[1;33m(\u001b[0m\u001b[0mdataset\u001b[0m\u001b[1;33m,\u001b[0m \u001b[0my\u001b[0m\u001b[1;33m)\u001b[0m\u001b[1;33m\u001b[0m\u001b[1;33m\u001b[0m\u001b[0m\n\u001b[0m",
      "\u001b[1;32m<ipython-input-13-a6aec0b1c791>\u001b[0m in \u001b[0;36mpredictByNearestNeighbors\u001b[1;34m(dataset, y)\u001b[0m\n\u001b[0;32m      9\u001b[0m     \u001b[0mneigh\u001b[0m \u001b[1;33m=\u001b[0m \u001b[0mKNeighborsRegressor\u001b[0m\u001b[1;33m(\u001b[0m\u001b[0mn_neighbors\u001b[0m\u001b[1;33m=\u001b[0m\u001b[1;36m20\u001b[0m\u001b[1;33m)\u001b[0m\u001b[1;33m\u001b[0m\u001b[1;33m\u001b[0m\u001b[0m\n\u001b[0;32m     10\u001b[0m     \u001b[0mneigh\u001b[0m\u001b[1;33m.\u001b[0m\u001b[0mfit\u001b[0m\u001b[1;33m(\u001b[0m\u001b[0mX_train\u001b[0m\u001b[1;33m,\u001b[0m \u001b[0my_train\u001b[0m\u001b[1;33m)\u001b[0m\u001b[1;33m\u001b[0m\u001b[1;33m\u001b[0m\u001b[0m\n\u001b[1;32m---> 11\u001b[1;33m     \u001b[0mprediction\u001b[0m \u001b[1;33m=\u001b[0m \u001b[0mneigh\u001b[0m\u001b[1;33m.\u001b[0m\u001b[0mpredict\u001b[0m\u001b[1;33m(\u001b[0m\u001b[0mX_test\u001b[0m\u001b[1;33m)\u001b[0m\u001b[1;33m\u001b[0m\u001b[1;33m\u001b[0m\u001b[0m\n\u001b[0m\u001b[0;32m     12\u001b[0m     \u001b[1;32mreturn\u001b[0m \u001b[0mneigh\u001b[0m\u001b[1;33m.\u001b[0m\u001b[0mscore\u001b[0m\u001b[1;33m(\u001b[0m\u001b[0mX_test\u001b[0m\u001b[1;33m,\u001b[0m \u001b[0my_test\u001b[0m\u001b[1;33m)\u001b[0m\u001b[1;33m\u001b[0m\u001b[1;33m\u001b[0m\u001b[0m\n\u001b[0;32m     13\u001b[0m \u001b[1;33m\u001b[0m\u001b[0m\n",
      "\u001b[1;32m~\\anaconda3\\lib\\site-packages\\sklearn\\neighbors\\_regression.py\u001b[0m in \u001b[0;36mpredict\u001b[1;34m(self, X)\u001b[0m\n\u001b[0;32m    206\u001b[0m         \u001b[0mX\u001b[0m \u001b[1;33m=\u001b[0m \u001b[0mcheck_array\u001b[0m\u001b[1;33m(\u001b[0m\u001b[0mX\u001b[0m\u001b[1;33m,\u001b[0m \u001b[0maccept_sparse\u001b[0m\u001b[1;33m=\u001b[0m\u001b[1;34m'csr'\u001b[0m\u001b[1;33m)\u001b[0m\u001b[1;33m\u001b[0m\u001b[1;33m\u001b[0m\u001b[0m\n\u001b[0;32m    207\u001b[0m \u001b[1;33m\u001b[0m\u001b[0m\n\u001b[1;32m--> 208\u001b[1;33m         \u001b[0mneigh_dist\u001b[0m\u001b[1;33m,\u001b[0m \u001b[0mneigh_ind\u001b[0m \u001b[1;33m=\u001b[0m \u001b[0mself\u001b[0m\u001b[1;33m.\u001b[0m\u001b[0mkneighbors\u001b[0m\u001b[1;33m(\u001b[0m\u001b[0mX\u001b[0m\u001b[1;33m)\u001b[0m\u001b[1;33m\u001b[0m\u001b[1;33m\u001b[0m\u001b[0m\n\u001b[0m\u001b[0;32m    209\u001b[0m \u001b[1;33m\u001b[0m\u001b[0m\n\u001b[0;32m    210\u001b[0m         \u001b[0mweights\u001b[0m \u001b[1;33m=\u001b[0m \u001b[0m_get_weights\u001b[0m\u001b[1;33m(\u001b[0m\u001b[0mneigh_dist\u001b[0m\u001b[1;33m,\u001b[0m \u001b[0mself\u001b[0m\u001b[1;33m.\u001b[0m\u001b[0mweights\u001b[0m\u001b[1;33m)\u001b[0m\u001b[1;33m\u001b[0m\u001b[1;33m\u001b[0m\u001b[0m\n",
      "\u001b[1;32m~\\anaconda3\\lib\\site-packages\\sklearn\\neighbors\\_base.py\u001b[0m in \u001b[0;36mkneighbors\u001b[1;34m(self, X, n_neighbors, return_distance)\u001b[0m\n\u001b[0;32m    678\u001b[0m         \u001b[0mn_samples_fit\u001b[0m \u001b[1;33m=\u001b[0m \u001b[0mself\u001b[0m\u001b[1;33m.\u001b[0m\u001b[0mn_samples_fit_\u001b[0m\u001b[1;33m\u001b[0m\u001b[1;33m\u001b[0m\u001b[0m\n\u001b[0;32m    679\u001b[0m         \u001b[1;32mif\u001b[0m \u001b[0mn_neighbors\u001b[0m \u001b[1;33m>\u001b[0m \u001b[0mn_samples_fit\u001b[0m\u001b[1;33m:\u001b[0m\u001b[1;33m\u001b[0m\u001b[1;33m\u001b[0m\u001b[0m\n\u001b[1;32m--> 680\u001b[1;33m             raise ValueError(\n\u001b[0m\u001b[0;32m    681\u001b[0m                 \u001b[1;34m\"Expected n_neighbors <= n_samples, \"\u001b[0m\u001b[1;33m\u001b[0m\u001b[1;33m\u001b[0m\u001b[0m\n\u001b[0;32m    682\u001b[0m                 \u001b[1;34m\" but n_samples = %d, n_neighbors = %d\"\u001b[0m \u001b[1;33m%\u001b[0m\u001b[1;33m\u001b[0m\u001b[1;33m\u001b[0m\u001b[0m\n",
      "\u001b[1;31mValueError\u001b[0m: Expected n_neighbors <= n_samples,  but n_samples = 16, n_neighbors = 20"
     ]
    }
   ],
   "source": [
    "for municipality in municipalities:\n",
    "    y = datasets[municipality].Deceased\n",
    "    dataset = datasets[municipality]\n",
    "#     print(dataset)\n",
    "    features = doFeatureSelection(dataset, y)\n",
    "    dataset = dataset[features]\n",
    "#     print(dataset)\n",
    "    predictByNearestNeighbors(dataset, y)"
   ]
  },
  {
   "cell_type": "code",
   "execution_count": null,
   "id": "18fffe28",
   "metadata": {},
   "outputs": [],
   "source": [
    "X"
   ]
  },
  {
   "cell_type": "code",
   "execution_count": null,
   "id": "1c123308",
   "metadata": {},
   "outputs": [],
   "source": []
  },
  {
   "cell_type": "code",
   "execution_count": null,
   "id": "495cddee",
   "metadata": {},
   "outputs": [],
   "source": []
  },
  {
   "cell_type": "code",
   "execution_count": null,
   "id": "26640e8b",
   "metadata": {},
   "outputs": [],
   "source": [
    "# dataset = (\n",
    "#     dataset\n",
    "#         .groupby(['Year', 'Municipality']).mean()\n",
    "#         .reset_index()\n",
    "# )"
   ]
  },
  {
   "cell_type": "code",
   "execution_count": null,
   "id": "e2b8eaf2",
   "metadata": {},
   "outputs": [],
   "source": [
    "# dataset\n",
    "import plotly.express as px\n",
    "px.line(dataset, x=\"Year\", y='Deceased', color=\"Municipality\", title=\"Deceased per Year per Municipality in the Netherlands\")"
   ]
  },
  {
   "cell_type": "markdown",
   "id": "091abeaa",
   "metadata": {},
   "source": [
    "### PopulationChange - PopComparison2015_2020"
   ]
  },
  {
   "cell_type": "markdown",
   "id": "1d86fd13",
   "metadata": {},
   "source": [
    "### PopulationChange - GrowthPrediction2020_2050"
   ]
  },
  {
   "cell_type": "markdown",
   "id": "7e177c50",
   "metadata": {},
   "source": [
    "### Death Datasets"
   ]
  },
  {
   "cell_type": "markdown",
   "id": "dbc0e21b",
   "metadata": {},
   "source": [
    "### Birth Datasets"
   ]
  },
  {
   "cell_type": "markdown",
   "id": "0a7d5df9",
   "metadata": {},
   "source": [
    "<b>Clean Data</b>"
   ]
  },
  {
   "cell_type": "markdown",
   "id": "9f4708db",
   "metadata": {},
   "source": [
    "- lifeExpectency\n",
    "    - lifeExpectencyPerRegion2016_2019 \n",
    "- populationChange\n",
    "    - pop2002_2020\n",
    "    - popOverview\n",
    "    - popComparison2015_2020\n",
    "    - growthPrediction2020_2050\n",
    "    - absoluteNr\n",
    "- death\n",
    "    - reasons1997_2014\n",
    "    - reasons2005_2012\n",
    "    - reasons2013_2020\n",
    "    - perWeek2020_2021\n",
    "- birth\n",
    "    - birthPerYear1899_2018\n",
    "    - avaragesOfMonth"
   ]
  },
  {
   "cell_type": "markdown",
   "id": "b8e06b71",
   "metadata": {},
   "source": [
    "<b>Merge</b>"
   ]
  },
  {
   "cell_type": "code",
   "execution_count": null,
   "id": "11e1c18b",
   "metadata": {},
   "outputs": [],
   "source": [
    "# these are custom classes made to keep the notebook neat.\n",
    "\n"
   ]
  },
  {
   "cell_type": "markdown",
   "id": "3f31f331",
   "metadata": {},
   "source": [
    "<b>Heatmap</b>"
   ]
  },
  {
   "cell_type": "code",
   "execution_count": null,
   "id": "a8ebe4c9",
   "metadata": {},
   "outputs": [],
   "source": []
  }
 ],
 "metadata": {
  "kernelspec": {
   "display_name": "Python 3",
   "language": "python",
   "name": "python3"
  },
  "language_info": {
   "codemirror_mode": {
    "name": "ipython",
    "version": 3
   },
   "file_extension": ".py",
   "mimetype": "text/x-python",
   "name": "python",
   "nbconvert_exporter": "python",
   "pygments_lexer": "ipython3",
   "version": "3.8.8"
  }
 },
 "nbformat": 4,
 "nbformat_minor": 5
}
