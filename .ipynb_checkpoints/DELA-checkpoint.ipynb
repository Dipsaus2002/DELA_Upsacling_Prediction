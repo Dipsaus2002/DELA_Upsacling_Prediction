{
 "cells": [
  {
   "cell_type": "markdown",
   "id": "fb0a21ca",
   "metadata": {},
   "source": [
    "# Notebook Setup"
   ]
  },
  {
   "cell_type": "code",
   "execution_count": 18,
   "id": "de4f1ebb",
   "metadata": {},
   "outputs": [],
   "source": [
    "import matplotlib.pyplot as plt\n",
    "import seaborn as sns"
   ]
  },
  {
   "cell_type": "markdown",
   "id": "9afafc20",
   "metadata": {},
   "source": [
    "# Dela - Predicting the amount of deaths per year"
   ]
  },
  {
   "cell_type": "markdown",
   "id": "75664d22",
   "metadata": {},
   "source": [
    "### 1. Intro\n",
    "<b>Who is our client?</b><br>\n",
    "Our client is Dela. Dela is a funeral insurer and caretaker for funeral services. In this semester, they will give us some inside problems that we can investigate on.<br><br>\n",
    "<b>Project explanation</b><br>\n",
    "Dela was faced with unprecedented challenge by the fluctuating demands during the Covid19 first year, and that way they are looking to enhance their abilities to react to surprising serge or drops in demands.\n",
    "We cannot predict when Dela needs to upscale or downscale. However, we can forecast the amount of deaths in the upcoming years. Based on that knowledge and Dela experience, they can conclude themselves when to upscale or downscale.<br><br>\n",
    "<b>Project goal</b><br>\n",
    "In our project, we are going to forecast the amount of deaths per year. In this way we can help them conclude easier what to do on higher, lower demand.<br><br><br>\n",
    "<b>Document explanation</b><br>\n",
    "In this document there will be the testing and implementation of the project delivered proposal hypothesis. In this document, we will do that by understanding and experimenting with the collected data. After the understanding, we will see if our hypothesis can be validated and we will do that by applying machine learning onto our dataset.<br><br>\n",
    "<b>Document setup:</b><br>\n",
    "<table style=\"font-size: 14px !important; margin: 0 !important\">\n",
    "    <tr>\n",
    "        <th style=\"text-align: left;\">Data requirements</th>\n",
    "        <td style=\"text-align: left;\">In this chapter, we are going to setup the requirements for the data that is needed for the prediction. We will answer questions like ‘Which references are trustworthy?’, ‘Do we need some specific features?’, etc…</td>\n",
    "    </tr>\n",
    "    <tr>\n",
    "        <th style=\"text-align: left;\">Data collection</th>\n",
    "        <td style=\"text-align: left;\">In this chapter, we are going to explain where we found our data, where we are going to store our data and references to he subchapters of each dataset</td>\n",
    "    </tr>\n",
    "    <tr>\n",
    "        <th style=\"text-align: left;\">Data understanding</th>\n",
    "        <td style=\"text-align: left;\">In this chapter, we are going to understand each specific dataset that we downloaded to really understand the value of each dataset and how it is going to bring a value to Dela.</td>\n",
    "    </tr>\n",
    "    <tr>\n",
    "        <th style=\"text-align: left;\">Data preparation</th>\n",
    "        <td style=\"text-align: left;\">In this chapter, we are going to prepare our data so it is clean to work with, think about removing all the data that has invalid records, data that has wrong values or data that has similar features with different names.</td>\n",
    "    </tr>\n",
    "</table>"
   ]
  },
  {
   "cell_type": "markdown",
   "id": "e429ae60",
   "metadata": {},
   "source": [
    "### 2. Provisioning"
   ]
  },
  {
   "cell_type": "markdown",
   "id": "aae53522",
   "metadata": {},
   "source": [
    "### 2.1 Data Requirements\n",
    "In this chapter, we are trying to setup the expectations/ requirements of the data we are going to collect for the provisioning fase."
   ]
  },
  {
   "cell_type": "markdown",
   "id": "271084de",
   "metadata": {},
   "source": [
    "<table style=\"font-size: 14px !important; margin: 0 !important\">\n",
    "    <tr>\n",
    "        <th style=\"text-align: left !important\">Data Domain</th>\n",
    "        <td style=\"text-align: left !important\"></td>\n",
    "    </tr>\n",
    "    <tr>\n",
    "        <th style=\"text-align: left !important\">Data type</th>\n",
    "        <td style=\"text-align: left !important\"></td>\n",
    "    </tr>\n",
    "    <tr>\n",
    "        <th style=\"text-align: left !important\">Target Variable</th>\n",
    "        <td style=\"text-align: left !important\"></td>\n",
    "    </tr>\n",
    "    <tr>\n",
    "        <th style=\"text-align: left !important\">Expected Features</th>\n",
    "        <td style=\"text-align: left !important\"></td>\n",
    "    </tr>\n",
    "</table>"
   ]
  },
  {
   "cell_type": "markdown",
   "id": "1fc8d1a0",
   "metadata": {},
   "source": [
    "### 2.2 Data Collection\n",
    "Because we want to search for data that contains the amount of deaths in the Netherlands, we began searching for an open data bank that is governmental. In this case the data is from a trustworthy source and will higher the chance of a good prediction. That's when we landed on CBS (stands for `Centraal Bureau voor de Statistiek`, translated to English that means  `Central Station of Statistics`). "
   ]
  },
  {
   "cell_type": "markdown",
   "id": "b01e6e97",
   "metadata": {},
   "source": [
    "<table style=\"font-size: 14px !important; margin: 0 !important\">\n",
    "    <tr>\n",
    "        <th style=\"text-align: left !important\">Data Source</th>\n",
    "        <td style=\"text-align: left !important\">We got our data from the official   <a href=\"https://opendata.cbs.nl/statline/portal.html?_la=nl&_catalog=CBS\" target=\"_blank\">CBS</a> Website</td>\n",
    "    </tr>\n",
    "    <tr>\n",
    "        <th style=\"text-align: left !important\">Data Storage</th>\n",
    "        <td style=\"text-align: left !important\">We stored all of our datasets on <a href=\"https://github.com/i454038/AI-car-price-prediction\" target=\"_blank\">Github</a>, so it is globally accessible</td>\n",
    "    </tr>\n",
    "</table>"
   ]
  },
  {
   "cell_type": "markdown",
   "id": "c8226c3e",
   "metadata": {},
   "source": [
    "Load in the datasets from Github"
   ]
  },
  {
   "cell_type": "code",
   "execution_count": 19,
   "id": "fb95f526",
   "metadata": {},
   "outputs": [],
   "source": [
    "# these are custom classes made to keep the notebook neat.\n",
    "from classes.dataImporting import datasetManager\n",
    "\n",
    "datasets = datasetManager.defineDatasets()\n",
    "dataframes = datasetManager.loadDatasets(datasets)"
   ]
  },
  {
   "cell_type": "markdown",
   "id": "18043d12",
   "metadata": {},
   "source": [
    "### 2.3 Data Understanding"
   ]
  },
  {
   "cell_type": "markdown",
   "id": "bb1dbbe5",
   "metadata": {},
   "source": [
    "understand this data"
   ]
  },
  {
   "cell_type": "markdown",
   "id": "983402ea",
   "metadata": {},
   "source": [
    "### 2.4 Data Preperation"
   ]
  },
  {
   "cell_type": "code",
   "execution_count": 20,
   "id": "a97cda98",
   "metadata": {},
   "outputs": [
    {
     "data": {
      "text/html": [
       "<div>\n",
       "<style scoped>\n",
       "    .dataframe tbody tr th:only-of-type {\n",
       "        vertical-align: middle;\n",
       "    }\n",
       "\n",
       "    .dataframe tbody tr th {\n",
       "        vertical-align: top;\n",
       "    }\n",
       "\n",
       "    .dataframe thead th {\n",
       "        text-align: right;\n",
       "    }\n",
       "</style>\n",
       "<table border=\"1\" class=\"dataframe\">\n",
       "  <thead>\n",
       "    <tr style=\"text-align: right;\">\n",
       "      <th></th>\n",
       "      <th>id</th>\n",
       "      <th>Gemeente</th>\n",
       "      <th>Groep_rij</th>\n",
       "      <th>Geslacht</th>\n",
       "      <th>Bij geboorte</th>\n",
       "      <th>Bij geboorte (afwijking tov NL)</th>\n",
       "      <th>Bij 65 jaar</th>\n",
       "      <th>Bij 65 jaar (afwijking tov NL)</th>\n",
       "    </tr>\n",
       "  </thead>\n",
       "  <tbody>\n",
       "    <tr>\n",
       "      <th>0</th>\n",
       "      <td>518</td>\n",
       "      <td>'s-Gravenhage</td>\n",
       "      <td>Levensverwachting</td>\n",
       "      <td>Totaal</td>\n",
       "      <td>80,8</td>\n",
       "      <td>onder, 99% zeker</td>\n",
       "      <td>19,1</td>\n",
       "      <td>onder, 99% zeker</td>\n",
       "    </tr>\n",
       "  </tbody>\n",
       "</table>\n",
       "</div>"
      ],
      "text/plain": [
       "    id       Gemeente          Groep_rij Geslacht Bij geboorte  \\\n",
       "0  518  's-Gravenhage  Levensverwachting   Totaal         80,8   \n",
       "\n",
       "  Bij geboorte (afwijking tov NL) Bij 65 jaar Bij 65 jaar (afwijking tov NL)  \n",
       "0                onder, 99% zeker        19,1               onder, 99% zeker  "
      ]
     },
     "execution_count": 20,
     "metadata": {},
     "output_type": "execute_result"
    }
   ],
   "source": [
    "dataframes['lifeExpectency']['lifeExpectencyPerRegion'].head(1)"
   ]
  },
  {
   "cell_type": "code",
   "execution_count": 21,
   "id": "e4faa39e",
   "metadata": {},
   "outputs": [
    {
     "ename": "AttributeError",
     "evalue": "type object 'datasetManager' has no attribute 'mapFeature'",
     "output_type": "error",
     "traceback": [
      "\u001b[1;31m---------------------------------------------------------------------------\u001b[0m",
      "\u001b[1;31mAttributeError\u001b[0m                            Traceback (most recent call last)",
      "\u001b[1;32m<ipython-input-21-e7f5297ca8ba>\u001b[0m in \u001b[0;36m<module>\u001b[1;34m\u001b[0m\n\u001b[0;32m      1\u001b[0m \u001b[0mdataset\u001b[0m \u001b[1;33m=\u001b[0m \u001b[0mdataframes\u001b[0m\u001b[1;33m[\u001b[0m\u001b[1;34m'populationChange'\u001b[0m\u001b[1;33m]\u001b[0m\u001b[1;33m[\u001b[0m\u001b[1;34m'pop2002_2020'\u001b[0m\u001b[1;33m]\u001b[0m\u001b[1;33m\u001b[0m\u001b[1;33m\u001b[0m\u001b[0m\n\u001b[0;32m      2\u001b[0m \u001b[1;31m# mapping gemeente code to gemeente text\u001b[0m\u001b[1;33m\u001b[0m\u001b[1;33m\u001b[0m\u001b[1;33m\u001b[0m\u001b[0m\n\u001b[1;32m----> 3\u001b[1;33m \u001b[0mdataframes\u001b[0m\u001b[1;33m[\u001b[0m\u001b[1;34m'populationChange'\u001b[0m\u001b[1;33m]\u001b[0m\u001b[1;33m[\u001b[0m\u001b[1;34m'pop2002_2020'\u001b[0m\u001b[1;33m]\u001b[0m \u001b[1;33m=\u001b[0m \u001b[0mdatasetManager\u001b[0m\u001b[1;33m.\u001b[0m\u001b[0mmapFeature\u001b[0m\u001b[1;33m(\u001b[0m\u001b[0mdataset\u001b[0m\u001b[1;33m,\u001b[0m \u001b[1;34m\"RegioS\"\u001b[0m\u001b[1;33m)\u001b[0m\u001b[1;33m\u001b[0m\u001b[1;33m\u001b[0m\u001b[0m\n\u001b[0m\u001b[0;32m      4\u001b[0m \u001b[0mdataframes\u001b[0m\u001b[1;33m[\u001b[0m\u001b[1;34m'populationChange'\u001b[0m\u001b[1;33m]\u001b[0m\u001b[1;33m[\u001b[0m\u001b[1;34m'pop2002_2020'\u001b[0m\u001b[1;33m]\u001b[0m\u001b[1;33m.\u001b[0m\u001b[0mhead\u001b[0m\u001b[1;33m(\u001b[0m\u001b[1;36m1\u001b[0m\u001b[1;33m)\u001b[0m\u001b[1;33m\u001b[0m\u001b[1;33m\u001b[0m\u001b[0m\n",
      "\u001b[1;31mAttributeError\u001b[0m: type object 'datasetManager' has no attribute 'mapFeature'"
     ]
    }
   ],
   "source": [
    "dataset = dataframes['populationChange']['pop2002_2020']\n",
    "# mapping gemeente code to gemeente text\n",
    "dataframes['populationChange']['pop2002_2020'] = datasetManager.mapFeature(dataset, \"RegioS\")\n",
    "dataframes['populationChange']['pop2002_2020'].head(1)"
   ]
  },
  {
   "cell_type": "code",
   "execution_count": null,
   "id": "85fe0187",
   "metadata": {},
   "outputs": [],
   "source": [
    "dataframes['populationChange']['popOverview'].head(1)"
   ]
  },
  {
   "cell_type": "code",
   "execution_count": null,
   "id": "501f2015",
   "metadata": {},
   "outputs": [],
   "source": [
    "dataframes['populationChange']['popComparison2015_2020'].head(1)"
   ]
  },
  {
   "cell_type": "code",
   "execution_count": null,
   "id": "7e734e65",
   "metadata": {},
   "outputs": [],
   "source": [
    "dataframes['populationChange']['growthPrediction2020_2050'].head(1)"
   ]
  },
  {
   "cell_type": "code",
   "execution_count": null,
   "id": "9989abd6",
   "metadata": {},
   "outputs": [],
   "source": [
    "dataframes['populationChange']['absoluteNr'].head(1)"
   ]
  },
  {
   "cell_type": "code",
   "execution_count": null,
   "id": "0e98ff07",
   "metadata": {},
   "outputs": [],
   "source": [
    "dataframes['death']['reasons1997_2014'].head(1)"
   ]
  },
  {
   "cell_type": "code",
   "execution_count": null,
   "id": "6002fb10",
   "metadata": {},
   "outputs": [],
   "source": [
    "dataframes['death']['reasons2005_2012'].head(1)"
   ]
  },
  {
   "cell_type": "code",
   "execution_count": null,
   "id": "80d7459a",
   "metadata": {},
   "outputs": [],
   "source": [
    "dataframes['death']['reasons2013_2020'].head(1)"
   ]
  },
  {
   "cell_type": "code",
   "execution_count": null,
   "id": "2acff409",
   "metadata": {},
   "outputs": [],
   "source": [
    "dataframes['death']['perWeek2020_2021'].head(1)"
   ]
  },
  {
   "cell_type": "code",
   "execution_count": null,
   "id": "21682930",
   "metadata": {},
   "outputs": [],
   "source": [
    "dataframes['birth']['birthPerYear1899_2018'].head(1)"
   ]
  },
  {
   "cell_type": "code",
   "execution_count": null,
   "id": "8aa4aeb8",
   "metadata": {},
   "outputs": [],
   "source": [
    "dataframes['birth']['avaragesOfMonth'].head(1)"
   ]
  },
  {
   "cell_type": "markdown",
   "id": "0b4e9e32",
   "metadata": {},
   "source": [
    "<b>Clean Data</b>"
   ]
  },
  {
   "cell_type": "markdown",
   "id": "205bb74c",
   "metadata": {},
   "source": [
    "- lifeExpectency\n",
    "    - lifeExpectencyPerRegion2016_2019 \n",
    "- populationChange\n",
    "    - pop2002_2020\n",
    "    - popOverview\n",
    "    - popComparison2015_2020\n",
    "    - growthPrediction2020_2050\n",
    "    - absoluteNr\n",
    "- death\n",
    "    - reasons1997_2014\n",
    "    - reasons2005_2012\n",
    "    - reasons2013_2020\n",
    "    - perWeek2020_2021\n",
    "- birth\n",
    "    - birthPerYear1899_2018\n",
    "    - avaragesOfMonth"
   ]
  },
  {
   "cell_type": "markdown",
   "id": "b8e06b71",
   "metadata": {},
   "source": [
    "<b>Merge</b>"
   ]
  },
  {
   "cell_type": "code",
   "execution_count": null,
   "id": "11e1c18b",
   "metadata": {},
   "outputs": [],
   "source": [
    "# these are custom classes made to keep the notebook neat.\n",
    "\n"
   ]
  },
  {
   "cell_type": "markdown",
   "id": "3f31f331",
   "metadata": {},
   "source": [
    "<b>Heatmap</b>"
   ]
  },
  {
   "cell_type": "code",
   "execution_count": null,
   "id": "a8ebe4c9",
   "metadata": {},
   "outputs": [],
   "source": []
  }
 ],
 "metadata": {
  "kernelspec": {
   "display_name": "Python 3",
   "language": "python",
   "name": "python3"
  },
  "language_info": {
   "codemirror_mode": {
    "name": "ipython",
    "version": 3
   },
   "file_extension": ".py",
   "mimetype": "text/x-python",
   "name": "python",
   "nbconvert_exporter": "python",
   "pygments_lexer": "ipython3",
   "version": "3.8.8"
  }
 },
 "nbformat": 4,
 "nbformat_minor": 5
}
